{
 "cells": [
  {
   "cell_type": "markdown",
   "id": "d3b28e83-2c0e-4772-9077-7eacfd3dc40e",
   "metadata": {},
   "source": [
    "# 로컬 개발 코드\n",
    "- 로컬에서 주피터 노트북(Jupyter Notebook), 주피터 랩(JupyterLab) 또는 파이썬(Python)을 이용한다. \n",
    "- 사이킷 런(scikit-learn), 텐서플로우(tensorflow), 파이토치(pytorch)를 사용하여 딥러닝 프로그램을 개발한다.\n",
    "- 파일명: 0_local_Object_Detection.ipynb\n",
    "\n",
    "1. 데이터셋 준비(Data Setup)\n",
    "- 로컬 저장소에서 전처리 및 학습에 필요한 학습 데이터셋을 준비한다.\n",
    "\n",
    "2. 데이터 전처리(Data Preprocessing)\n",
    "- 데이터셋의 분석 및 정규화(Normalization)등의 전처리를 수행한다.\n",
    "- 데이터를 모델 학습에 사용할 수 있도록 가공한다.\n",
    "- 추론과정에서 필요한 경우, 데이터 전처리에 사용된 객체를 meta_data 폴더 아래에 저장한다.\n",
    "\n",
    "3. 학습 모델 훈련(Train Model)\n",
    "- 데이터를 훈련에 사용할 수 있도록 가공한 뒤에 학습 모델을 구성한다. \n",
    "- 학습 모델을 준비된 데이터셋으로 훈련시킨다.\n",
    "- 정확도(Accuracy)나 손실(Loss)등 학습 모델의 성능을 검증한다.\n",
    "- 학습 모델의 성능 검증 후, 학습 모델을 배포한다.\n",
    "- 배포할 학습 모델을 meta_data 폴더 아래에 저장한다.\n",
    "\n",
    "4. 추론(Inference)\n",
    "- 저장된 전처리 객체나 학습 모델 객체를 준비한다.\n",
    "- 추론에 필요한 테스트 데이터셋을 준비한다.\n",
    "- 배포된 학습 모델을 통해 테스트 데이터에 대한 추론을 진행한다. "
   ]
  },
  {
   "cell_type": "markdown",
   "id": "6c31025f-4600-4601-bb76-ed1f6e214a0a",
   "metadata": {},
   "source": []
  },
  {
   "cell_type": "markdown",
   "id": "a1598e00-a10d-4652-b5be-8e8619456048",
   "metadata": {},
   "source": [
    "# 객체 탐지 (Object Detection)\n",
    "- 지금부터 이미지 데이터 이용하여 분류 (classification)을 진행해보고자 한다."
   ]
  },
  {
   "cell_type": "markdown",
   "id": "ead69663-6694-4c4b-a66c-d747f815ac63",
   "metadata": {},
   "source": []
  },
  {
   "cell_type": "markdown",
   "id": "d075d7c8-a227-4d38-b4da-3c89deace610",
   "metadata": {},
   "source": [
    "## 실시간 객체 인식을 통한 이륜차 위험요소 감지 서비스\n",
    "\n",
    "### 사용할 데이터\n",
    "\n",
    "![image](https://user-images.githubusercontent.com/108515200/201014715-95dc2034-8bff-4a5e-835f-65e5d8ef840b.png)\n",
    "\n",
    "- AI Hub에서 제공하는 Open Dataset인 [이륜자동차 안전 위험 시설물 데이터](https://www.aihub.or.kr/aihubdata/data/view.do?currMenu=115&topMenu=100&aihubDataSe=realm&dataSetSn=572)와 Roboflow에서 제공하는 Open Dataset인 [Pothole Dataset](https://public.roboflow.com/object-detection/pothole)이라는 도로 데이터셋으로,\n",
    "\n",
    "- 해당 데이터셋은 단순한 이미지 형태의 데이터셋이 아닌 이미지 파일과 Pytorch Yolo v5 txt 형태의 labeling 파일들로 이루어져있다.\n",
    "\n",
    "- 이미지 데이터셋이 어떻게 txt 형태로 boundingBox되어있는지 확인하고 이해한다.\n",
    "\n",
    "### 사용할 7개의 도로 위험물 카테고리\n",
    "- Pothole on road (포트홀)\n",
    "- Person (사람)\n",
    "- Garbage bag & sacks (쓰레기 봉지)\n",
    "- Construction signs & Parking prohibited board (도로 사인 & 주차금지 표지)\n",
    "- Traffic cone (트래픽콘)\n",
    "- Filled pothole (메워진 포트홀)\n",
    "- Manhole (맨홀)"
   ]
  },
  {
   "cell_type": "code",
   "execution_count": null,
   "id": "00c9179b-0f2c-464d-bb8e-b0be79eebb19",
   "metadata": {},
   "outputs": [],
   "source": [
    "# Imports\n",
    "import zipfile\n",
    "import numpy as np\n",
    "import cv2\n",
    "import pandas as pd\n",
    "%matplotlib inline\n",
    "import matplotlib.pyplot as plt\n",
    "from sklearn.model_selection import train_test_split\n",
    "from keras.utils import np_utils\n",
    "from tensorflow import keras\n",
    "from tensorflow.keras import layers"
   ]
  },
  {
   "cell_type": "code",
   "execution_count": null,
   "id": "2297ad7b-0826-47e5-b9f0-6323a7710eba",
   "metadata": {},
   "outputs": [],
   "source": []
  }
 ],
 "metadata": {
  "kernelspec": {
   "display_name": "PY38",
   "language": "python",
   "name": "py38"
  },
  "language_info": {
   "codemirror_mode": {
    "name": "ipython",
    "version": 3
   },
   "file_extension": ".py",
   "mimetype": "text/x-python",
   "name": "python",
   "nbconvert_exporter": "python",
   "pygments_lexer": "ipython3",
   "version": "3.9.12"
  }
 },
 "nbformat": 4,
 "nbformat_minor": 5
}
