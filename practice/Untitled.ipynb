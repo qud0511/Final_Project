{
 "cells": [
  {
   "cell_type": "code",
   "execution_count": 4,
   "id": "093bed24-4fa4-4dae-bbd1-705901d2bd42",
   "metadata": {},
   "outputs": [],
   "source": [
    "import pandas as pd"
   ]
  },
  {
   "cell_type": "code",
   "execution_count": 6,
   "id": "d9f6034a-a76c-4021-8fd1-cef2d5cbb8a9",
   "metadata": {},
   "outputs": [],
   "source": [
    "total=pd.read_excel('./전체 교통사고 지표 현황.xls')\n",
    "towWheel=pd.read_excel('./이륜차 교통사고 지표 현황.xls')"
   ]
  },
  {
   "cell_type": "code",
   "execution_count": 7,
   "id": "aa444a5e-0856-47ec-91ee-f9401f96a83b",
   "metadata": {},
   "outputs": [
    {
     "data": {
      "text/html": [
       "<div>\n",
       "<style scoped>\n",
       "    .dataframe tbody tr th:only-of-type {\n",
       "        vertical-align: middle;\n",
       "    }\n",
       "\n",
       "    .dataframe tbody tr th {\n",
       "        vertical-align: top;\n",
       "    }\n",
       "\n",
       "    .dataframe thead th {\n",
       "        text-align: right;\n",
       "    }\n",
       "</style>\n",
       "<table border=\"1\" class=\"dataframe\">\n",
       "  <thead>\n",
       "    <tr style=\"text-align: right;\">\n",
       "      <th></th>\n",
       "      <th>연도</th>\n",
       "      <th>발생건수</th>\n",
       "      <th>대형사고</th>\n",
       "      <th>사망자수</th>\n",
       "      <th>치사율(%)</th>\n",
       "    </tr>\n",
       "  </thead>\n",
       "  <tbody>\n",
       "    <tr>\n",
       "      <th>0</th>\n",
       "      <td>NaN</td>\n",
       "      <td>NaN</td>\n",
       "      <td>NaN</td>\n",
       "      <td>NaN</td>\n",
       "      <td>NaN</td>\n",
       "    </tr>\n",
       "    <tr>\n",
       "      <th>1</th>\n",
       "      <td>2015</td>\n",
       "      <td>232035.0</td>\n",
       "      <td>75.0</td>\n",
       "      <td>4621.0</td>\n",
       "      <td>1.99</td>\n",
       "    </tr>\n",
       "    <tr>\n",
       "      <th>2</th>\n",
       "      <td>2016</td>\n",
       "      <td>220917.0</td>\n",
       "      <td>64.0</td>\n",
       "      <td>4292.0</td>\n",
       "      <td>1.94</td>\n",
       "    </tr>\n",
       "    <tr>\n",
       "      <th>3</th>\n",
       "      <td>2017</td>\n",
       "      <td>216335.0</td>\n",
       "      <td>55.0</td>\n",
       "      <td>4185.0</td>\n",
       "      <td>1.93</td>\n",
       "    </tr>\n",
       "    <tr>\n",
       "      <th>4</th>\n",
       "      <td>2018</td>\n",
       "      <td>217148.0</td>\n",
       "      <td>48.0</td>\n",
       "      <td>3781.0</td>\n",
       "      <td>1.74</td>\n",
       "    </tr>\n",
       "    <tr>\n",
       "      <th>5</th>\n",
       "      <td>2019</td>\n",
       "      <td>229600.0</td>\n",
       "      <td>57.0</td>\n",
       "      <td>3349.0</td>\n",
       "      <td>1.46</td>\n",
       "    </tr>\n",
       "    <tr>\n",
       "      <th>6</th>\n",
       "      <td>2020</td>\n",
       "      <td>209654.0</td>\n",
       "      <td>30.0</td>\n",
       "      <td>3081.0</td>\n",
       "      <td>1.47</td>\n",
       "    </tr>\n",
       "    <tr>\n",
       "      <th>7</th>\n",
       "      <td>2021</td>\n",
       "      <td>203130.0</td>\n",
       "      <td>27.0</td>\n",
       "      <td>2916.0</td>\n",
       "      <td>1.44</td>\n",
       "    </tr>\n",
       "    <tr>\n",
       "      <th>8</th>\n",
       "      <td>합계</td>\n",
       "      <td>1513134.0</td>\n",
       "      <td>356.0</td>\n",
       "      <td>26225.0</td>\n",
       "      <td>NaN</td>\n",
       "    </tr>\n",
       "  </tbody>\n",
       "</table>\n",
       "</div>"
      ],
      "text/plain": [
       "     연도       발생건수   대형사고     사망자수  치사율(%)\n",
       "0   NaN        NaN    NaN      NaN     NaN\n",
       "1  2015   232035.0   75.0   4621.0    1.99\n",
       "2  2016   220917.0   64.0   4292.0    1.94\n",
       "3  2017   216335.0   55.0   4185.0    1.93\n",
       "4  2018   217148.0   48.0   3781.0    1.74\n",
       "5  2019   229600.0   57.0   3349.0    1.46\n",
       "6  2020   209654.0   30.0   3081.0    1.47\n",
       "7  2021   203130.0   27.0   2916.0    1.44\n",
       "8    합계  1513134.0  356.0  26225.0     NaN"
      ]
     },
     "execution_count": 7,
     "metadata": {},
     "output_type": "execute_result"
    }
   ],
   "source": [
    "total"
   ]
  },
  {
   "cell_type": "code",
   "execution_count": null,
   "id": "3c41fc1c-bbf9-4a4b-94af-f6c4f7c0cc31",
   "metadata": {},
   "outputs": [],
   "source": []
  }
 ],
 "metadata": {
  "kernelspec": {
   "display_name": "Python 3 (ipykernel)",
   "language": "python",
   "name": "python3"
  },
  "language_info": {
   "codemirror_mode": {
    "name": "ipython",
    "version": 3
   },
   "file_extension": ".py",
   "mimetype": "text/x-python",
   "name": "python",
   "nbconvert_exporter": "python",
   "pygments_lexer": "ipython3",
   "version": "3.9.12"
  }
 },
 "nbformat": 4,
 "nbformat_minor": 5
}
