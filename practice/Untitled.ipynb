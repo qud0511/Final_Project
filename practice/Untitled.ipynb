{
 "cells": [
  {
   "cell_type": "code",
   "execution_count": 21,
   "id": "093bed24-4fa4-4dae-bbd1-705901d2bd42",
   "metadata": {},
   "outputs": [],
   "source": [
    "import pandas as pd\n",
    "import matplotlib.pyplot as plt\n",
    "import seaborn as sns"
   ]
  },
  {
   "cell_type": "code",
   "execution_count": 18,
   "id": "d9f6034a-a76c-4021-8fd1-cef2d5cbb8a9",
   "metadata": {},
   "outputs": [],
   "source": [
    "total=pd.read_csv('../data/전체 교통사고 지표 현황.csv')\n",
    "twoWheel=pd.read_csv('../data/이륜차 교통사고 지표 현황.csv')"
   ]
  },
  {
   "cell_type": "code",
   "execution_count": 19,
   "id": "aa444a5e-0856-47ec-91ee-f9401f96a83b",
   "metadata": {},
   "outputs": [
    {
     "data": {
      "text/html": [
       "<div>\n",
       "<style scoped>\n",
       "    .dataframe tbody tr th:only-of-type {\n",
       "        vertical-align: middle;\n",
       "    }\n",
       "\n",
       "    .dataframe tbody tr th {\n",
       "        vertical-align: top;\n",
       "    }\n",
       "\n",
       "    .dataframe thead th {\n",
       "        text-align: right;\n",
       "    }\n",
       "</style>\n",
       "<table border=\"1\" class=\"dataframe\">\n",
       "  <thead>\n",
       "    <tr style=\"text-align: right;\">\n",
       "      <th></th>\n",
       "      <th>연도</th>\n",
       "      <th>발생건수</th>\n",
       "      <th>대형사고</th>\n",
       "      <th>사망자수</th>\n",
       "      <th>치사율(%)</th>\n",
       "    </tr>\n",
       "  </thead>\n",
       "  <tbody>\n",
       "    <tr>\n",
       "      <th>0</th>\n",
       "      <td>2015</td>\n",
       "      <td>232,035</td>\n",
       "      <td>75</td>\n",
       "      <td>4,621</td>\n",
       "      <td>1.99</td>\n",
       "    </tr>\n",
       "    <tr>\n",
       "      <th>1</th>\n",
       "      <td>2016</td>\n",
       "      <td>220,917</td>\n",
       "      <td>64</td>\n",
       "      <td>4,292</td>\n",
       "      <td>1.94</td>\n",
       "    </tr>\n",
       "    <tr>\n",
       "      <th>2</th>\n",
       "      <td>2017</td>\n",
       "      <td>216,335</td>\n",
       "      <td>55</td>\n",
       "      <td>4,185</td>\n",
       "      <td>1.93</td>\n",
       "    </tr>\n",
       "    <tr>\n",
       "      <th>3</th>\n",
       "      <td>2018</td>\n",
       "      <td>217,148</td>\n",
       "      <td>48</td>\n",
       "      <td>3,781</td>\n",
       "      <td>1.74</td>\n",
       "    </tr>\n",
       "    <tr>\n",
       "      <th>4</th>\n",
       "      <td>2019</td>\n",
       "      <td>229,600</td>\n",
       "      <td>57</td>\n",
       "      <td>3,349</td>\n",
       "      <td>1.46</td>\n",
       "    </tr>\n",
       "    <tr>\n",
       "      <th>5</th>\n",
       "      <td>2020</td>\n",
       "      <td>209,654</td>\n",
       "      <td>30</td>\n",
       "      <td>3,081</td>\n",
       "      <td>1.47</td>\n",
       "    </tr>\n",
       "    <tr>\n",
       "      <th>6</th>\n",
       "      <td>2021</td>\n",
       "      <td>203,130</td>\n",
       "      <td>27</td>\n",
       "      <td>2,916</td>\n",
       "      <td>1.44</td>\n",
       "    </tr>\n",
       "    <tr>\n",
       "      <th>7</th>\n",
       "      <td>합계</td>\n",
       "      <td>1,513,134</td>\n",
       "      <td>356</td>\n",
       "      <td>26,225</td>\n",
       "      <td>11.97</td>\n",
       "    </tr>\n",
       "  </tbody>\n",
       "</table>\n",
       "</div>"
      ],
      "text/plain": [
       "     연도       발생건수  대형사고    사망자수  치사율(%)\n",
       "0  2015    232,035    75   4,621    1.99\n",
       "1  2016    220,917    64   4,292    1.94\n",
       "2  2017    216,335    55   4,185    1.93\n",
       "3  2018    217,148    48   3,781    1.74\n",
       "4  2019    229,600    57   3,349    1.46\n",
       "5  2020    209,654    30   3,081    1.47\n",
       "6  2021    203,130    27   2,916    1.44\n",
       "7    합계  1,513,134   356  26,225   11.97"
      ]
     },
     "execution_count": 19,
     "metadata": {},
     "output_type": "execute_result"
    }
   ],
   "source": []
  },
  {
   "cell_type": "code",
   "execution_count": null,
   "id": "13241fc2-1ff4-4b88-a8e3-fcad5b214abe",
   "metadata": {},
   "outputs": [],
   "source": []
  }
 ],
 "metadata": {
  "kernelspec": {
   "display_name": "Python 3 (ipykernel)",
   "language": "python",
   "name": "python3"
  },
  "language_info": {
   "codemirror_mode": {
    "name": "ipython",
    "version": 3
   },
   "file_extension": ".py",
   "mimetype": "text/x-python",
   "name": "python",
   "nbconvert_exporter": "python",
   "pygments_lexer": "ipython3",
   "version": "3.9.12"
  }
 },
 "nbformat": 4,
 "nbformat_minor": 5
}
