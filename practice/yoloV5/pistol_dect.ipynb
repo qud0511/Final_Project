{
 "cells": [
  {
   "cell_type": "markdown",
   "id": "a66fdba1-c250-4fd9-a15e-be741b4e1d5b",
   "metadata": {},
   "source": [
    "## Module Loading"
   ]
  },
  {
   "cell_type": "code",
   "execution_count": 1,
   "id": "e48d9ca5-b92d-41ff-8855-b44b1f9bce31",
   "metadata": {},
   "outputs": [],
   "source": [
    "from glob import glob"
   ]
  },
  {
   "cell_type": "code",
   "execution_count": 2,
   "id": "4f506395-0403-4e79-96b9-8e1449f55225",
   "metadata": {},
   "outputs": [
    {
     "name": "stdout",
     "output_type": "stream",
     "text": [
      "Image 갯수: 2971\n"
     ]
    }
   ],
   "source": [
    "# 이미지 파일 리스트 생성\n",
    "img_list = glob('/data/pistol/export/images/*.jpg')\n",
    "print(f'Image 갯수: {len(img_list)}')"
   ]
  },
  {
   "cell_type": "code",
   "execution_count": 3,
   "id": "9af7140c-a4f7-4e21-a073-7c085d18305c",
   "metadata": {},
   "outputs": [
    {
     "name": "stdout",
     "output_type": "stream",
     "text": [
      "train_img_list 갯수: 2376, val_img_list 갯수: 595\n"
     ]
    }
   ],
   "source": [
    "# train/validation dataset 분리\n",
    "from sklearn.model_selection import train_test_split\n",
    "\n",
    "train_img_list, val_img_list = train_test_split(img_list,\n",
    "                                                test_size=0.2,\n",
    "                                                random_state=42)\n",
    "print(f'train_img_list 갯수: {len(train_img_list)}, val_img_list 갯수: {len(val_img_list)}')"
   ]
  },
  {
   "cell_type": "code",
   "execution_count": 4,
   "id": "88e0b742-c5a7-4614-87c2-edbf97114fff",
   "metadata": {},
   "outputs": [],
   "source": [
    "# train/val 이미지 경로 txt파일로 저장\n",
    "with open('/data/pistol/train.txt', 'w') as f:\n",
    "    f.write('\\n'.join(train_img_list) + '\\n')\n",
    "\n",
    "with open('/data/pistol/val.txt', 'w') as f:\n",
    "    f.write('\\n'.join(val_img_list) + '\\n')"
   ]
  },
  {
   "cell_type": "code",
   "execution_count": null,
   "id": "a8ad1174-d46d-49e4-8c07-6ac5b87a9a31",
   "metadata": {},
   "outputs": [],
   "source": []
  },
  {
   "cell_type": "code",
   "execution_count": 5,
   "id": "3a539873-102e-4c82-951d-a15bd9b0e2d1",
   "metadata": {},
   "outputs": [
    {
     "name": "stdout",
     "output_type": "stream",
     "text": [
      "data.yaml 파일 정보 : {'train': '../train/images', 'val': '../valid/images', 'nc': 1, 'names': ['pistol']}\n"
     ]
    }
   ],
   "source": [
    "# ymal 파일 정보 확인\n",
    "import yaml\n",
    "\n",
    "with open('/data/pistol/data.yaml', 'r') as f:\n",
    "    data = yaml.full_load(f)\n",
    "\n",
    "print(f'data.yaml 파일 정보 : {data}')"
   ]
  },
  {
   "cell_type": "code",
   "execution_count": 6,
   "id": "2bf08a25-03b5-49cf-b3a1-e32292ea4b17",
   "metadata": {},
   "outputs": [],
   "source": [
    "data['train'] = '/data/pistol/train.txt'\n",
    "data['val'] = '/data/pistol/val.txt'"
   ]
  },
  {
   "cell_type": "code",
   "execution_count": 8,
   "id": "8b2b43a7-76de-4f17-aabe-31ab84ff2a94",
   "metadata": {},
   "outputs": [
    {
     "name": "stdout",
     "output_type": "stream",
     "text": [
      "{'train': '/data/pistol/train.txt', 'val': '/data/pistol/val.txt', 'nc': 1, 'names': ['pistol']}\n"
     ]
    }
   ],
   "source": [
    "with open('/data/pistol/data.yaml', 'w') as f:\n",
    "    yaml.dump(data, f)\n",
    "\n",
    "print(data)"
   ]
  },
  {
   "cell_type": "code",
   "execution_count": 9,
   "id": "2b504d9a-b07a-44c7-811c-7bb3db6f3dd4",
   "metadata": {},
   "outputs": [],
   "source": [
    "import os\n",
    "os.environ['KMP_DUPLICATE_LIB_OK']='True'"
   ]
  },
  {
   "cell_type": "code",
   "execution_count": null,
   "id": "649f6092",
   "metadata": {},
   "outputs": [],
   "source": [
    "! cd C:\\Users\\LG\\Git_PBJ\\yolov5"
   ]
  },
  {
   "cell_type": "code",
   "execution_count": null,
   "id": "a6b52e52-a06c-42e2-95b7-db1496738fdb",
   "metadata": {},
   "outputs": [],
   "source": [
    "! python train.py --img 416 --batch 16 --epochs 50 --data C:\\data\\pistol\\data.yaml --cfg C:\\Users\\LG\\Git_PBJ\\yolov5\\models\\yolov5m.yaml --weights yolov5m.pt --name gun_yolov5m_result"
   ]
  }
 ],
 "metadata": {
  "kernelspec": {
   "display_name": "Python 3.10.7 64-bit",
   "language": "python",
   "name": "python3"
  },
  "language_info": {
   "codemirror_mode": {
    "name": "ipython",
    "version": 3
   },
   "file_extension": ".py",
   "mimetype": "text/x-python",
   "name": "python",
   "nbconvert_exporter": "python",
   "pygments_lexer": "ipython3",
   "version": "3.10.7"
  },
  "vscode": {
   "interpreter": {
    "hash": "146e877987a5ca10c5ba40ec3e7a25002bcba56c71dc1c36e6a7a19a2012e1b9"
   }
  }
 },
 "nbformat": 4,
 "nbformat_minor": 5
}
