{
 "cells": [
  {
   "cell_type": "code",
   "execution_count": 2,
   "metadata": {},
   "outputs": [],
   "source": [
    "# 모듈 로딩\n",
    "from glob import glob"
   ]
  },
  {
   "cell_type": "code",
   "execution_count": 9,
   "metadata": {},
   "outputs": [
    {
     "name": "stdout",
     "output_type": "stream",
     "text": [
      "Image 갯수: 465\n",
      "Image 갯수: 133\n"
     ]
    }
   ],
   "source": [
    "# 이미지 리스트 생성 => train, test, val 이미 나누어져있으므로\n",
    "train_img_list = glob('/data/robo_potHole/train/images/*.jpg')\n",
    "print(f'Image 갯수: {len(train_img_list)}')\n",
    "\n",
    "val_img_list=glob('/data/robo_potHole/valid/images/*.jpg')\n",
    "print(f'Image 갯수: {len(val_img_list)}')"
   ]
  },
  {
   "cell_type": "code",
   "execution_count": 10,
   "metadata": {},
   "outputs": [],
   "source": [
    "# train/val 이미지 경로 txt파일로 저장\n",
    "with open('/data/robo_potHole/train.txt', 'w') as f:\n",
    "    f.write('\\n'.join(train_img_list) + '\\n')\n",
    "    \n",
    "with open('/data/robo_potHole/val.txt', 'w') as f:\n",
    "    f.write('\\n'.join(val_img_list) + '\\n')"
   ]
  },
  {
   "cell_type": "code",
   "execution_count": 11,
   "metadata": {},
   "outputs": [
    {
     "name": "stdout",
     "output_type": "stream",
     "text": [
      "data.yaml 파일 정보 : {'train': '../train/images', 'val': '../valid/images', 'nc': 1, 'names': ['pothole']}\n"
     ]
    }
   ],
   "source": [
    "# ymal 파일 정보 확인\n",
    "import yaml\n",
    "\n",
    "with open('/data/robo_potHole/data.yaml', 'r') as f:\n",
    "    data = yaml.full_load(f)\n",
    "\n",
    "print(f'data.yaml 파일 정보 : {data}')\n",
    "\n",
    "data['train'] = '/data/robo_potHole/train.txt'\n",
    "data['val'] = '/data/robo_potHole/val.txt'"
   ]
  },
  {
   "cell_type": "code",
   "execution_count": 12,
   "metadata": {},
   "outputs": [
    {
     "name": "stdout",
     "output_type": "stream",
     "text": [
      "{'train': '/data/robo_potHole/train.txt', 'val': '/data/robo_potHole/val.txt', 'nc': 1, 'names': ['pothole']}\n"
     ]
    }
   ],
   "source": [
    "with open('/data/robo_potHole/data.yaml', 'w') as f:\n",
    "    yaml.dump(data, f)\n",
    "\n",
    "print(data)"
   ]
  },
  {
   "cell_type": "markdown",
   "metadata": {},
   "source": [
    "## 병준 모델 학습 cmd\n",
    "cd C:\\Users\\LG\\Git_PBJ\\yolov5\n",
    "\n",
    "python train.py --img 416 --batch 16 --epochs 2 --data C:\\data\\robo_potHole\\data.yaml --cfg C:\\Users\\LG\\Git_PBJ\\yolov5\\models\\yolov5s.yaml --weights yolov5s.pt --name potHole_yolov5s_result\n",
    "\n",
    "---"
   ]
  },
  {
   "cell_type": "markdown",
   "metadata": {
    "tags": []
   },
   "source": [
    "## 신민수\n",
    "from IPython.display import Image\n",
    "import os\n",
    "\n",
    "python detect.py --weights /content/drive/MyDrive/ColabNotebooks/KDT_FinalProject/yolov5/runs/train/potholey_yolov5s_results2/weights/best.pt --img 416 --conf 0.3 --source \"포트홀 사고도 속상한데 보험료까지 _ SBS.mp4\"\n",
    "\n",
    "## 임재원\n",
    "python detect.py --source 'C:\\DataScience\\T3Q\\data\\Pothole_dataset\\Pothole_test_2.mp4' --weights C:\\DataScience\\T3Q\\yolo_v5\\runs\\train\\pothole_yolov5s_results\\weights\\best.pt --conf-thres 0.6 --line-thickness 2"
   ]
  },
  {
   "cell_type": "markdown",
   "metadata": {},
   "source": [
    "## 병준\n",
    "python detect.py --source \"C:\\data\\robo_potHole\\test\\images\\img-307_jpg.rf.65a7065124972969c3efbbca04122668.jpg\" --weights C:\\Users\\LG\\Git_PBJ\\yolov5\\runs\\train\\potHole_yolov5s_result\\weights\\best.pt --conf-thres 0.6 --line-thickness 2"
   ]
  },
  {
   "cell_type": "code",
   "execution_count": null,
   "metadata": {},
   "outputs": [],
   "source": []
  }
 ],
 "metadata": {
  "kernelspec": {
   "display_name": "Python 3 (ipykernel)",
   "language": "python",
   "name": "python3"
  },
  "language_info": {
   "codemirror_mode": {
    "name": "ipython",
    "version": 3
   },
   "file_extension": ".py",
   "mimetype": "text/x-python",
   "name": "python",
   "nbconvert_exporter": "python",
   "pygments_lexer": "ipython3",
   "version": "3.9.12"
  },
  "vscode": {
   "interpreter": {
    "hash": "146e877987a5ca10c5ba40ec3e7a25002bcba56c71dc1c36e6a7a19a2012e1b9"
   }
  }
 },
 "nbformat": 4,
 "nbformat_minor": 4
}
