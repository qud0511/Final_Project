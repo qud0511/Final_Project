{
 "cells": [
  {
   "cell_type": "markdown",
   "id": "4779b883-2aa8-4ace-b5f2-7ac89f7f7777",
   "metadata": {},
   "source": [
    "\t도로교통공단, 이륜자동차 사고 감소를 위해 가이드라인 제시\n",
    "    https://www.koroad.or.kr/kp_web/krPrView.do?board_code=GABBS_050&board_num=135086"
   ]
  },
  {
   "cell_type": "code",
   "execution_count": null,
   "id": "44dafacd-9650-46fb-938b-aa2833670199",
   "metadata": {},
   "outputs": [],
   "source": []
  },
  {
   "cell_type": "code",
   "execution_count": null,
   "id": "2799e689-c5b2-4ffa-94e9-a2c47b2cc335",
   "metadata": {},
   "outputs": [],
   "source": []
  }
 ],
 "metadata": {
  "kernelspec": {
   "display_name": "R",
   "language": "R",
   "name": "ir"
  },
  "language_info": {
   "codemirror_mode": "r",
   "file_extension": ".r",
   "mimetype": "text/x-r-source",
   "name": "R",
   "pygments_lexer": "r",
   "version": "4.1.3"
  }
 },
 "nbformat": 4,
 "nbformat_minor": 5
}
