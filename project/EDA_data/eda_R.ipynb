{
 "cells": [
  {
   "cell_type": "code",
   "execution_count": 7,
   "id": "2799e689-c5b2-4ffa-94e9-a2c47b2cc335",
   "metadata": {},
   "outputs": [
    {
     "name": "stdout",
     "output_type": "stream",
     "text": [
      "\n",
      "  There is a binary version available but the source version is later:\n",
      "        binary source needs_compilation\n",
      "ggplot2  3.3.6  3.4.0             FALSE\n",
      "\n"
     ]
    },
    {
     "name": "stderr",
     "output_type": "stream",
     "text": [
      "소스형태의 패키지 'ggplot2'(들)를 설치합니다.\n",
      "\n",
      "\n"
     ]
    }
   ],
   "source": [
    "# install.packages('ggplot2')"
   ]
  },
  {
   "cell_type": "code",
   "execution_count": 9,
   "id": "adbe519b-9365-427b-a316-3b742131c92a",
   "metadata": {},
   "outputs": [],
   "source": [
    "library(ggplot2)"
   ]
  },
  {
   "cell_type": "code",
   "execution_count": 11,
   "id": "6066475e-1fab-4e46-ad63-6fb69d6872ac",
   "metadata": {},
   "outputs": [
    {
     "name": "stderr",
     "output_type": "stream",
     "text": [
      "Warning message in read.table(file = file, header = header, sep = sep, quote = quote, :\n",
      "\"line 1 appears to contain embedded nulls\"\n",
      "Warning message in read.table(file = file, header = header, sep = sep, quote = quote, :\n",
      "\"'./<ec>쟾泥<b4> 援먰넻<ec>궗怨<a0> 吏<ed>몴 <ed>쁽<ed>솴.xls'에서 readTableHeader에 의하여 발견된 완성되지 않은 마지막 라인입니다\"\n",
      "Warning message in read.table(file = file, header = header, sep = sep, quote = quote, :\n",
      "\"line 1 appears to contain embedded nulls\"\n",
      "Warning message in read.table(file = file, header = header, sep = sep, quote = quote, :\n",
      "\"'./<ec>씠瑜쒖감 援먰넻<ec>궗怨<a0> 吏<ed>몴 <ed>쁽<ed>솴.xls'에서 readTableHeader에 의하여 발견된 완성되지 않은 마지막 라인입니다\"\n"
     ]
    }
   ],
   "source": [
    "total<-read.csv('./전체 교통사고 지표 현황.xls')\n",
    "twoWheel<-read.csv('./이륜차 교통사고 지표 현황.xls')"
   ]
  },
  {
   "cell_type": "code",
   "execution_count": 12,
   "id": "ef65f0e4-c4f9-44a0-9b05-072f58a32e5f",
   "metadata": {},
   "outputs": [
    {
     "data": {
      "text/html": [
       "<table class=\"dataframe\">\n",
       "<caption>A data.frame: 0 × 1</caption>\n",
       "<thead>\n",
       "\t<tr><th scope=col>PK...</th></tr>\n",
       "\t<tr><th scope=col>&lt;lgl&gt;</th></tr>\n",
       "</thead>\n",
       "<tbody>\n",
       "</tbody>\n",
       "</table>\n"
      ],
      "text/latex": [
       "A data.frame: 0 × 1\n",
       "\\begin{tabular}{l}\n",
       " PK...\\\\\n",
       " <lgl>\\\\\n",
       "\\hline\n",
       "\\end{tabular}\n"
      ],
      "text/markdown": [
       "\n",
       "A data.frame: 0 × 1\n",
       "\n",
       "| PK... &lt;lgl&gt; |\n",
       "|---|\n",
       "\n"
      ],
      "text/plain": [
       "     PK..."
      ]
     },
     "metadata": {},
     "output_type": "display_data"
    }
   ],
   "source": [
    "total"
   ]
  },
  {
   "cell_type": "code",
   "execution_count": null,
   "id": "41774a92-5258-4033-9256-f3e11b644ae6",
   "metadata": {},
   "outputs": [],
   "source": []
  }
 ],
 "metadata": {
  "kernelspec": {
   "display_name": "R",
   "language": "R",
   "name": "ir"
  },
  "language_info": {
   "codemirror_mode": "r",
   "file_extension": ".r",
   "mimetype": "text/x-r-source",
   "name": "R",
   "pygments_lexer": "r",
   "version": "4.1.3"
  }
 },
 "nbformat": 4,
 "nbformat_minor": 5
}
