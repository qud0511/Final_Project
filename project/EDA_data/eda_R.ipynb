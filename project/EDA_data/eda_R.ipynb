{
 "cells": [
  {
   "cell_type": "code",
   "execution_count": 6,
   "id": "2799e689-c5b2-4ffa-94e9-a2c47b2cc335",
   "metadata": {},
   "outputs": [],
   "source": [
    "# install.packages('ggplot2')\n",
    "# install.packages(\"readxl\")"
   ]
  },
  {
   "cell_type": "code",
   "execution_count": 7,
   "id": "adbe519b-9365-427b-a316-3b742131c92a",
   "metadata": {},
   "outputs": [],
   "source": [
    "library(ggplot2)"
   ]
  },
  {
   "cell_type": "code",
   "execution_count": 10,
   "id": "6066475e-1fab-4e46-ad63-6fb69d6872ac",
   "metadata": {},
   "outputs": [
    {
     "ename": "ERROR",
     "evalue": "Error in read.table(file = file, header = header, sep = sep, quote = quote, : more columns than column names\n",
     "output_type": "error",
     "traceback": [
      "Error in read.table(file = file, header = header, sep = sep, quote = quote, : more columns than column names\nTraceback:\n",
      "1. read.csv(\"./전체 교통사고 지표 현황.csv\")",
      "2. read.table(file = file, header = header, sep = sep, quote = quote, \n .     dec = dec, fill = fill, comment.char = comment.char, ...)",
      "3. stop(\"more columns than column names\")"
     ]
    }
   ],
   "source": [
    "total<-read.csv('./전체 교통사고 지표 현황.csv')\n",
    "twoWheel<-read.csv('./이륜차 교통사고 지표 현황.csv')"
   ]
  },
  {
   "cell_type": "code",
   "execution_count": 11,
   "id": "ef65f0e4-c4f9-44a0-9b05-072f58a32e5f",
   "metadata": {},
   "outputs": [
    {
     "data": {
      "text/html": [
       "<table class=\"dataframe\">\n",
       "<caption>A data.frame: 0 × 1</caption>\n",
       "<thead>\n",
       "\t<tr><th scope=col>PK...</th></tr>\n",
       "\t<tr><th scope=col>&lt;lgl&gt;</th></tr>\n",
       "</thead>\n",
       "<tbody>\n",
       "</tbody>\n",
       "</table>\n"
      ],
      "text/latex": [
       "A data.frame: 0 × 1\n",
       "\\begin{tabular}{l}\n",
       " PK...\\\\\n",
       " <lgl>\\\\\n",
       "\\hline\n",
       "\\end{tabular}\n"
      ],
      "text/markdown": [
       "\n",
       "A data.frame: 0 × 1\n",
       "\n",
       "| PK... &lt;lgl&gt; |\n",
       "|---|\n",
       "\n"
      ],
      "text/plain": [
       "     PK..."
      ]
     },
     "metadata": {},
     "output_type": "display_data"
    }
   ],
   "source": [
    "total"
   ]
  },
  {
   "cell_type": "code",
   "execution_count": null,
   "id": "41774a92-5258-4033-9256-f3e11b644ae6",
   "metadata": {},
   "outputs": [],
   "source": []
  }
 ],
 "metadata": {
  "kernelspec": {
   "display_name": "R",
   "language": "R",
   "name": "ir"
  },
  "language_info": {
   "codemirror_mode": "r",
   "file_extension": ".r",
   "mimetype": "text/x-r-source",
   "name": "R",
   "pygments_lexer": "r",
   "version": "4.1.3"
  }
 },
 "nbformat": 4,
 "nbformat_minor": 5
}
