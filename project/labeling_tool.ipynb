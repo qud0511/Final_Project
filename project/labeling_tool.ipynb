{
 "cells": [
  {
   "cell_type": "markdown",
   "id": "1ecb9d37-e04f-4128-8993-a3b48452064a",
   "metadata": {},
   "source": [
    "https://byul91oh.tistory.com/130\n",
    "\n",
    "## 데이터 라벨링이란?\n",
    "- 머신러닝이나 딥러닝 모델링 작업 전에 학습 데이터에 특정 값을 부여 해주는 것"
   ]
  },
  {
   "cell_type": "code",
   "execution_count": null,
   "id": "5c505e86-57ce-4ddd-a870-a6fb2f50302a",
   "metadata": {},
   "outputs": [],
   "source": []
  }
 ],
 "metadata": {
  "kernelspec": {
   "display_name": "Python 3 (ipykernel)",
   "language": "python",
   "name": "python3"
  },
  "language_info": {
   "codemirror_mode": {
    "name": "ipython",
    "version": 3
   },
   "file_extension": ".py",
   "mimetype": "text/x-python",
   "name": "python",
   "nbconvert_exporter": "python",
   "pygments_lexer": "ipython3",
   "version": "3.9.12"
  }
 },
 "nbformat": 4,
 "nbformat_minor": 5
}
