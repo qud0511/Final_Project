{
 "cells": [
  {
   "cell_type": "code",
   "execution_count": 36,
   "metadata": {},
   "outputs": [],
   "source": [
    "# import logging\n",
    "# logging.getLogger().setLevel(logging.CRITICAL)\n",
    "# # !pip install pylabel > /dev/null"
   ]
  },
  {
   "cell_type": "code",
   "execution_count": 37,
   "metadata": {},
   "outputs": [],
   "source": [
    "from pylabel import importer"
   ]
  },
  {
   "cell_type": "code",
   "execution_count": 38,
   "metadata": {},
   "outputs": [],
   "source": [
    "path_to_annotations = \"../data/downsample_data/Annotations/V2F_HY_9148_20201221_111302_E_CH0_Seoul_Sun_Mainroad_Day_97331_BBOX.json\"\n",
    "path_to_images = \"../data/downsample_data/Images/V2F_HY_9147_20201102_081931_E_CH0_Seoul_Sun_Mainroad_Day_72590.png\""
   ]
  },
  {
   "cell_type": "code",
   "execution_count": null,
   "metadata": {},
   "outputs": [
    {
     "data": {
      "text/html": [
       "<div>\n",
       "<style scoped>\n",
       "    .dataframe tbody tr th:only-of-type {\n",
       "        vertical-align: middle;\n",
       "    }\n",
       "\n",
       "    .dataframe tbody tr th {\n",
       "        vertical-align: top;\n",
       "    }\n",
       "\n",
       "    .dataframe thead th {\n",
       "        text-align: right;\n",
       "    }\n",
       "</style>\n",
       "<table border=\"1\" class=\"dataframe\">\n",
       "  <thead>\n",
       "    <tr style=\"text-align: right;\">\n",
       "      <th></th>\n",
       "      <th>img_folder</th>\n",
       "      <th>img_filename</th>\n",
       "      <th>img_path</th>\n",
       "      <th>img_id</th>\n",
       "      <th>img_width</th>\n",
       "      <th>img_height</th>\n",
       "      <th>img_depth</th>\n",
       "      <th>ann_segmented</th>\n",
       "      <th>ann_bbox_xmin</th>\n",
       "      <th>ann_bbox_ymin</th>\n",
       "      <th>...</th>\n",
       "      <th>ann_segmentation</th>\n",
       "      <th>ann_iscrowd</th>\n",
       "      <th>ann_pose</th>\n",
       "      <th>ann_truncated</th>\n",
       "      <th>ann_difficult</th>\n",
       "      <th>cat_id</th>\n",
       "      <th>cat_name</th>\n",
       "      <th>cat_supercategory</th>\n",
       "      <th>split</th>\n",
       "      <th>annotated</th>\n",
       "    </tr>\n",
       "    <tr>\n",
       "      <th>id</th>\n",
       "      <th></th>\n",
       "      <th></th>\n",
       "      <th></th>\n",
       "      <th></th>\n",
       "      <th></th>\n",
       "      <th></th>\n",
       "      <th></th>\n",
       "      <th></th>\n",
       "      <th></th>\n",
       "      <th></th>\n",
       "      <th></th>\n",
       "      <th></th>\n",
       "      <th></th>\n",
       "      <th></th>\n",
       "      <th></th>\n",
       "      <th></th>\n",
       "      <th></th>\n",
       "      <th></th>\n",
       "      <th></th>\n",
       "      <th></th>\n",
       "      <th></th>\n",
       "    </tr>\n",
       "  </thead>\n",
       "  <tbody>\n",
       "    <tr>\n",
       "      <th>0</th>\n",
       "      <td>../data/downsample_data/Images/V2F_HY_9147_202...</td>\n",
       "      <td>V2F_HY_9147_20201102_081931_E_CH0_Seoul_Sun_Ma...</td>\n",
       "      <td></td>\n",
       "      <td>1</td>\n",
       "      <td>1281</td>\n",
       "      <td>720</td>\n",
       "      <td></td>\n",
       "      <td></td>\n",
       "      <td>1005.171501</td>\n",
       "      <td>295.725438</td>\n",
       "      <td>...</td>\n",
       "      <td>[]</td>\n",
       "      <td></td>\n",
       "      <td></td>\n",
       "      <td></td>\n",
       "      <td></td>\n",
       "      <td>10</td>\n",
       "      <td>Manhole</td>\n",
       "      <td></td>\n",
       "      <td></td>\n",
       "      <td>1</td>\n",
       "    </tr>\n",
       "  </tbody>\n",
       "</table>\n",
       "<p>1 rows × 25 columns</p>\n",
       "</div>"
      ],
      "text/plain": [
       "                                           img_folder  \\\n",
       "id                                                      \n",
       "0   ../data/downsample_data/Images/V2F_HY_9147_202...   \n",
       "\n",
       "                                         img_filename img_path  img_id  \\\n",
       "id                                                                       \n",
       "0   V2F_HY_9147_20201102_081931_E_CH0_Seoul_Sun_Ma...                1   \n",
       "\n",
       "    img_width  img_height img_depth ann_segmented  ann_bbox_xmin  \\\n",
       "id                                                                 \n",
       "0        1281         720                            1005.171501   \n",
       "\n",
       "    ann_bbox_ymin  ...  ann_segmentation  ann_iscrowd  ann_pose  \\\n",
       "id                 ...                                            \n",
       "0      295.725438  ...                []                          \n",
       "\n",
       "    ann_truncated  ann_difficult cat_id cat_name cat_supercategory split  \\\n",
       "id                                                                         \n",
       "0                                    10  Manhole                           \n",
       "\n",
       "   annotated  \n",
       "id            \n",
       "0          1  \n",
       "\n",
       "[1 rows x 25 columns]"
      ]
     },
     "execution_count": 39,
     "metadata": {},
     "output_type": "execute_result"
    }
   ],
   "source": [
    "#Import the dataset into the pylable schema \n",
    "dataset = importer.ImportCoco(path_to_annotations, path_to_images= path_to_images, name=\"BCCD_coco\")\n",
    "dataset.df.head(5)"
   ]
  },
  {
   "cell_type": "code",
   "execution_count": 40,
   "metadata": {},
   "outputs": [
    {
     "name": "stdout",
     "output_type": "stream",
     "text": [
      "<class 'pandas.core.frame.DataFrame'>\n",
      "Int64Index: 1 entries, 0 to 0\n",
      "Data columns (total 25 columns):\n",
      " #   Column             Non-Null Count  Dtype  \n",
      "---  ------             --------------  -----  \n",
      " 0   img_folder         1 non-null      object \n",
      " 1   img_filename       1 non-null      object \n",
      " 2   img_path           1 non-null      object \n",
      " 3   img_id             1 non-null      int64  \n",
      " 4   img_width          1 non-null      int32  \n",
      " 5   img_height         1 non-null      int32  \n",
      " 6   img_depth          1 non-null      object \n",
      " 7   ann_segmented      1 non-null      object \n",
      " 8   ann_bbox_xmin      1 non-null      float64\n",
      " 9   ann_bbox_ymin      1 non-null      float64\n",
      " 10  ann_bbox_xmax      1 non-null      float64\n",
      " 11  ann_bbox_ymax      1 non-null      float64\n",
      " 12  ann_bbox_width     1 non-null      float64\n",
      " 13  ann_bbox_height    1 non-null      float64\n",
      " 14  ann_area           1 non-null      float64\n",
      " 15  ann_segmentation   1 non-null      object \n",
      " 16  ann_iscrowd        1 non-null      object \n",
      " 17  ann_pose           1 non-null      object \n",
      " 18  ann_truncated      1 non-null      object \n",
      " 19  ann_difficult      1 non-null      object \n",
      " 20  cat_id             1 non-null      object \n",
      " 21  cat_name           1 non-null      object \n",
      " 22  cat_supercategory  1 non-null      object \n",
      " 23  split              1 non-null      object \n",
      " 24  annotated          1 non-null      int64  \n",
      "dtypes: float64(7), int32(2), int64(2), object(14)\n",
      "memory usage: 200.0+ bytes\n"
     ]
    }
   ],
   "source": [
    "dataset.df.info()"
   ]
  },
  {
   "cell_type": "code",
   "execution_count": 41,
   "metadata": {},
   "outputs": [
    {
     "name": "stdout",
     "output_type": "stream",
     "text": [
      "Number of images: 1\n",
      "Number of classes: 1\n",
      "Classes:['Manhole']\n",
      "Class counts:\n",
      "Manhole    1\n",
      "Name: cat_name, dtype: int64\n",
      "Path to annotations:\n",
      "..\\data\\downsample_data\\Annotations\n"
     ]
    }
   ],
   "source": [
    "print(f\"Number of images: {dataset.analyze.num_images}\")\n",
    "print(f\"Number of classes: {dataset.analyze.num_classes}\")\n",
    "print(f\"Classes:{dataset.analyze.classes}\")\n",
    "print(f\"Class counts:\\n{dataset.analyze.class_counts}\")\n",
    "print(f\"Path to annotations:\\n{dataset.path_to_annotations}\")"
   ]
  },
  {
   "cell_type": "code",
   "execution_count": 42,
   "metadata": {},
   "outputs": [],
   "source": [
    "def convert_bbox_coco2yolo(img_width, img_height, bbox):\n",
    "    \"\"\"\n",
    "    Convert bounding box from COCO  format to YOLO format\n",
    "\n",
    "    Parameters\n",
    "    ----------\n",
    "    img_width : int\n",
    "        width of image\n",
    "    img_height : int\n",
    "        height of image\n",
    "    bbox : list[int]\n",
    "        bounding box annotation in COCO format: \n",
    "        [top left x position, top left y position, width, height]\n",
    "\n",
    "    Returns\n",
    "    -------\n",
    "    list[float]\n",
    "        bounding box annotation in YOLO format: \n",
    "        [x_center_rel, y_center_rel, width_rel, height_rel]\n",
    "    \"\"\"\n",
    "    \n",
    "    # YOLO bounding box format: [x_center, y_center, width, height]\n",
    "    # (float values relative to width and height of image)\n",
    "    x_tl, y_tl, w, h = bbox\n",
    "\n",
    "    dw = 1.0 / img_width\n",
    "    dh = 1.0 / img_height\n",
    "\n",
    "    x_center = x_tl + w / 2.0\n",
    "    y_center = y_tl + h / 2.0\n",
    "\n",
    "    x = x_center * dw\n",
    "    y = y_center * dh\n",
    "    w = w * dw\n",
    "    h = h * dh\n",
    "\n",
    "    return [x, y, w, h]"
   ]
  },
  {
   "cell_type": "code",
   "execution_count": 43,
   "metadata": {},
   "outputs": [
    {
     "name": "stdout",
     "output_type": "stream",
     "text": [
      "id\n",
      "0    10\n",
      "Name: cat_id, dtype: object\n",
      "id\n",
      "0    1281\n",
      "Name: img_width, dtype: int32\n",
      "id\n",
      "0    720\n",
      "Name: img_height, dtype: int32\n",
      "id\n",
      "0    1005.171501\n",
      "Name: ann_bbox_xmin, dtype: float64\n",
      "id\n",
      "0    295.725438\n",
      "Name: ann_bbox_ymin, dtype: float64\n",
      "id\n",
      "0    1186.589101\n",
      "Name: ann_bbox_xmax, dtype: float64\n",
      "id\n",
      "0    327.436644\n",
      "Name: ann_bbox_ymax, dtype: float64\n",
      "id\n",
      "0    181.4176\n",
      "Name: ann_bbox_width, dtype: float64\n",
      "id\n",
      "0    31.711207\n",
      "Name: ann_bbox_height, dtype: float64\n"
     ]
    }
   ],
   "source": [
    "print(dataset.df.cat_id)\n",
    "print(dataset.df.img_width)\n",
    "print(dataset.df.img_height)\n",
    "print(dataset.df.ann_bbox_xmin)\n",
    "print(dataset.df.ann_bbox_ymin)\n",
    "print(dataset.df.ann_bbox_xmax)\n",
    "print(dataset.df.ann_bbox_ymax)\n",
    "print(dataset.df.ann_bbox_width)\n",
    "print(dataset.df.ann_bbox_height)\n",
    "\n",
    "result = convert_bbox_coco2yolo(dataset.df.img_width, dataset.df.img_height, [dataset.df.ann_bbox_xmin, dataset.df.ann_bbox_ymin, dataset.df.ann_bbox_width, dataset.df.ann_bbox_height])"
   ]
  },
  {
   "cell_type": "code",
   "execution_count": 44,
   "metadata": {},
   "outputs": [
    {
     "data": {
      "text/plain": [
       "[id\n",
       " 0    0.855488\n",
       " dtype: float64,\n",
       " id\n",
       " 0    0.432751\n",
       " dtype: float64,\n",
       " id\n",
       " 0    0.141622\n",
       " dtype: float64,\n",
       " id\n",
       " 0    0.044043\n",
       " dtype: float64]"
      ]
     },
     "execution_count": 44,
     "metadata": {},
     "output_type": "execute_result"
    }
   ],
   "source": [
    "result"
   ]
  },
  {
   "cell_type": "code",
   "execution_count": null,
   "metadata": {},
   "outputs": [],
   "source": []
  }
 ],
 "metadata": {
  "kernelspec": {
   "display_name": "Python 3.9.12 ('base')",
   "language": "python",
   "name": "python3"
  },
  "language_info": {
   "codemirror_mode": {
    "name": "ipython",
    "version": 3
   },
   "file_extension": ".py",
   "mimetype": "text/x-python",
   "name": "python",
   "nbconvert_exporter": "python",
   "pygments_lexer": "ipython3",
   "version": "3.9.12"
  },
  "orig_nbformat": 4,
  "vscode": {
   "interpreter": {
    "hash": "ad2bdc8ecc057115af97d19610ffacc2b4e99fae6737bb82f5d7fb13d2f2c186"
   }
  }
 },
 "nbformat": 4,
 "nbformat_minor": 2
}
