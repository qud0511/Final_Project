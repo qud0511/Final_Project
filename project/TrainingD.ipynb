{
 "cells": [
  {
   "cell_type": "code",
   "execution_count": 1,
   "id": "73703036-7c1e-46fa-a30f-2845237f90dc",
   "metadata": {},
   "outputs": [],
   "source": [
    "# 모듈 로딩\n",
    "from glob import glob"
   ]
  },
  {
   "cell_type": "code",
   "execution_count": 3,
   "id": "8b373c11-514f-4944-88a6-aa9375b6aef8",
   "metadata": {},
   "outputs": [
    {
     "name": "stdout",
     "output_type": "stream",
     "text": [
      "Image 갯수: 2303\n"
     ]
    }
   ],
   "source": [
    "# 이미지 리스트 생성 => train, test, val 이미 나누어져있으므로\n",
    "img_list = glob('/data/TrainingData/folder1/Images/*.png')\n",
    "print(f'Image 갯수: {len(img_list)}')"
   ]
  },
  {
   "cell_type": "code",
   "execution_count": 4,
   "id": "ec7c7dc7-235a-4cec-b7e8-e65d9f68c0a6",
   "metadata": {},
   "outputs": [
    {
     "name": "stdout",
     "output_type": "stream",
     "text": [
      "train_img_list 갯수: 1842, val_img_list 갯수: 461\n"
     ]
    }
   ],
   "source": [
    "# train/validation dataset 분리\n",
    "from sklearn.model_selection import train_test_split\n",
    "\n",
    "train_img_list, val_img_list = train_test_split(img_list,\n",
    "                                                test_size=0.2,\n",
    "                                                random_state=42)\n",
    "print(f'train_img_list 갯수: {len(train_img_list)}, val_img_list 갯수: {len(val_img_list)}')"
   ]
  },
  {
   "cell_type": "code",
   "execution_count": 5,
   "id": "a22c1fa6-be38-4691-81c5-00a79653f85e",
   "metadata": {},
   "outputs": [],
   "source": [
    "# train/val 이미지 경로 txt파일로 저장\n",
    "with open('/data/TrainingData/folder1/train.txt', 'w') as f:\n",
    "    f.write('\\n'.join(train_img_list) + '\\n')\n",
    "\n",
    "with open('/data/TrainingData/folder1/val.txt', 'w') as f:\n",
    "    f.write('\\n'.join(val_img_list) + '\\n')"
   ]
  },
  {
   "cell_type": "code",
   "execution_count": null,
   "id": "f4efedd9-c58d-4317-b2ca-082611004dd0",
   "metadata": {},
   "outputs": [],
   "source": []
  },
  {
   "cell_type": "code",
   "execution_count": null,
   "id": "f837e5af-4c9a-4252-9482-b0b272a5af51",
   "metadata": {},
   "outputs": [],
   "source": []
  },
  {
   "cell_type": "code",
   "execution_count": null,
   "id": "efed928d-f7fb-4a07-a7de-af53a943326e",
   "metadata": {},
   "outputs": [],
   "source": []
  },
  {
   "cell_type": "code",
   "execution_count": null,
   "id": "70038a35-2bab-43d1-8afa-4fe3c04dc403",
   "metadata": {},
   "outputs": [],
   "source": []
  },
  {
   "cell_type": "markdown",
   "id": "5ae6b74c-1a3e-40c9-bf0d-8ddef5043212",
   "metadata": {},
   "source": [
    "## 병준 모델 학습 cmd\n",
    "cd C:\\Users\\LG\\Git_PBJ\\yolov5\n",
    "\n",
    "python train.py --img 416 --batch 16 --epochs 2 --data C:\\data\\robo_potHole\\data.yaml --cfg C:\\Users\\LG\\Git_PBJ\\yolov5\\models\\yolov5s.yaml --weights yolov5s.pt --name potHole_yolov5s_result"
   ]
  },
  {
   "cell_type": "code",
   "execution_count": null,
   "id": "21e30515-7448-44ea-8daf-ce12f21b20cd",
   "metadata": {},
   "outputs": [],
   "source": []
  },
  {
   "cell_type": "markdown",
   "id": "21fc2fd4-f6c2-4622-93da-2de2c6bb75b2",
   "metadata": {},
   "source": [
    "## json to txt\n",
    "- pip install aspose-cells"
   ]
  },
  {
   "cell_type": "code",
   "execution_count": 6,
   "id": "85603f39-a468-4bbc-aa94-a01af59c50e6",
   "metadata": {},
   "outputs": [
    {
     "name": "stdout",
     "output_type": "stream",
     "text": [
      "Collecting aspose-cells\n",
      "  Downloading aspose-cells-22.11.0.tar.gz (12.3 MB)\n",
      "Collecting JPype1>=1.2.1\n",
      "  Downloading JPype1-1.4.1-cp39-cp39-win_amd64.whl (345 kB)\n",
      "Requirement already satisfied: packaging in c:\\programdata\\anaconda3\\lib\\site-packages (from JPype1>=1.2.1->aspose-cells) (21.3)\n",
      "Requirement already satisfied: pyparsing!=3.0.5,>=2.0.2 in c:\\programdata\\anaconda3\\lib\\site-packages (from packaging->JPype1>=1.2.1->aspose-cells) (3.0.4)\n",
      "Building wheels for collected packages: aspose-cells\n",
      "  Building wheel for aspose-cells (setup.py): started\n",
      "  Building wheel for aspose-cells (setup.py): finished with status 'done'\n",
      "  Created wheel for aspose-cells: filename=aspose_cells-22.11.0-py3-none-any.whl size=12231595 sha256=b5727dd1e9b7b7bef139210eb874fd9a54d8bfe2c6f1d99202d77b26f232a2d3\n",
      "  Stored in directory: c:\\users\\lg\\appdata\\local\\pip\\cache\\wheels\\9d\\b2\\d1\\5b0522efad6ebbafe30c13a330f367457547adbf5a72e0e063\n",
      "Successfully built aspose-cells\n",
      "Installing collected packages: JPype1, aspose-cells\n",
      "Successfully installed JPype1-1.4.1 aspose-cells-22.11.0\n"
     ]
    }
   ],
   "source": [
    "# ! pip install aspose-cells"
   ]
  },
  {
   "cell_type": "code",
   "execution_count": 17,
   "id": "c83e6d37-eb62-4f92-8c26-00e064a3252a",
   "metadata": {},
   "outputs": [
    {
     "ename": "OSError",
     "evalue": "JVM cannot be restarted",
     "output_type": "error",
     "traceback": [
      "\u001b[1;31m---------------------------------------------------------------------------\u001b[0m",
      "\u001b[1;31mOSError\u001b[0m                                   Traceback (most recent call last)",
      "Input \u001b[1;32mIn [17]\u001b[0m, in \u001b[0;36m<cell line: 3>\u001b[1;34m()\u001b[0m\n\u001b[0;32m      1\u001b[0m \u001b[38;5;28;01mimport\u001b[39;00m \u001b[38;5;21;01mjpype\u001b[39;00m\n\u001b[0;32m      2\u001b[0m \u001b[38;5;28;01mimport\u001b[39;00m \u001b[38;5;21;01masposecells\u001b[39;00m\n\u001b[1;32m----> 3\u001b[0m \u001b[43mjpype\u001b[49m\u001b[38;5;241;43m.\u001b[39;49m\u001b[43mstartJVM\u001b[49m\u001b[43m(\u001b[49m\u001b[43m)\u001b[49m\n\u001b[0;32m      4\u001b[0m \u001b[38;5;28;01mfrom\u001b[39;00m \u001b[38;5;21;01masposecells\u001b[39;00m\u001b[38;5;21;01m.\u001b[39;00m\u001b[38;5;21;01mapi\u001b[39;00m \u001b[38;5;28;01mimport\u001b[39;00m Workbook, FileFormatType, TxtSaveOptions\n",
      "File \u001b[1;32mC:\\ProgramData\\Anaconda3\\lib\\site-packages\\jpype\\_core.py:169\u001b[0m, in \u001b[0;36mstartJVM\u001b[1;34m(*args, **kwargs)\u001b[0m\n\u001b[0;32m    167\u001b[0m \u001b[38;5;28;01mglobal\u001b[39;00m _JVM_started\n\u001b[0;32m    168\u001b[0m \u001b[38;5;28;01mif\u001b[39;00m _JVM_started:\n\u001b[1;32m--> 169\u001b[0m     \u001b[38;5;28;01mraise\u001b[39;00m \u001b[38;5;167;01mOSError\u001b[39;00m(\u001b[38;5;124m'\u001b[39m\u001b[38;5;124mJVM cannot be restarted\u001b[39m\u001b[38;5;124m'\u001b[39m)\n\u001b[0;32m    171\u001b[0m args \u001b[38;5;241m=\u001b[39m \u001b[38;5;28mlist\u001b[39m(args)\n\u001b[0;32m    173\u001b[0m \u001b[38;5;66;03m# JVM path\u001b[39;00m\n",
      "\u001b[1;31mOSError\u001b[0m: JVM cannot be restarted"
     ]
    }
   ],
   "source": [
    "import jpype\n",
    "import asposecells\n",
    "jpype.startJVM()\n",
    "from asposecells.api import Workbook, FileFormatType, TxtSaveOptions"
   ]
  },
  {
   "cell_type": "code",
   "execution_count": 14,
   "id": "b56f57e6-3df3-4216-adaf-3b785694bc55",
   "metadata": {},
   "outputs": [
    {
     "ename": "JVMNotRunning",
     "evalue": "Java Virtual Machine is not running\n",
     "output_type": "error",
     "traceback": [
      "\u001b[1;31m---------------------------------------------------------------------------\u001b[0m",
      "\u001b[1;31mJVMNotRunning\u001b[0m                             Traceback (most recent call last)",
      "Input \u001b[1;32mIn [14]\u001b[0m, in \u001b[0;36m<cell line: 1>\u001b[1;34m()\u001b[0m\n\u001b[1;32m----> 1\u001b[0m workbook \u001b[38;5;241m=\u001b[39m \u001b[43mWorkbook\u001b[49m\u001b[43m(\u001b[49m\u001b[38;5;124;43m\"\u001b[39;49m\u001b[38;5;124;43m/data/TrainingData/folder1/Annotations/V2F_HY_9147_20201102_081931_E_CH0_Seoul_Sun_Mainroad_Day_72590_BBOX.json\u001b[39;49m\u001b[38;5;124;43m\"\u001b[39;49m\u001b[43m)\u001b[49m\n\u001b[0;32m      2\u001b[0m saveOptions \u001b[38;5;241m=\u001b[39m TxtSaveOptions()\n\u001b[0;32m      3\u001b[0m \u001b[38;5;66;03m# saveOptions.setOnePagePerSheet(True)\u001b[39;00m\n",
      "\u001b[1;31mJVMNotRunning\u001b[0m: Java Virtual Machine is not running\n"
     ]
    }
   ],
   "source": [
    "workbook = Workbook(\"/data/TrainingData/folder1/Annotations/V2F_HY_9147_20201102_081931_E_CH0_Seoul_Sun_Mainroad_Day_72590_BBOX.json\")\n",
    "saveOptions = TxtSaveOptions()\n",
    "# saveOptions.setOnePagePerSheet(True)\n",
    "workbook.save(\"/data/TrainingData/folder1/txt/V2F_HY_9147_20201102_081931_E_CH0_Seoul_Sun_Mainroad_Day_72590_BBOX.txt\", saveOptions)\n",
    "\n",
    "# jpype.shutdownJVM()"
   ]
  },
  {
   "cell_type": "code",
   "execution_count": null,
   "id": "0750f6da-63b0-4cb9-b145-faa451d43303",
   "metadata": {},
   "outputs": [],
   "source": []
  }
 ],
 "metadata": {
  "kernelspec": {
   "display_name": "Python 3 (ipykernel)",
   "language": "python",
   "name": "python3"
  },
  "language_info": {
   "codemirror_mode": {
    "name": "ipython",
    "version": 3
   },
   "file_extension": ".py",
   "mimetype": "text/x-python",
   "name": "python",
   "nbconvert_exporter": "python",
   "pygments_lexer": "ipython3",
   "version": "3.9.12"
  }
 },
 "nbformat": 4,
 "nbformat_minor": 5
}
