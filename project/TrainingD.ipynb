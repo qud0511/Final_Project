{
 "cells": [
  {
   "cell_type": "code",
   "execution_count": 1,
   "id": "73703036-7c1e-46fa-a30f-2845237f90dc",
   "metadata": {},
   "outputs": [],
   "source": [
    "# 모듈 로딩\n",
    "from glob import glob"
   ]
  },
  {
   "cell_type": "code",
   "execution_count": 3,
   "id": "8b373c11-514f-4944-88a6-aa9375b6aef8",
   "metadata": {},
   "outputs": [
    {
     "name": "stdout",
     "output_type": "stream",
     "text": [
      "Image 갯수: 2303\n"
     ]
    }
   ],
   "source": [
    "# 이미지 리스트 생성 => train, test, val 이미 나누어져있으므로\n",
    "img_list = glob('/data/TrainingData/folder1/Images/*.png')\n",
    "print(f'Image 갯수: {len(img_list)}')"
   ]
  },
  {
   "cell_type": "code",
   "execution_count": 4,
   "id": "ec7c7dc7-235a-4cec-b7e8-e65d9f68c0a6",
   "metadata": {},
   "outputs": [
    {
     "name": "stdout",
     "output_type": "stream",
     "text": [
      "train_img_list 갯수: 1842, val_img_list 갯수: 461\n"
     ]
    }
   ],
   "source": [
    "# train/validation dataset 분리\n",
    "from sklearn.model_selection import train_test_split\n",
    "\n",
    "train_img_list, val_img_list = train_test_split(img_list,\n",
    "                                                test_size=0.2,\n",
    "                                                random_state=42)\n",
    "print(f'train_img_list 갯수: {len(train_img_list)}, val_img_list 갯수: {len(val_img_list)}')"
   ]
  },
  {
   "cell_type": "code",
   "execution_count": 5,
   "id": "a22c1fa6-be38-4691-81c5-00a79653f85e",
   "metadata": {},
   "outputs": [],
   "source": [
    "# train/val 이미지 경로 txt파일로 저장\n",
    "with open('/data/TrainingData/folder1/train.txt', 'w') as f:\n",
    "    f.write('\\n'.join(train_img_list) + '\\n')\n",
    "\n",
    "with open('/data/TrainingData/folder1/val.txt', 'w') as f:\n",
    "    f.write('\\n'.join(val_img_list) + '\\n')"
   ]
  },
  {
   "cell_type": "code",
   "execution_count": null,
   "id": "f4efedd9-c58d-4317-b2ca-082611004dd0",
   "metadata": {},
   "outputs": [],
   "source": []
  },
  {
   "cell_type": "code",
   "execution_count": null,
   "id": "f837e5af-4c9a-4252-9482-b0b272a5af51",
   "metadata": {},
   "outputs": [],
   "source": []
  },
  {
   "cell_type": "code",
   "execution_count": null,
   "id": "adcdbcdf-2cbb-4595-ae67-d1594c68ad36",
   "metadata": {},
   "outputs": [],
   "source": [
    "# ymal 파일 정보 확인\n",
    "import yaml\n",
    "\n",
    "with open('/data/pistol/data.yaml', 'r') as f:\n",
    "    data = yaml.full_load(f)\n",
    "\n",
    "print(f'data.yaml 파일 정보 : {data}')"
   ]
  },
  {
   "cell_type": "code",
   "execution_count": null,
   "id": "efed928d-f7fb-4a07-a7de-af53a943326e",
   "metadata": {},
   "outputs": [],
   "source": []
  },
  {
   "cell_type": "code",
   "execution_count": null,
   "id": "70038a35-2bab-43d1-8afa-4fe3c04dc403",
   "metadata": {},
   "outputs": [],
   "source": []
  },
  {
   "cell_type": "markdown",
   "id": "5ae6b74c-1a3e-40c9-bf0d-8ddef5043212",
   "metadata": {},
   "source": [
    "## 병준 모델 학습 cmd\n",
    "cd C:\\Users\\LG\\Git_PBJ\\yolov5\n",
    "\n",
    "python train.py --img 416 --batch 16 --epochs 2 --data C:\\data\\robo_potHole\\data.yaml --cfg C:\\Users\\LG\\Git_PBJ\\yolov5\\models\\yolov5s.yaml --weights yolov5s.pt --name potHole_yolov5s_result"
   ]
  }
 ],
 "metadata": {
  "kernelspec": {
   "display_name": "Python 3 (ipykernel)",
   "language": "python",
   "name": "python3"
  },
  "language_info": {
   "codemirror_mode": {
    "name": "ipython",
    "version": 3
   },
   "file_extension": ".py",
   "mimetype": "text/x-python",
   "name": "python",
   "nbconvert_exporter": "python",
   "pygments_lexer": "ipython3",
   "version": "3.9.12"
  }
 },
 "nbformat": 4,
 "nbformat_minor": 5
}
