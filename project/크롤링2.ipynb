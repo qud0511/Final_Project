{
 "cells": [
  {
   "cell_type": "code",
   "execution_count": 6,
   "id": "bc174017-482a-4f89-ae13-42c05a250144",
   "metadata": {},
   "outputs": [],
   "source": [
    "import os\n",
    "import sys\n",
    "import urllib.request\n",
    "from selenium import webdriver\n",
    "from time import sleep\n",
    "from bs4 import BeautifulSoup"
   ]
  },
  {
   "cell_type": "code",
   "execution_count": 4,
   "id": "56a80fb2-9849-4b5f-bc08-58457337be21",
   "metadata": {
    "collapsed": true,
    "jupyter": {
     "outputs_hidden": true
    },
    "tags": []
   },
   "outputs": [
    {
     "name": "stdout",
     "output_type": "stream",
     "text": [
      "Requirement already satisfied: selenium in c:\\users\\lg\\miniconda3\\lib\\site-packages (4.7.2)\n",
      "Requirement already satisfied: certifi>=2021.10.8 in c:\\users\\lg\\miniconda3\\lib\\site-packages (from selenium) (2022.9.24)\n",
      "Requirement already satisfied: urllib3[socks]~=1.26 in c:\\users\\lg\\miniconda3\\lib\\site-packages (from selenium) (1.26.8)\n",
      "Requirement already satisfied: trio-websocket~=0.9 in c:\\users\\lg\\miniconda3\\lib\\site-packages (from selenium) (0.9.2)\n",
      "Requirement already satisfied: trio~=0.17 in c:\\users\\lg\\miniconda3\\lib\\site-packages (from selenium) (0.22.0)\n",
      "Requirement already satisfied: attrs>=19.2.0 in c:\\users\\lg\\miniconda3\\lib\\site-packages (from trio~=0.17->selenium) (22.1.0)\n",
      "Requirement already satisfied: idna in c:\\users\\lg\\miniconda3\\lib\\site-packages (from trio~=0.17->selenium) (3.3)\n",
      "Requirement already satisfied: async-generator>=1.9 in c:\\users\\lg\\miniconda3\\lib\\site-packages (from trio~=0.17->selenium) (1.10)\n",
      "Requirement already satisfied: sniffio in c:\\users\\lg\\miniconda3\\lib\\site-packages (from trio~=0.17->selenium) (1.2.0)\n",
      "Requirement already satisfied: exceptiongroup>=1.0.0rc9 in c:\\users\\lg\\miniconda3\\lib\\site-packages (from trio~=0.17->selenium) (1.0.4)\n",
      "Requirement already satisfied: cffi>=1.14 in c:\\users\\lg\\miniconda3\\lib\\site-packages (from trio~=0.17->selenium) (1.15.0)\n",
      "Requirement already satisfied: sortedcontainers in c:\\users\\lg\\miniconda3\\lib\\site-packages (from trio~=0.17->selenium) (2.4.0)\n",
      "Requirement already satisfied: outcome in c:\\users\\lg\\miniconda3\\lib\\site-packages (from trio~=0.17->selenium) (1.2.0)\n",
      "Requirement already satisfied: pycparser in c:\\users\\lg\\miniconda3\\lib\\site-packages (from cffi>=1.14->trio~=0.17->selenium) (2.21)\n",
      "Requirement already satisfied: wsproto>=0.14 in c:\\users\\lg\\miniconda3\\lib\\site-packages (from trio-websocket~=0.9->selenium) (1.2.0)\n",
      "Requirement already satisfied: PySocks!=1.5.7,<2.0,>=1.5.6 in c:\\users\\lg\\miniconda3\\lib\\site-packages (from urllib3[socks]~=1.26->selenium) (1.7.1)\n",
      "Requirement already satisfied: h11<1,>=0.9.0 in c:\\users\\lg\\miniconda3\\lib\\site-packages (from wsproto>=0.14->trio-websocket~=0.9->selenium) (0.14.0)\n"
     ]
    }
   ],
   "source": [
    "!pip install selenium"
   ]
  },
  {
   "cell_type": "code",
   "execution_count": 5,
   "id": "0ad64750-b8e9-4460-b3a3-e1a992c104a7",
   "metadata": {},
   "outputs": [],
   "source": [
    "sys.path.append(r'c:\\users\\lg\\miniconda3\\lib\\site-packages')"
   ]
  },
  {
   "cell_type": "code",
   "execution_count": 7,
   "id": "a9d6762d-61ba-44d9-9cf5-4d3ef9ccaa15",
   "metadata": {},
   "outputs": [
    {
     "name": "stdin",
     "output_type": "stream",
     "text": [
      "검색어 :  포트홀\n",
      "다운로드 시도할 최대 이미지 수 :  10\n"
     ]
    },
    {
     "name": "stderr",
     "output_type": "stream",
     "text": [
      "C:\\Users\\LG\\AppData\\Local\\Temp\\ipykernel_4844\\2152660391.py:32: DeprecationWarning: executable_path has been deprecated, please pass in a Service object\n",
      "  driver = webdriver.Chrome('C:\\chromedriver\\chromedriver.exe',chrome_options=chrome_options)\n",
      "C:\\Users\\LG\\AppData\\Local\\Temp\\ipykernel_4844\\2152660391.py:32: DeprecationWarning: use options instead of chrome_options\n",
      "  driver = webdriver.Chrome('C:\\chromedriver\\chromedriver.exe',chrome_options=chrome_options)\n"
     ]
    },
    {
     "name": "stdout",
     "output_type": "stream",
     "text": [
      "성공 : 0, 실패 : 10\n"
     ]
    }
   ],
   "source": [
    "keyword = input('검색어 : ')\n",
    "maxImages = int(input('다운로드 시도할 최대 이미지 수 : '))\n",
    "\n",
    "# 프로젝트에 미리 생성해놓은 crawled_img폴더 안에 하위 폴더 생성\n",
    "# 폴더명에는 입력한 키워드, 이미지 수 정보를 표시함\n",
    "path = 'crawled_img/'+keyword+'_'+str(maxImages)\n",
    "\n",
    "try:\n",
    "    # 중복되는 폴더 명이 없다면 생성\n",
    "    if not os.path.exists(path):\n",
    "        os.makedirs(path)\n",
    "    # 중복된다면 문구 출력 후 프로그램 종료\n",
    "    else:\n",
    "        print('이전에 같은 [검색어, 이미지 수]로 다운로드한 폴더가 존재합니다.')\n",
    "        sys.exit(0)\n",
    "except OSError:\n",
    "    print ('os error')\n",
    "    sys.exit(0)\n",
    "\n",
    "pages = int((maxImages-1)/100)+1 #한 페이지당 표시되는 이미지 수(100)을 참고하여 확인할 페이지 수 계산\n",
    "imgCount = 0 # 추출 시도 이미지 수\n",
    "success = 0 # 추출 성공 이미지 수\n",
    "finish = False # 이미지에 모두 접근했는지 여부\n",
    "\n",
    "# 크롬 드라이버 설정\n",
    "# (크롤링할 때 웹 페이지 띄우지 않음, gpu 사용 안함, 한글 지원, user-agent 헤더 추가)\n",
    "chrome_options = webdriver.ChromeOptions()\n",
    "chrome_options.add_argument('headless')\n",
    "chrome_options.add_argument('--disable-gpu')\n",
    "chrome_options.add_argument('lang=ko_KR')\n",
    "chrome_options.add_argument(\"user-agent=Mozilla/5.0 (Windows NT 10.0; Win64; x64) AppleWebKit/537.36 (KHTML, like Gecko) Chrome/89.0.4389.82 Safari/537.36\")\n",
    "driver = webdriver.Chrome('C:\\chromedriver\\chromedriver.exe',chrome_options=chrome_options)\n",
    "\n",
    "for i in range(1,int(pages)+1):\n",
    "    #웹 페이지 접근 후 1초동안 로드를 기다림\n",
    "    driver.get('https://pixabay.com/images/search/'+keyword+'/?pagi='+str(i))\n",
    "    sleep(1)\n",
    "\n",
    "    #크롤링이 가능하도록 html코드 가공\n",
    "    html = driver.page_source\n",
    "    soup = BeautifulSoup(html,'html.parser')\n",
    "\n",
    "    imgs = soup.select('div.flex_grid.credits.search_results img') #요소 선택\n",
    "\n",
    "    #마지막 페이지 여부 결정\n",
    "    lastPage=False\n",
    "    if len(imgs)!=100:\n",
    "        lastPage=True\n",
    "\n",
    "    #5번 제목에서 설명함\n",
    "    for img in imgs:\n",
    "        srcset = \"\"\n",
    "        if img.get('srcset')==None:\n",
    "            srcset = img.get('data-lazy-srcset')\n",
    "        else: \n",
    "            srcset = img.get('srcset')\n",
    "\n",
    "\n",
    "        src = \"\"\n",
    "        if len(srcset):\n",
    "            src = str(srcset).split()[0] #가장 작은 사이즈의 이미지 경로 추출\n",
    "            print(src)\n",
    "            filename = src.split('/')[-1] #이미지 경로에서 날짜 부분뒤의 순 파일명만 추출\n",
    "            print(filename)\n",
    "            saveUrl = path+'/'+filename #저장 경로 결정\n",
    "            print(saveUrl)\n",
    "\n",
    "            #파일 저장\n",
    "            #user-agent 헤더를 가지고 있어야 접근 허용하는 사이트도 있을 수 있음(pixabay가 이에 해당)\n",
    "            req = urllib.request.Request(src, headers={'User-Agent': 'Mozilla/5.0'})\n",
    "            try:\n",
    "                imgUrl = urllib.request.urlopen(req).read() #웹 페이지 상의 이미지를 불러옴\n",
    "                with open(saveUrl,\"wb\") as f: #디렉토리 오픈\n",
    "                    f.write(imgUrl) #파일 저장\n",
    "                success+=1\n",
    "            except urllib.error.HTTPError:\n",
    "                print('에러')\n",
    "                sys.exit(0)\n",
    "\n",
    "        imgCount+=1\n",
    "\n",
    "        if imgCount==maxImages:\n",
    "            finish = True #입력한 이미지 수 만큼 모두 접근했음을 알림\n",
    "            break\n",
    "    \n",
    "    #finish가 참이거나 더 이상 접근할 이미지가 없을 경우 크롤링 종료\n",
    "    if finish or lastPage:\n",
    "        break\n",
    "\n",
    "print('성공 : '+str(success)+', 실패 : '+str(maxImages-success))"
   ]
  },
  {
   "cell_type": "code",
   "execution_count": null,
   "id": "23d86340-541b-40de-bb59-09a4f619662e",
   "metadata": {},
   "outputs": [],
   "source": []
  }
 ],
 "metadata": {
  "kernelspec": {
   "display_name": "PY38",
   "language": "python",
   "name": "py38"
  },
  "language_info": {
   "codemirror_mode": {
    "name": "ipython",
    "version": 3
   },
   "file_extension": ".py",
   "mimetype": "text/x-python",
   "name": "python",
   "nbconvert_exporter": "python",
   "pygments_lexer": "ipython3",
   "version": "3.8.15"
  }
 },
 "nbformat": 4,
 "nbformat_minor": 5
}
