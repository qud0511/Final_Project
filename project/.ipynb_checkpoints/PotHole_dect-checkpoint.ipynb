{
 "cells": [
  {
   "cell_type": "code",
   "execution_count": null,
   "id": "352690bf-568f-4b58-9254-65483ca3cb97",
   "metadata": {},
   "outputs": [],
   "source": []
  },
  {
   "cell_type": "code",
   "execution_count": null,
   "id": "d5709437-adcc-498a-8f95-832306cde2a0",
   "metadata": {},
   "outputs": [],
   "source": []
  },
  {
   "cell_type": "markdown",
   "id": "be45ca13-e94b-4ed5-9b90-779d7f5dbe68",
   "metadata": {},
   "source": [
    "C:/Users/LG/GIT_BBJ/Final_Project/yolov5/runs/train/potholey_yolov5s_results4/weights/best.pt"
   ]
  },
  {
   "cell_type": "markdown",
   "id": "8c629e8c-d366-437d-9bb2-bf76b83b3fc2",
   "metadata": {},
   "source": [
    "C:/Users/LG/GIT_BBJ/Final_Project/our_streamlit/original_img/f\"{i}.jpg\""
   ]
  },
  {
   "cell_type": "markdown",
   "id": "df7374a0-a6ba-48d0-90a5-9b235c480209",
   "metadata": {},
   "source": [
    "MINSOO\n",
    "for i in range(1,21):\n",
    "  !python detect.py --weights /content/drive/MyDrive/ColabNotebooks/KDT_FinalProject/yolov5/runs/train/potholey_yolov5s_results4/weights/best.pt --img 416 --conf 0.3 --source /content/drive/MyDrive/ColabNotebooks/KDT_FinalProject/data/test_video/f\"{i}.mp4\""
   ]
  },
  {
   "cell_type": "code",
   "execution_count": 2,
   "id": "34cb5fbb-e408-49be-8d07-42d8aa79bbb8",
   "metadata": {},
   "outputs": [],
   "source": [
    "!cd C:\\Users\\LG\\GIT_BBJ\\Final_Project\\yolov5"
   ]
  },
  {
   "cell_type": "code",
   "execution_count": 3,
   "id": "c3b21504-6334-4613-852e-e492164121e8",
   "metadata": {
    "collapsed": true,
    "jupyter": {
     "outputs_hidden": true
    },
    "tags": []
   },
   "outputs": [
    {
     "name": "stderr",
     "output_type": "stream",
     "text": [
      "Traceback (most recent call last):\n",
      "  File \"C:\\Users\\LG\\GIT_BBJ\\Final_Project\\project\\detect.py\", line 46, in <module>\n",
      "    from models.common import DetectMultiBackend\n",
      "ModuleNotFoundError: No module named 'models'\n",
      "Traceback (most recent call last):\n",
      "  File \"C:\\Users\\LG\\GIT_BBJ\\Final_Project\\project\\detect.py\", line 46, in <module>\n",
      "    from models.common import DetectMultiBackend\n",
      "ModuleNotFoundError: No module named 'models'\n",
      "Traceback (most recent call last):\n",
      "  File \"C:\\Users\\LG\\GIT_BBJ\\Final_Project\\project\\detect.py\", line 46, in <module>\n",
      "    from models.common import DetectMultiBackend\n",
      "ModuleNotFoundError: No module named 'models'\n",
      "Traceback (most recent call last):\n",
      "  File \"C:\\Users\\LG\\GIT_BBJ\\Final_Project\\project\\detect.py\", line 46, in <module>\n",
      "    from models.common import DetectMultiBackend\n",
      "ModuleNotFoundError: No module named 'models'\n",
      "Traceback (most recent call last):\n",
      "  File \"C:\\Users\\LG\\GIT_BBJ\\Final_Project\\project\\detect.py\", line 46, in <module>\n",
      "    from models.common import DetectMultiBackend\n",
      "ModuleNotFoundError: No module named 'models'\n",
      "Traceback (most recent call last):\n",
      "  File \"C:\\Users\\LG\\GIT_BBJ\\Final_Project\\project\\detect.py\", line 46, in <module>\n",
      "    from models.common import DetectMultiBackend\n",
      "ModuleNotFoundError: No module named 'models'\n",
      "Traceback (most recent call last):\n",
      "  File \"C:\\Users\\LG\\GIT_BBJ\\Final_Project\\project\\detect.py\", line 46, in <module>\n",
      "    from models.common import DetectMultiBackend\n",
      "ModuleNotFoundError: No module named 'models'\n",
      "Traceback (most recent call last):\n",
      "  File \"C:\\Users\\LG\\GIT_BBJ\\Final_Project\\project\\detect.py\", line 46, in <module>\n",
      "    from models.common import DetectMultiBackend\n",
      "ModuleNotFoundError: No module named 'models'\n",
      "Traceback (most recent call last):\n",
      "  File \"C:\\Users\\LG\\GIT_BBJ\\Final_Project\\project\\detect.py\", line 46, in <module>\n",
      "    from models.common import DetectMultiBackend\n",
      "ModuleNotFoundError: No module named 'models'\n",
      "Traceback (most recent call last):\n",
      "  File \"C:\\Users\\LG\\GIT_BBJ\\Final_Project\\project\\detect.py\", line 46, in <module>\n",
      "    from models.common import DetectMultiBackend\n",
      "ModuleNotFoundError: No module named 'models'\n",
      "Traceback (most recent call last):\n",
      "  File \"C:\\Users\\LG\\GIT_BBJ\\Final_Project\\project\\detect.py\", line 46, in <module>\n",
      "    from models.common import DetectMultiBackend\n",
      "ModuleNotFoundError: No module named 'models'\n",
      "Traceback (most recent call last):\n",
      "  File \"C:\\Users\\LG\\GIT_BBJ\\Final_Project\\project\\detect.py\", line 46, in <module>\n",
      "    from models.common import DetectMultiBackend\n",
      "ModuleNotFoundError: No module named 'models'\n",
      "Traceback (most recent call last):\n",
      "  File \"C:\\Users\\LG\\GIT_BBJ\\Final_Project\\project\\detect.py\", line 46, in <module>\n",
      "    from models.common import DetectMultiBackend\n",
      "ModuleNotFoundError: No module named 'models'\n",
      "Traceback (most recent call last):\n",
      "  File \"C:\\Users\\LG\\GIT_BBJ\\Final_Project\\project\\detect.py\", line 46, in <module>\n",
      "    from models.common import DetectMultiBackend\n",
      "ModuleNotFoundError: No module named 'models'\n",
      "Traceback (most recent call last):\n",
      "  File \"C:\\Users\\LG\\GIT_BBJ\\Final_Project\\project\\detect.py\", line 46, in <module>\n",
      "    from models.common import DetectMultiBackend\n",
      "ModuleNotFoundError: No module named 'models'\n",
      "Traceback (most recent call last):\n",
      "  File \"C:\\Users\\LG\\GIT_BBJ\\Final_Project\\project\\detect.py\", line 46, in <module>\n",
      "    from models.common import DetectMultiBackend\n",
      "ModuleNotFoundError: No module named 'models'\n",
      "Traceback (most recent call last):\n",
      "  File \"C:\\Users\\LG\\GIT_BBJ\\Final_Project\\project\\detect.py\", line 46, in <module>\n",
      "    from models.common import DetectMultiBackend\n",
      "ModuleNotFoundError: No module named 'models'\n",
      "Traceback (most recent call last):\n",
      "  File \"C:\\Users\\LG\\GIT_BBJ\\Final_Project\\project\\detect.py\", line 46, in <module>\n",
      "    from models.common import DetectMultiBackend\n",
      "ModuleNotFoundError: No module named 'models'\n",
      "Traceback (most recent call last):\n",
      "  File \"C:\\Users\\LG\\GIT_BBJ\\Final_Project\\project\\detect.py\", line 46, in <module>\n",
      "    from models.common import DetectMultiBackend\n",
      "ModuleNotFoundError: No module named 'models'\n",
      "Traceback (most recent call last):\n",
      "  File \"C:\\Users\\LG\\GIT_BBJ\\Final_Project\\project\\detect.py\", line 46, in <module>\n",
      "    from models.common import DetectMultiBackend\n",
      "ModuleNotFoundError: No module named 'models'\n",
      "Traceback (most recent call last):\n",
      "  File \"C:\\Users\\LG\\GIT_BBJ\\Final_Project\\project\\detect.py\", line 46, in <module>\n",
      "    from models.common import DetectMultiBackend\n",
      "ModuleNotFoundError: No module named 'models'\n"
     ]
    },
    {
     "name": "stdout",
     "output_type": "stream",
     "text": [
      "^C\n"
     ]
    },
    {
     "name": "stderr",
     "output_type": "stream",
     "text": [
      "Traceback (most recent call last):\n",
      "  File \"C:\\Users\\LG\\GIT_BBJ\\Final_Project\\project\\detect.py\", line 46, in <module>\n",
      "    from models.common import DetectMultiBackend\n",
      "ModuleNotFoundError: No module named 'models'\n",
      "Traceback (most recent call last):\n",
      "  File \"C:\\Users\\LG\\GIT_BBJ\\Final_Project\\project\\detect.py\", line 46, in <module>\n",
      "    from models.common import DetectMultiBackend\n",
      "ModuleNotFoundError: No module named 'models'\n"
     ]
    }
   ],
   "source": [
    "for i in range(10,33):\n",
    "  !python detect.py --weights C:/Users/LG/GIT_BBJ/Final_Project/yolov5/runs/train/potholey_yolov5s_results4/weights/best.pt --img 416 --conf 0.3 --source C:/Users/LG/GIT_BBJ/Final_Project/our_streamlit/original_img/f\"{i}.jpg\""
   ]
  },
  {
   "cell_type": "code",
   "execution_count": null,
   "id": "1f1e9f07-97b4-4b67-b2af-f9df5e6b1081",
   "metadata": {},
   "outputs": [],
   "source": []
  }
 ],
 "metadata": {
  "kernelspec": {
   "display_name": "PY38",
   "language": "python",
   "name": "py38"
  },
  "language_info": {
   "codemirror_mode": {
    "name": "ipython",
    "version": 3
   },
   "file_extension": ".py",
   "mimetype": "text/x-python",
   "name": "python",
   "nbconvert_exporter": "python",
   "pygments_lexer": "ipython3",
   "version": "3.8.15"
  }
 },
 "nbformat": 4,
 "nbformat_minor": 5
}
