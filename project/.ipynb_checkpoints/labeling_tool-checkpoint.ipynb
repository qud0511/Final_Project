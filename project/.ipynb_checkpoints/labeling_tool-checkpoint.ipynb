{
 "cells": [
  {
   "cell_type": "markdown",
   "id": "1ecb9d37-e04f-4128-8993-a3b48452064a",
   "metadata": {},
   "source": [
    "https://byul91oh.tistory.com/130"
   ]
  },
  {
   "cell_type": "markdown",
   "id": "9b0e5011-992d-4eb5-a5ba-0b29341d042c",
   "metadata": {},
   "source": [
    "- Annotation Tool 정리\n",
    "https://m.blog.naver.com/jws2218/221922574525"
   ]
  },
  {
   "cell_type": "code",
   "execution_count": null,
   "id": "6cacca56-69ab-4462-aa75-48531eb673f1",
   "metadata": {},
   "outputs": [],
   "source": []
  }
 ],
 "metadata": {
  "kernelspec": {
   "display_name": "Python 3 (ipykernel)",
   "language": "python",
   "name": "python3"
  },
  "language_info": {
   "codemirror_mode": {
    "name": "ipython",
    "version": 3
   },
   "file_extension": ".py",
   "mimetype": "text/x-python",
   "name": "python",
   "nbconvert_exporter": "python",
   "pygments_lexer": "ipython3",
   "version": "3.9.12"
  }
 },
 "nbformat": 4,
 "nbformat_minor": 5
}
