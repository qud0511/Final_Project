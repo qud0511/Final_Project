{
 "cells": [
  {
   "cell_type": "code",
   "execution_count": null,
   "id": "352690bf-568f-4b58-9254-65483ca3cb97",
   "metadata": {},
   "outputs": [],
   "source": []
  },
  {
   "cell_type": "markdown",
   "id": "be45ca13-e94b-4ed5-9b90-779d7f5dbe68",
   "metadata": {},
   "source": [
    "### --weights\n",
    "##### C:/Users/LG/GIT_BBJ/Final_Project/yolov5/runs/train/potholey_yolov5s_results4/weights/best.pt"
   ]
  },
  {
   "cell_type": "markdown",
   "id": "8c629e8c-d366-437d-9bb2-bf76b83b3fc2",
   "metadata": {},
   "source": [
    "### --source\n",
    "##### C:/Users/LG/GIT_BBJ/Final_Project/our_streamlit/original_img/f\"{i}.jpg\""
   ]
  },
  {
   "cell_type": "markdown",
   "id": "df7374a0-a6ba-48d0-90a5-9b235c480209",
   "metadata": {},
   "source": [
    "### MINSOO\n",
    "for i in range(1,21):\n",
    "  !python detect.py --weights /content/drive/MyDrive/ColabNotebooks/KDT_FinalProject/yolov5/runs/train/potholey_yolov5s_results4/weights/best.pt --img 416 --conf 0.3 --source /content/drive/MyDrive/ColabNotebooks/KDT_FinalProject/data/test_video/f\"{i}.mp4\""
   ]
  },
  {
   "cell_type": "code",
   "execution_count": 5,
   "id": "34cb5fbb-e408-49be-8d07-42d8aa79bbb8",
   "metadata": {},
   "outputs": [
    {
     "name": "stdout",
     "output_type": "stream",
     "text": [
      "C:\\Users\\LG\\GIT_BBJ\\Final_Project\\yolov5\n"
     ]
    }
   ],
   "source": [
    "%cd C:\\Users\\LG\\GIT_BBJ\\Final_Project\\yolov5"
   ]
  },
  {
   "cell_type": "code",
   "execution_count": 4,
   "id": "e42918db-fa8d-4c8a-af2a-8f69784b1c5d",
   "metadata": {},
   "outputs": [
    {
     "name": "stderr",
     "output_type": "stream",
     "text": [
      "C:\\Users\\LG\\miniconda3\\envs\\PY38\\lib\\site-packages\\numpy\\__init__.py:138: UserWarning: mkl-service package failed to import, therefore Intel(R) MKL initialization ensuring its correct out-of-the box operation under condition when Gnu OpenMP had already been loaded by Python process is not assured. Please install mkl-service package, see http://github.com/IntelPython/mkl-service\n",
      "  from . import _distributor_init\n"
     ]
    },
    {
     "ename": "ImportError",
     "evalue": "\n\nIMPORTANT: PLEASE READ THIS FOR ADVICE ON HOW TO SOLVE THIS ISSUE!\n\nImporting the numpy C-extensions failed. This error can happen for\nmany reasons, often due to issues with your setup or how NumPy was\ninstalled.\n\nWe have compiled some common reasons and troubleshooting tips at:\n\n    https://numpy.org/devdocs/user/troubleshooting-importerror.html\n\nPlease note and check the following:\n\n  * The Python version is: Python3.8 from \"C:\\Users\\LG\\miniconda3\\envs\\PY38\\python.exe\"\n  * The NumPy version is: \"1.23.4\"\n\nand make sure that they are the versions you expect.\nPlease carefully study the documentation linked above for further help.\n\nOriginal error was: DLL load failed while importing _multiarray_umath: 지정된 모듈을 찾을 수 없습니다.\n",
     "output_type": "error",
     "traceback": [
      "\u001b[1;31m---------------------------------------------------------------------------\u001b[0m",
      "\u001b[1;31mImportError\u001b[0m                               Traceback (most recent call last)",
      "File \u001b[1;32m~\\miniconda3\\envs\\PY38\\lib\\site-packages\\numpy\\core\\__init__.py:23\u001b[0m\n\u001b[0;32m     22\u001b[0m \u001b[38;5;28;01mtry\u001b[39;00m:\n\u001b[1;32m---> 23\u001b[0m     \u001b[38;5;28;01mfrom\u001b[39;00m \u001b[38;5;21;01m.\u001b[39;00m \u001b[38;5;28;01mimport\u001b[39;00m multiarray\n\u001b[0;32m     24\u001b[0m \u001b[38;5;28;01mexcept\u001b[39;00m \u001b[38;5;167;01mImportError\u001b[39;00m \u001b[38;5;28;01mas\u001b[39;00m exc:\n",
      "File \u001b[1;32m~\\miniconda3\\envs\\PY38\\lib\\site-packages\\numpy\\core\\multiarray.py:10\u001b[0m\n\u001b[0;32m      9\u001b[0m \u001b[38;5;28;01mimport\u001b[39;00m \u001b[38;5;21;01mfunctools\u001b[39;00m\n\u001b[1;32m---> 10\u001b[0m \u001b[38;5;28;01mfrom\u001b[39;00m \u001b[38;5;21;01m.\u001b[39;00m \u001b[38;5;28;01mimport\u001b[39;00m overrides\n\u001b[0;32m     11\u001b[0m \u001b[38;5;28;01mfrom\u001b[39;00m \u001b[38;5;21;01m.\u001b[39;00m \u001b[38;5;28;01mimport\u001b[39;00m _multiarray_umath\n",
      "File \u001b[1;32m~\\miniconda3\\envs\\PY38\\lib\\site-packages\\numpy\\core\\overrides.py:6\u001b[0m\n\u001b[0;32m      4\u001b[0m \u001b[38;5;28;01mimport\u001b[39;00m \u001b[38;5;21;01mos\u001b[39;00m\n\u001b[1;32m----> 6\u001b[0m \u001b[38;5;28;01mfrom\u001b[39;00m \u001b[38;5;21;01mnumpy\u001b[39;00m\u001b[38;5;21;01m.\u001b[39;00m\u001b[38;5;21;01mcore\u001b[39;00m\u001b[38;5;21;01m.\u001b[39;00m\u001b[38;5;21;01m_multiarray_umath\u001b[39;00m \u001b[38;5;28;01mimport\u001b[39;00m (\n\u001b[0;32m      7\u001b[0m     add_docstring, implement_array_function, _get_implementing_args)\n\u001b[0;32m      8\u001b[0m \u001b[38;5;28;01mfrom\u001b[39;00m \u001b[38;5;21;01mnumpy\u001b[39;00m\u001b[38;5;21;01m.\u001b[39;00m\u001b[38;5;21;01mcompat\u001b[39;00m\u001b[38;5;21;01m.\u001b[39;00m\u001b[38;5;21;01m_inspect\u001b[39;00m \u001b[38;5;28;01mimport\u001b[39;00m getargspec\n",
      "\u001b[1;31mImportError\u001b[0m: DLL load failed while importing _multiarray_umath: 지정된 모듈을 찾을 수 없습니다.",
      "\nDuring handling of the above exception, another exception occurred:\n",
      "\u001b[1;31mImportError\u001b[0m                               Traceback (most recent call last)",
      "Cell \u001b[1;32mIn [4], line 1\u001b[0m\n\u001b[1;32m----> 1\u001b[0m \u001b[38;5;28;01mimport\u001b[39;00m \u001b[38;5;21;01mtorchvision\u001b[39;00m\n",
      "File \u001b[1;32m~\\miniconda3\\envs\\PY38\\lib\\site-packages\\torchvision\\__init__.py:4\u001b[0m\n\u001b[0;32m      1\u001b[0m \u001b[38;5;28;01mimport\u001b[39;00m \u001b[38;5;21;01mos\u001b[39;00m\n\u001b[0;32m      2\u001b[0m \u001b[38;5;28;01mimport\u001b[39;00m \u001b[38;5;21;01mwarnings\u001b[39;00m\n\u001b[1;32m----> 4\u001b[0m \u001b[38;5;28;01mimport\u001b[39;00m \u001b[38;5;21;01mtorch\u001b[39;00m\n\u001b[0;32m      5\u001b[0m \u001b[38;5;28;01mfrom\u001b[39;00m \u001b[38;5;21;01mtorchvision\u001b[39;00m \u001b[38;5;28;01mimport\u001b[39;00m datasets, io, models, ops, transforms, utils\n\u001b[0;32m      7\u001b[0m \u001b[38;5;28;01mfrom\u001b[39;00m \u001b[38;5;21;01m.\u001b[39;00m\u001b[38;5;21;01mextension\u001b[39;00m \u001b[38;5;28;01mimport\u001b[39;00m _HAS_OPS\n",
      "File \u001b[1;32m~\\miniconda3\\envs\\PY38\\lib\\site-packages\\torch\\__init__.py:650\u001b[0m\n\u001b[0;32m    645\u001b[0m \u001b[38;5;66;03m################################################################################\u001b[39;00m\n\u001b[0;32m    646\u001b[0m \u001b[38;5;66;03m# Define Storage and Tensor classes\u001b[39;00m\n\u001b[0;32m    647\u001b[0m \u001b[38;5;66;03m################################################################################\u001b[39;00m\n\u001b[0;32m    649\u001b[0m \u001b[38;5;28;01mfrom\u001b[39;00m \u001b[38;5;21;01m.\u001b[39;00m\u001b[38;5;21;01m_tensor\u001b[39;00m \u001b[38;5;28;01mimport\u001b[39;00m Tensor\n\u001b[1;32m--> 650\u001b[0m \u001b[38;5;28;01mfrom\u001b[39;00m \u001b[38;5;21;01m.\u001b[39;00m\u001b[38;5;21;01mstorage\u001b[39;00m \u001b[38;5;28;01mimport\u001b[39;00m _StorageBase, TypedStorage, _LegacyStorage, UntypedStorage\n\u001b[0;32m    652\u001b[0m \u001b[38;5;66;03m# NOTE: New <type>Storage classes should never be added. When adding a new\u001b[39;00m\n\u001b[0;32m    653\u001b[0m \u001b[38;5;66;03m# dtype, use torch.storage.TypedStorage directly.\u001b[39;00m\n\u001b[0;32m    655\u001b[0m \u001b[38;5;28;01mclass\u001b[39;00m \u001b[38;5;21;01mByteStorage\u001b[39;00m(_LegacyStorage):\n",
      "File \u001b[1;32m~\\miniconda3\\envs\\PY38\\lib\\site-packages\\torch\\storage.py:11\u001b[0m\n\u001b[0;32m      9\u001b[0m \u001b[38;5;28;01mfrom\u001b[39;00m \u001b[38;5;21;01mfunctools\u001b[39;00m \u001b[38;5;28;01mimport\u001b[39;00m lru_cache\n\u001b[0;32m     10\u001b[0m \u001b[38;5;28;01mtry\u001b[39;00m:\n\u001b[1;32m---> 11\u001b[0m     \u001b[38;5;28;01mimport\u001b[39;00m \u001b[38;5;21;01mnumpy\u001b[39;00m \u001b[38;5;28;01mas\u001b[39;00m \u001b[38;5;21;01mnp\u001b[39;00m\n\u001b[0;32m     12\u001b[0m     HAS_NUMPY \u001b[38;5;241m=\u001b[39m \u001b[38;5;28;01mTrue\u001b[39;00m\n\u001b[0;32m     13\u001b[0m \u001b[38;5;28;01mexcept\u001b[39;00m \u001b[38;5;167;01mModuleNotFoundError\u001b[39;00m:\n",
      "File \u001b[1;32m~\\miniconda3\\envs\\PY38\\lib\\site-packages\\numpy\\__init__.py:140\u001b[0m\n\u001b[0;32m    137\u001b[0m \u001b[38;5;66;03m# Allow distributors to run custom init code\u001b[39;00m\n\u001b[0;32m    138\u001b[0m \u001b[38;5;28;01mfrom\u001b[39;00m \u001b[38;5;21;01m.\u001b[39;00m \u001b[38;5;28;01mimport\u001b[39;00m _distributor_init\n\u001b[1;32m--> 140\u001b[0m \u001b[38;5;28;01mfrom\u001b[39;00m \u001b[38;5;21;01m.\u001b[39;00m \u001b[38;5;28;01mimport\u001b[39;00m core\n\u001b[0;32m    141\u001b[0m \u001b[38;5;28;01mfrom\u001b[39;00m \u001b[38;5;21;01m.\u001b[39;00m\u001b[38;5;21;01mcore\u001b[39;00m \u001b[38;5;28;01mimport\u001b[39;00m \u001b[38;5;241m*\u001b[39m\n\u001b[0;32m    142\u001b[0m \u001b[38;5;28;01mfrom\u001b[39;00m \u001b[38;5;21;01m.\u001b[39;00m \u001b[38;5;28;01mimport\u001b[39;00m compat\n",
      "File \u001b[1;32m~\\miniconda3\\envs\\PY38\\lib\\site-packages\\numpy\\core\\__init__.py:49\u001b[0m\n\u001b[0;32m     25\u001b[0m     \u001b[38;5;28;01mimport\u001b[39;00m \u001b[38;5;21;01msys\u001b[39;00m\n\u001b[0;32m     26\u001b[0m     msg \u001b[38;5;241m=\u001b[39m \u001b[38;5;124m\"\"\"\u001b[39m\n\u001b[0;32m     27\u001b[0m \n\u001b[0;32m     28\u001b[0m \u001b[38;5;124mIMPORTANT: PLEASE READ THIS FOR ADVICE ON HOW TO SOLVE THIS ISSUE!\u001b[39m\n\u001b[1;32m   (...)\u001b[0m\n\u001b[0;32m     47\u001b[0m \u001b[38;5;124m\"\"\"\u001b[39m \u001b[38;5;241m%\u001b[39m (sys\u001b[38;5;241m.\u001b[39mversion_info[\u001b[38;5;241m0\u001b[39m], sys\u001b[38;5;241m.\u001b[39mversion_info[\u001b[38;5;241m1\u001b[39m], sys\u001b[38;5;241m.\u001b[39mexecutable,\n\u001b[0;32m     48\u001b[0m         __version__, exc)\n\u001b[1;32m---> 49\u001b[0m     \u001b[38;5;28;01mraise\u001b[39;00m \u001b[38;5;167;01mImportError\u001b[39;00m(msg)\n\u001b[0;32m     50\u001b[0m \u001b[38;5;28;01mfinally\u001b[39;00m:\n\u001b[0;32m     51\u001b[0m     \u001b[38;5;28;01mfor\u001b[39;00m envkey \u001b[38;5;129;01min\u001b[39;00m env_added:\n",
      "\u001b[1;31mImportError\u001b[0m: \n\nIMPORTANT: PLEASE READ THIS FOR ADVICE ON HOW TO SOLVE THIS ISSUE!\n\nImporting the numpy C-extensions failed. This error can happen for\nmany reasons, often due to issues with your setup or how NumPy was\ninstalled.\n\nWe have compiled some common reasons and troubleshooting tips at:\n\n    https://numpy.org/devdocs/user/troubleshooting-importerror.html\n\nPlease note and check the following:\n\n  * The Python version is: Python3.8 from \"C:\\Users\\LG\\miniconda3\\envs\\PY38\\python.exe\"\n  * The NumPy version is: \"1.23.4\"\n\nand make sure that they are the versions you expect.\nPlease carefully study the documentation linked above for further help.\n\nOriginal error was: DLL load failed while importing _multiarray_umath: 지정된 모듈을 찾을 수 없습니다.\n"
     ]
    }
   ],
   "source": [
    "import torchvision"
   ]
  },
  {
   "cell_type": "code",
   "execution_count": 16,
   "id": "9c79f13f-2734-4c0c-9096-c75d96f39c71",
   "metadata": {},
   "outputs": [
    {
     "name": "stdout",
     "output_type": "stream",
     "text": [
      "^C\n"
     ]
    }
   ],
   "source": [
    "!conda install pytorch torchvision -c pytorch "
   ]
  },
  {
   "cell_type": "code",
   "execution_count": null,
   "id": "090864b8-edec-49bc-9add-ccd4b43ec3f9",
   "metadata": {},
   "outputs": [],
   "source": []
  },
  {
   "cell_type": "code",
   "execution_count": 3,
   "id": "c3b21504-6334-4613-852e-e492164121e8",
   "metadata": {
    "tags": []
   },
   "outputs": [
    {
     "name": "stderr",
     "output_type": "stream",
     "text": [
      "Traceback (most recent call last):\n",
      "  File \"C:\\Users\\LG\\GIT_BBJ\\Final_Project\\yolov5\\detect.py\", line 42, in <module>\n",
      "    from models.common import DetectMultiBackend\n",
      "  File \"C:\\Users\\LG\\GIT_BBJ\\Final_Project\\yolov5\\models\\common.py\", line 29, in <module>\n",
      "    from utils.dataloaders import exif_transpose, letterbox\n",
      "  File \"C:\\Users\\LG\\GIT_BBJ\\Final_Project\\yolov5\\utils\\dataloaders.py\", line 25, in <module>\n",
      "    import torchvision\n",
      "ModuleNotFoundError: No module named 'torchvision'\n",
      "Traceback (most recent call last):\n",
      "  File \"C:\\Users\\LG\\GIT_BBJ\\Final_Project\\yolov5\\detect.py\", line 42, in <module>\n",
      "    from models.common import DetectMultiBackend\n",
      "  File \"C:\\Users\\LG\\GIT_BBJ\\Final_Project\\yolov5\\models\\common.py\", line 29, in <module>\n",
      "    from utils.dataloaders import exif_transpose, letterbox\n",
      "  File \"C:\\Users\\LG\\GIT_BBJ\\Final_Project\\yolov5\\utils\\dataloaders.py\", line 25, in <module>\n",
      "    import torchvision\n",
      "ModuleNotFoundError: No module named 'torchvision'\n",
      "Traceback (most recent call last):\n",
      "  File \"C:\\Users\\LG\\GIT_BBJ\\Final_Project\\yolov5\\detect.py\", line 42, in <module>\n",
      "    from models.common import DetectMultiBackend\n",
      "  File \"C:\\Users\\LG\\GIT_BBJ\\Final_Project\\yolov5\\models\\common.py\", line 29, in <module>\n",
      "    from utils.dataloaders import exif_transpose, letterbox\n",
      "  File \"C:\\Users\\LG\\GIT_BBJ\\Final_Project\\yolov5\\utils\\dataloaders.py\", line 25, in <module>\n",
      "    import torchvision\n",
      "ModuleNotFoundError: No module named 'torchvision'\n",
      "Traceback (most recent call last):\n",
      "  File \"C:\\Users\\LG\\GIT_BBJ\\Final_Project\\yolov5\\detect.py\", line 42, in <module>\n",
      "    from models.common import DetectMultiBackend\n",
      "  File \"C:\\Users\\LG\\GIT_BBJ\\Final_Project\\yolov5\\models\\common.py\", line 29, in <module>\n",
      "    from utils.dataloaders import exif_transpose, letterbox\n",
      "  File \"C:\\Users\\LG\\GIT_BBJ\\Final_Project\\yolov5\\utils\\dataloaders.py\", line 25, in <module>\n",
      "    import torchvision\n",
      "ModuleNotFoundError: No module named 'torchvision'\n"
     ]
    },
    {
     "name": "stdout",
     "output_type": "stream",
     "text": [
      "^C\n"
     ]
    },
    {
     "name": "stderr",
     "output_type": "stream",
     "text": [
      "Traceback (most recent call last):\n",
      "  File \"C:\\Users\\LG\\GIT_BBJ\\Final_Project\\yolov5\\detect.py\", line 42, in <module>\n",
      "    from models.common import DetectMultiBackend\n",
      "  File \"C:\\Users\\LG\\GIT_BBJ\\Final_Project\\yolov5\\models\\common.py\", line 29, in <module>\n",
      "    from utils.dataloaders import exif_transpose, letterbox\n",
      "  File \"C:\\Users\\LG\\GIT_BBJ\\Final_Project\\yolov5\\utils\\dataloaders.py\", line 25, in <module>\n",
      "    import torchvision\n",
      "ModuleNotFoundError: No module named 'torchvision'\n",
      "Traceback (most recent call last):\n",
      "  File \"C:\\Users\\LG\\GIT_BBJ\\Final_Project\\yolov5\\detect.py\", line 42, in <module>\n",
      "    from models.common import DetectMultiBackend\n",
      "  File \"C:\\Users\\LG\\GIT_BBJ\\Final_Project\\yolov5\\models\\common.py\", line 29, in <module>\n",
      "    from utils.dataloaders import exif_transpose, letterbox\n",
      "  File \"C:\\Users\\LG\\GIT_BBJ\\Final_Project\\yolov5\\utils\\dataloaders.py\", line 25, in <module>\n",
      "    import torchvision\n",
      "ModuleNotFoundError: No module named 'torchvision'\n"
     ]
    },
    {
     "name": "stdout",
     "output_type": "stream",
     "text": [
      "^C\n"
     ]
    },
    {
     "name": "stderr",
     "output_type": "stream",
     "text": [
      "Traceback (most recent call last):\n",
      "  File \"C:\\Users\\LG\\GIT_BBJ\\Final_Project\\yolov5\\detect.py\", line 42, in <module>\n",
      "    from models.common import DetectMultiBackend\n",
      "  File \"C:\\Users\\LG\\GIT_BBJ\\Final_Project\\yolov5\\models\\common.py\", line 29, in <module>\n",
      "    from utils.dataloaders import exif_transpose, letterbox\n",
      "  File \"C:\\Users\\LG\\GIT_BBJ\\Final_Project\\yolov5\\utils\\dataloaders.py\", line 25, in <module>\n",
      "    import torchvision\n",
      "ModuleNotFoundError: No module named 'torchvision'\n",
      "Traceback (most recent call last):\n",
      "  File \"C:\\Users\\LG\\GIT_BBJ\\Final_Project\\yolov5\\detect.py\", line 42, in <module>\n",
      "    from models.common import DetectMultiBackend\n",
      "  File \"C:\\Users\\LG\\GIT_BBJ\\Final_Project\\yolov5\\models\\common.py\", line 29, in <module>\n",
      "    from utils.dataloaders import exif_transpose, letterbox\n",
      "  File \"C:\\Users\\LG\\GIT_BBJ\\Final_Project\\yolov5\\utils\\dataloaders.py\", line 25, in <module>\n",
      "    import torchvision\n",
      "ModuleNotFoundError: No module named 'torchvision'\n",
      "Traceback (most recent call last):\n",
      "  File \"C:\\Users\\LG\\GIT_BBJ\\Final_Project\\yolov5\\detect.py\", line 42, in <module>\n",
      "    from models.common import DetectMultiBackend\n",
      "  File \"C:\\Users\\LG\\GIT_BBJ\\Final_Project\\yolov5\\models\\common.py\", line 29, in <module>\n",
      "    from utils.dataloaders import exif_transpose, letterbox\n",
      "  File \"C:\\Users\\LG\\GIT_BBJ\\Final_Project\\yolov5\\utils\\dataloaders.py\", line 25, in <module>\n",
      "    import torchvision\n",
      "ModuleNotFoundError: No module named 'torchvision'\n",
      "Traceback (most recent call last):\n",
      "  File \"C:\\Users\\LG\\GIT_BBJ\\Final_Project\\yolov5\\detect.py\", line 42, in <module>\n",
      "    from models.common import DetectMultiBackend\n",
      "  File \"C:\\Users\\LG\\GIT_BBJ\\Final_Project\\yolov5\\models\\common.py\", line 29, in <module>\n",
      "    from utils.dataloaders import exif_transpose, letterbox\n",
      "  File \"C:\\Users\\LG\\GIT_BBJ\\Final_Project\\yolov5\\utils\\dataloaders.py\", line 25, in <module>\n",
      "    import torchvision\n",
      "ModuleNotFoundError: No module named 'torchvision'\n",
      "Traceback (most recent call last):\n",
      "  File \"C:\\Users\\LG\\GIT_BBJ\\Final_Project\\yolov5\\detect.py\", line 42, in <module>\n",
      "    from models.common import DetectMultiBackend\n",
      "  File \"C:\\Users\\LG\\GIT_BBJ\\Final_Project\\yolov5\\models\\common.py\", line 29, in <module>\n",
      "    from utils.dataloaders import exif_transpose, letterbox\n",
      "  File \"C:\\Users\\LG\\GIT_BBJ\\Final_Project\\yolov5\\utils\\dataloaders.py\", line 25, in <module>\n",
      "    import torchvision\n",
      "ModuleNotFoundError: No module named 'torchvision'\n",
      "Traceback (most recent call last):\n",
      "  File \"C:\\Users\\LG\\GIT_BBJ\\Final_Project\\yolov5\\detect.py\", line 42, in <module>\n",
      "    from models.common import DetectMultiBackend\n",
      "  File \"C:\\Users\\LG\\GIT_BBJ\\Final_Project\\yolov5\\models\\common.py\", line 29, in <module>\n",
      "    from utils.dataloaders import exif_transpose, letterbox\n",
      "  File \"C:\\Users\\LG\\GIT_BBJ\\Final_Project\\yolov5\\utils\\dataloaders.py\", line 25, in <module>\n",
      "    import torchvision\n",
      "ModuleNotFoundError: No module named 'torchvision'\n",
      "Traceback (most recent call last):\n",
      "  File \"C:\\Users\\LG\\GIT_BBJ\\Final_Project\\yolov5\\detect.py\", line 42, in <module>\n",
      "    from models.common import DetectMultiBackend\n",
      "  File \"C:\\Users\\LG\\GIT_BBJ\\Final_Project\\yolov5\\models\\common.py\", line 29, in <module>\n",
      "    from utils.dataloaders import exif_transpose, letterbox\n",
      "  File \"C:\\Users\\LG\\GIT_BBJ\\Final_Project\\yolov5\\utils\\dataloaders.py\", line 25, in <module>\n",
      "    import torchvision\n",
      "ModuleNotFoundError: No module named 'torchvision'\n",
      "Traceback (most recent call last):\n",
      "  File \"C:\\Users\\LG\\GIT_BBJ\\Final_Project\\yolov5\\detect.py\", line 42, in <module>\n",
      "    from models.common import DetectMultiBackend\n",
      "  File \"C:\\Users\\LG\\GIT_BBJ\\Final_Project\\yolov5\\models\\common.py\", line 29, in <module>\n",
      "    from utils.dataloaders import exif_transpose, letterbox\n",
      "  File \"C:\\Users\\LG\\GIT_BBJ\\Final_Project\\yolov5\\utils\\dataloaders.py\", line 25, in <module>\n",
      "    import torchvision\n",
      "ModuleNotFoundError: No module named 'torchvision'\n",
      "Traceback (most recent call last):\n",
      "  File \"C:\\Users\\LG\\GIT_BBJ\\Final_Project\\yolov5\\detect.py\", line 42, in <module>\n",
      "    from models.common import DetectMultiBackend\n",
      "  File \"C:\\Users\\LG\\GIT_BBJ\\Final_Project\\yolov5\\models\\common.py\", line 29, in <module>\n",
      "    from utils.dataloaders import exif_transpose, letterbox\n",
      "  File \"C:\\Users\\LG\\GIT_BBJ\\Final_Project\\yolov5\\utils\\dataloaders.py\", line 25, in <module>\n",
      "    import torchvision\n",
      "ModuleNotFoundError: No module named 'torchvision'\n",
      "Traceback (most recent call last):\n",
      "  File \"C:\\Users\\LG\\GIT_BBJ\\Final_Project\\yolov5\\detect.py\", line 42, in <module>\n",
      "    from models.common import DetectMultiBackend\n",
      "  File \"C:\\Users\\LG\\GIT_BBJ\\Final_Project\\yolov5\\models\\common.py\", line 29, in <module>\n",
      "    from utils.dataloaders import exif_transpose, letterbox\n",
      "  File \"C:\\Users\\LG\\GIT_BBJ\\Final_Project\\yolov5\\utils\\dataloaders.py\", line 25, in <module>\n",
      "    import torchvision\n",
      "ModuleNotFoundError: No module named 'torchvision'\n",
      "Traceback (most recent call last):\n",
      "  File \"C:\\Users\\LG\\GIT_BBJ\\Final_Project\\yolov5\\detect.py\", line 42, in <module>\n",
      "    from models.common import DetectMultiBackend\n",
      "  File \"C:\\Users\\LG\\GIT_BBJ\\Final_Project\\yolov5\\models\\common.py\", line 29, in <module>\n",
      "    from utils.dataloaders import exif_transpose, letterbox\n",
      "  File \"C:\\Users\\LG\\GIT_BBJ\\Final_Project\\yolov5\\utils\\dataloaders.py\", line 25, in <module>\n",
      "    import torchvision\n",
      "ModuleNotFoundError: No module named 'torchvision'\n",
      "Traceback (most recent call last):\n",
      "  File \"C:\\Users\\LG\\GIT_BBJ\\Final_Project\\yolov5\\detect.py\", line 42, in <module>\n",
      "    from models.common import DetectMultiBackend\n",
      "  File \"C:\\Users\\LG\\GIT_BBJ\\Final_Project\\yolov5\\models\\common.py\", line 29, in <module>\n",
      "    from utils.dataloaders import exif_transpose, letterbox\n",
      "  File \"C:\\Users\\LG\\GIT_BBJ\\Final_Project\\yolov5\\utils\\dataloaders.py\", line 25, in <module>\n",
      "    import torchvision\n",
      "ModuleNotFoundError: No module named 'torchvision'\n",
      "Traceback (most recent call last):\n",
      "  File \"C:\\Users\\LG\\GIT_BBJ\\Final_Project\\yolov5\\detect.py\", line 42, in <module>\n",
      "    from models.common import DetectMultiBackend\n",
      "  File \"C:\\Users\\LG\\GIT_BBJ\\Final_Project\\yolov5\\models\\common.py\", line 29, in <module>\n",
      "    from utils.dataloaders import exif_transpose, letterbox\n",
      "  File \"C:\\Users\\LG\\GIT_BBJ\\Final_Project\\yolov5\\utils\\dataloaders.py\", line 25, in <module>\n",
      "    import torchvision\n",
      "ModuleNotFoundError: No module named 'torchvision'\n",
      "Traceback (most recent call last):\n",
      "  File \"C:\\Users\\LG\\GIT_BBJ\\Final_Project\\yolov5\\detect.py\", line 42, in <module>\n",
      "    from models.common import DetectMultiBackend\n",
      "  File \"C:\\Users\\LG\\GIT_BBJ\\Final_Project\\yolov5\\models\\common.py\", line 29, in <module>\n",
      "    from utils.dataloaders import exif_transpose, letterbox\n",
      "  File \"C:\\Users\\LG\\GIT_BBJ\\Final_Project\\yolov5\\utils\\dataloaders.py\", line 25, in <module>\n",
      "    import torchvision\n",
      "ModuleNotFoundError: No module named 'torchvision'\n",
      "Traceback (most recent call last):\n",
      "  File \"C:\\Users\\LG\\GIT_BBJ\\Final_Project\\yolov5\\detect.py\", line 42, in <module>\n",
      "    from models.common import DetectMultiBackend\n",
      "  File \"C:\\Users\\LG\\GIT_BBJ\\Final_Project\\yolov5\\models\\common.py\", line 29, in <module>\n",
      "    from utils.dataloaders import exif_transpose, letterbox\n",
      "  File \"C:\\Users\\LG\\GIT_BBJ\\Final_Project\\yolov5\\utils\\dataloaders.py\", line 25, in <module>\n",
      "    import torchvision\n",
      "ModuleNotFoundError: No module named 'torchvision'\n",
      "Traceback (most recent call last):\n",
      "  File \"C:\\Users\\LG\\GIT_BBJ\\Final_Project\\yolov5\\detect.py\", line 42, in <module>\n",
      "    from models.common import DetectMultiBackend\n",
      "  File \"C:\\Users\\LG\\GIT_BBJ\\Final_Project\\yolov5\\models\\common.py\", line 29, in <module>\n",
      "    from utils.dataloaders import exif_transpose, letterbox\n",
      "  File \"C:\\Users\\LG\\GIT_BBJ\\Final_Project\\yolov5\\utils\\dataloaders.py\", line 25, in <module>\n",
      "    import torchvision\n",
      "ModuleNotFoundError: No module named 'torchvision'\n",
      "Traceback (most recent call last):\n",
      "  File \"C:\\Users\\LG\\GIT_BBJ\\Final_Project\\yolov5\\detect.py\", line 42, in <module>\n",
      "    from models.common import DetectMultiBackend\n",
      "  File \"C:\\Users\\LG\\GIT_BBJ\\Final_Project\\yolov5\\models\\common.py\", line 29, in <module>\n",
      "    from utils.dataloaders import exif_transpose, letterbox\n",
      "  File \"C:\\Users\\LG\\GIT_BBJ\\Final_Project\\yolov5\\utils\\dataloaders.py\", line 25, in <module>\n",
      "    import torchvision\n",
      "ModuleNotFoundError: No module named 'torchvision'\n"
     ]
    }
   ],
   "source": [
    "for i in range(10,33):\n",
    "  !python detect.py --weights C:/Users/LG/GIT_BBJ/Final_Project/yolov5/runs/train/potholey_yolov5s_results4/weights/best.pt --img 416 --conf 0.3 --source C:/Users/LG/GIT_BBJ/Final_Project/our_streamlit/original_img/f\"{i}.jpg\""
   ]
  },
  {
   "cell_type": "code",
   "execution_count": null,
   "id": "1f1e9f07-97b4-4b67-b2af-f9df5e6b1081",
   "metadata": {},
   "outputs": [],
   "source": []
  }
 ],
 "metadata": {
  "kernelspec": {
   "display_name": "PY38",
   "language": "python",
   "name": "py38"
  },
  "language_info": {
   "codemirror_mode": {
    "name": "ipython",
    "version": 3
   },
   "file_extension": ".py",
   "mimetype": "text/x-python",
   "name": "python",
   "nbconvert_exporter": "python",
   "pygments_lexer": "ipython3",
   "version": "3.8.15"
  }
 },
 "nbformat": 4,
 "nbformat_minor": 5
}
