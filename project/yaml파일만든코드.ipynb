{
 "cells": [
  {
   "cell_type": "code",
   "execution_count": 4,
   "metadata": {
    "collapsed": false,
    "jupyter": {
     "outputs_hidden": false
    },
    "pycharm": {
     "name": "#%%\n"
    }
   },
   "outputs": [],
   "source": [
    "# 모듈 로딩\n",
    "import glob, json, os\n",
    "from pprint import pprint\n",
    "from pylabel import importer"
   ]
  },
  {
   "cell_type": "code",
   "execution_count": 10,
   "metadata": {
    "collapsed": false,
    "jupyter": {
     "outputs_hidden": false
    },
    "pycharm": {
     "name": "#%%\n"
    }
   },
   "outputs": [
    {
     "data": {
      "text/plain": [
       "['DS2.ai_coco.json']"
      ]
     },
     "execution_count": 10,
     "metadata": {},
     "output_type": "execute_result"
    }
   ],
   "source": [
    "# annotation 폴더 내의 json 파일 불러오기\n",
    "PATH = r'C:/Users/LG/GIT_BBJ/Final_Project/coco/'\n",
    "json_list = os.listdir(PATH)\n",
    "json_list"
   ]
  },
  {
   "cell_type": "code",
   "execution_count": 11,
   "metadata": {
    "collapsed": false,
    "jupyter": {
     "outputs_hidden": false
    },
    "pycharm": {
     "name": "#%%\n"
    }
   },
   "outputs": [
    {
     "ename": "AttributeError",
     "evalue": "'DataFrame' object has no attribute 'ann_category_id'",
     "output_type": "error",
     "traceback": [
      "\u001b[1;31m---------------------------------------------------------------------------\u001b[0m",
      "\u001b[1;31mAttributeError\u001b[0m                            Traceback (most recent call last)",
      "Cell \u001b[1;32mIn [11], line 4\u001b[0m\n\u001b[0;32m      1\u001b[0m \u001b[38;5;66;03m# txt 파일 생성\u001b[39;00m\n\u001b[0;32m      2\u001b[0m \u001b[38;5;28;01mfor\u001b[39;00m file \u001b[38;5;129;01min\u001b[39;00m json_list:\n\u001b[0;32m      3\u001b[0m     \u001b[38;5;66;03m# pylabel load\u001b[39;00m\n\u001b[1;32m----> 4\u001b[0m     dataset \u001b[38;5;241m=\u001b[39m \u001b[43mimporter\u001b[49m\u001b[38;5;241;43m.\u001b[39;49m\u001b[43mImportCoco\u001b[49m\u001b[43m(\u001b[49m\u001b[43mPATH\u001b[49m\u001b[43m \u001b[49m\u001b[38;5;241;43m+\u001b[39;49m\u001b[43m \u001b[49m\u001b[43mfile\u001b[49m\u001b[43m)\u001b[49m\n\u001b[0;32m      5\u001b[0m     \u001b[38;5;28;01mfor\u001b[39;00m i \u001b[38;5;129;01min\u001b[39;00m \u001b[38;5;28mrange\u001b[39m(\u001b[38;5;28mlen\u001b[39m(dataset\u001b[38;5;241m.\u001b[39mdf)):\n\u001b[0;32m      6\u001b[0m         bbox_x \u001b[38;5;241m=\u001b[39m dataset\u001b[38;5;241m.\u001b[39mdf\u001b[38;5;241m.\u001b[39miloc[i]\u001b[38;5;241m.\u001b[39mann_bbox_xmin\n",
      "File \u001b[1;32mC:\\ProgramData\\Anaconda3\\envs\\PY38_clearML\\lib\\site-packages\\pylabel\\importer.py:92\u001b[0m, in \u001b[0;36mImportCoco\u001b[1;34m(path, path_to_images, name)\u001b[0m\n\u001b[0;32m     89\u001b[0m df \u001b[38;5;241m=\u001b[39m annotations\n\u001b[0;32m     91\u001b[0m \u001b[38;5;66;03m# Converting this to string resolves issue #23\u001b[39;00m\n\u001b[1;32m---> 92\u001b[0m df\u001b[38;5;241m.\u001b[39mann_category_id \u001b[38;5;241m=\u001b[39m \u001b[43mdf\u001b[49m\u001b[38;5;241;43m.\u001b[39;49m\u001b[43mann_category_id\u001b[49m\u001b[38;5;241m.\u001b[39mastype(\u001b[38;5;28mstr\u001b[39m)\n\u001b[0;32m     94\u001b[0m df[\n\u001b[0;32m     95\u001b[0m     [\u001b[38;5;124m\"\u001b[39m\u001b[38;5;124mann_bbox_xmin\u001b[39m\u001b[38;5;124m\"\u001b[39m, \u001b[38;5;124m\"\u001b[39m\u001b[38;5;124mann_bbox_ymin\u001b[39m\u001b[38;5;124m\"\u001b[39m, \u001b[38;5;124m\"\u001b[39m\u001b[38;5;124mann_bbox_width\u001b[39m\u001b[38;5;124m\"\u001b[39m, \u001b[38;5;124m\"\u001b[39m\u001b[38;5;124mann_bbox_height\u001b[39m\u001b[38;5;124m\"\u001b[39m]\n\u001b[0;32m     96\u001b[0m ] \u001b[38;5;241m=\u001b[39m pd\u001b[38;5;241m.\u001b[39mDataFrame(df\u001b[38;5;241m.\u001b[39mann_bbox\u001b[38;5;241m.\u001b[39mtolist(), index\u001b[38;5;241m=\u001b[39mdf\u001b[38;5;241m.\u001b[39mindex)\n\u001b[0;32m     97\u001b[0m df\u001b[38;5;241m.\u001b[39minsert(\u001b[38;5;241m8\u001b[39m, \u001b[38;5;124m\"\u001b[39m\u001b[38;5;124mann_bbox_xmax\u001b[39m\u001b[38;5;124m\"\u001b[39m, df[\u001b[38;5;124m\"\u001b[39m\u001b[38;5;124mann_bbox_xmin\u001b[39m\u001b[38;5;124m\"\u001b[39m] \u001b[38;5;241m+\u001b[39m df[\u001b[38;5;124m\"\u001b[39m\u001b[38;5;124mann_bbox_width\u001b[39m\u001b[38;5;124m\"\u001b[39m])\n",
      "File \u001b[1;32mC:\\ProgramData\\Anaconda3\\envs\\PY38_clearML\\lib\\site-packages\\pandas\\core\\generic.py:5902\u001b[0m, in \u001b[0;36mNDFrame.__getattr__\u001b[1;34m(self, name)\u001b[0m\n\u001b[0;32m   5895\u001b[0m \u001b[38;5;28;01mif\u001b[39;00m (\n\u001b[0;32m   5896\u001b[0m     name \u001b[38;5;129;01mnot\u001b[39;00m \u001b[38;5;129;01min\u001b[39;00m \u001b[38;5;28mself\u001b[39m\u001b[38;5;241m.\u001b[39m_internal_names_set\n\u001b[0;32m   5897\u001b[0m     \u001b[38;5;129;01mand\u001b[39;00m name \u001b[38;5;129;01mnot\u001b[39;00m \u001b[38;5;129;01min\u001b[39;00m \u001b[38;5;28mself\u001b[39m\u001b[38;5;241m.\u001b[39m_metadata\n\u001b[0;32m   5898\u001b[0m     \u001b[38;5;129;01mand\u001b[39;00m name \u001b[38;5;129;01mnot\u001b[39;00m \u001b[38;5;129;01min\u001b[39;00m \u001b[38;5;28mself\u001b[39m\u001b[38;5;241m.\u001b[39m_accessors\n\u001b[0;32m   5899\u001b[0m     \u001b[38;5;129;01mand\u001b[39;00m \u001b[38;5;28mself\u001b[39m\u001b[38;5;241m.\u001b[39m_info_axis\u001b[38;5;241m.\u001b[39m_can_hold_identifiers_and_holds_name(name)\n\u001b[0;32m   5900\u001b[0m ):\n\u001b[0;32m   5901\u001b[0m     \u001b[38;5;28;01mreturn\u001b[39;00m \u001b[38;5;28mself\u001b[39m[name]\n\u001b[1;32m-> 5902\u001b[0m \u001b[38;5;28;01mreturn\u001b[39;00m \u001b[38;5;28;43mobject\u001b[39;49m\u001b[38;5;241;43m.\u001b[39;49m\u001b[38;5;21;43m__getattribute__\u001b[39;49m\u001b[43m(\u001b[49m\u001b[38;5;28;43mself\u001b[39;49m\u001b[43m,\u001b[49m\u001b[43m \u001b[49m\u001b[43mname\u001b[49m\u001b[43m)\u001b[49m\n",
      "\u001b[1;31mAttributeError\u001b[0m: 'DataFrame' object has no attribute 'ann_category_id'"
     ]
    }
   ],
   "source": [
    "# txt 파일 생성\n",
    "for file in json_list:\n",
    "    # pylabel load\n",
    "    dataset = importer.ImportCoco(PATH + file)\n",
    "    for i in range(len(dataset.df)):\n",
    "        bbox_x = dataset.df.iloc[i].ann_bbox_xmin\n",
    "        bbox_y = dataset.df.iloc[i].ann_bbox_ymin\n",
    "        height = dataset.df.iloc[i].ann_bbox_height\n",
    "        width = dataset.df.iloc[i].ann_bbox_width\n",
    "        img_height = dataset.df.iloc[i].img_height\n",
    "        img_width = dataset.df.iloc[i].img_width\n",
    "\n",
    "        dw = 1.0 / img_width\n",
    "        dh = 1.0 / img_height\n",
    "\n",
    "        x_center = bbox_x + width / 2.0\n",
    "        y_center = bbox_y + height / 2.0\n",
    "\n",
    "        x = x_center * dw\n",
    "        y = y_center * dh\n",
    "        w = width * dw\n",
    "        h = height * dh\n",
    "\n",
    "        print(file, x, y, w, h)"
   ]
  },
  {
   "cell_type": "code",
   "execution_count": null,
   "metadata": {
    "collapsed": false,
    "jupyter": {
     "outputs_hidden": false
    },
    "pycharm": {
     "name": "#%%\n"
    }
   },
   "outputs": [],
   "source": []
  }
 ],
 "metadata": {
  "kernelspec": {
   "display_name": "Python [conda env:PY38_clearML]",
   "language": "python",
   "name": "conda-env-PY38_clearML-py"
  },
  "language_info": {
   "codemirror_mode": {
    "name": "ipython",
    "version": 3
   },
   "file_extension": ".py",
   "mimetype": "text/x-python",
   "name": "python",
   "nbconvert_exporter": "python",
   "pygments_lexer": "ipython3",
   "version": "3.8.15"
  }
 },
 "nbformat": 4,
 "nbformat_minor": 4
}
