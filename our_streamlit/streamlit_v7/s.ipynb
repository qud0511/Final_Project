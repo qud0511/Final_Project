{
 "cells": [
  {
   "cell_type": "code",
   "execution_count": 1,
   "metadata": {},
   "outputs": [
    {
     "ename": "NameError",
     "evalue": "name 'sdadadasdasdadasdweq' is not defined",
     "output_type": "error",
     "traceback": [
      "\u001b[1;31m---------------------------------------------------------------------------\u001b[0m",
      "\u001b[1;31mNameError\u001b[0m                                 Traceback (most recent call last)",
      "\u001b[1;32mc:\\streamlit\\s.ipynb 셀 1\u001b[0m in \u001b[0;36m<cell line: 1>\u001b[1;34m()\u001b[0m\n\u001b[1;32m----> <a href='vscode-notebook-cell:/c%3A/streamlit/s.ipynb#W0sZmlsZQ%3D%3D?line=0'>1</a>\u001b[0m sdadadasdasdadasdweq\n\u001b[0;32m      <a href='vscode-notebook-cell:/c%3A/streamlit/s.ipynb#W0sZmlsZQ%3D%3D?line=1'>2</a>\u001b[0m ad\n",
      "\u001b[1;31mNameError\u001b[0m: name 'sdadadasdasdadasdweq' is not defined"
     ]
    }
   ],
   "source": []
  },
  {
   "cell_type": "code",
   "execution_count": null,
   "metadata": {},
   "outputs": [],
   "source": [
    "        with col1:\n",
    "            selection = aggrid_interactive_table(df_map)\n",
    "            try:\n",
    "                if selection:\n",
    "                # df 위/경도 뽑기\n",
    "                    #st.write(\"보수가 필요한 포트홀\")\n",
    "                    #st.write('위도: ', selection['selected_rows'][0]['위도'], '경도: ', selection['selected_rows'][0]['경도'])\n",
    "                    for i in range(1,8):\n",
    "                        if selection['selected_rows'][0]['위도'] == 35.812507:\n",
    "                            img=Image.open(r'.\\result\\1.jpg')\n",
    "                            st.image(img)\n",
    "                        if selection['selected_rows'][0]['위도'] == 35.832596089:\n",
    "                            img=Image.open(r'.\\result\\2.jpg')\n",
    "                            st.image(img)\n",
    "                        if selection['selected_rows'][0]['위도'] == 35.88249341:\n",
    "                            img=Image.open(r'.\\result\\3.jpg')\n",
    "                            st.image(img)\n",
    "                        if selection['selected_rows'][0]['위도'] == 35.86262305:\n",
    "                            img=Image.open(r'.\\result\\4.jpg')\n",
    "                            st.image(img)\n",
    "                        if selection['selected_rows'][0]['위도'] == 35.8428000942:\n",
    "                            img=Image.open(r'.\\result\\5.jpg')\n",
    "                            st.image(img)\n",
    "                        if selection['selected_rows'][0]['위도'] == 35.8723688469:\n",
    "                            img=Image.open(r'.\\result\\7.jpg')\n",
    "                            st.image(img)\n",
    "                        if selection['selected_rows'][0]['위도'] == 35.8920472:\n",
    "                            img=Image.open(r'.\\result\\8.jpg')\n",
    "                            st.image(img)\n",
    "            except:\n",
    "                pass"
   ]
  },
  {
   "cell_type": "code",
   "execution_count": null,
   "metadata": {},
   "outputs": [],
   "source": []
  },
  {
   "cell_type": "code",
   "execution_count": null,
   "metadata": {},
   "outputs": [],
   "source": []
  }
 ],
 "metadata": {
  "kernelspec": {
   "display_name": "Python 3 (ipykernel)",
   "language": "python",
   "name": "python3"
  },
  "language_info": {
   "codemirror_mode": {
    "name": "ipython",
    "version": 3
   },
   "file_extension": ".py",
   "mimetype": "text/x-python",
   "name": "python",
   "nbconvert_exporter": "python",
   "pygments_lexer": "ipython3",
   "version": "3.9.12"
  },
  "vscode": {
   "interpreter": {
    "hash": "ad2bdc8ecc057115af97d19610ffacc2b4e99fae6737bb82f5d7fb13d2f2c186"
   }
  }
 },
 "nbformat": 4,
 "nbformat_minor": 4
}
