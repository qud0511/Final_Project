{
 "cells": [
  {
   "cell_type": "code",
   "execution_count": 1,
   "outputs": [],
   "source": [
    "import yolo_v5.detect as detect\n",
    "from PIL import Image, ImageEnhance"
   ],
   "metadata": {
    "collapsed": false,
    "pycharm": {
     "name": "#%%\n"
    }
   }
  },
  {
   "cell_type": "code",
   "execution_count": 3,
   "outputs": [
    {
     "ename": "NameError",
     "evalue": "name 'detect' is not defined",
     "output_type": "error",
     "traceback": [
      "\u001B[1;31m---------------------------------------------------------------------------\u001B[0m",
      "\u001B[1;31mNameError\u001B[0m                                 Traceback (most recent call last)",
      "Cell \u001B[1;32mIn [3], line 1\u001B[0m\n\u001B[1;32m----> 1\u001B[0m \u001B[43mdetect\u001B[49m\u001B[38;5;241m.\u001B[39mrun()\n",
      "\u001B[1;31mNameError\u001B[0m: name 'detect' is not defined"
     ]
    }
   ],
   "source": [
    "detect.run()"
   ],
   "metadata": {
    "collapsed": false,
    "pycharm": {
     "name": "#%%\n"
    }
   }
  },
  {
   "cell_type": "code",
   "execution_count": 10,
   "outputs": [
    {
     "ename": "TypeError",
     "evalue": "main() takes 1 positional argument but 2 were given",
     "output_type": "error",
     "traceback": [
      "\u001B[1;31m---------------------------------------------------------------------------\u001B[0m",
      "\u001B[1;31mTypeError\u001B[0m                                 Traceback (most recent call last)",
      "Cell \u001B[1;32mIn [10], line 1\u001B[0m\n\u001B[1;32m----> 1\u001B[0m \u001B[43mdetect\u001B[49m\u001B[38;5;241;43m.\u001B[39;49m\u001B[43mmain\u001B[49m\u001B[43m(\u001B[49m\u001B[38;5;124;43m'\u001B[39;49m\u001B[38;5;124;43mC:\u001B[39;49m\u001B[38;5;124;43m\\\u001B[39;49m\u001B[38;5;124;43mDataScience\u001B[39;49m\u001B[38;5;124;43m\\\u001B[39;49m\u001B[38;5;124;43mT3Q\u001B[39;49m\u001B[38;5;124;43m\\\u001B[39;49m\u001B[38;5;124;43mdata\u001B[39;49m\u001B[38;5;124;43m\\\u001B[39;49m\u001B[38;5;124;43mPothole_dataset\u001B[39;49m\u001B[38;5;124;43m\\\u001B[39;49m\u001B[38;5;124;43mPothole_test_2.mp4\u001B[39;49m\u001B[38;5;124;43m'\u001B[39;49m\u001B[43m,\u001B[49m\n\u001B[0;32m      2\u001B[0m \u001B[43m                                                       \u001B[49m\u001B[38;5;124;43m'\u001B[39;49m\u001B[38;5;124;43mC:\u001B[39;49m\u001B[38;5;124;43m\\\u001B[39;49m\u001B[38;5;124;43mDataScience\u001B[39;49m\u001B[38;5;124;43m\\\u001B[39;49m\u001B[38;5;124;43mT3Q\u001B[39;49m\u001B[38;5;124;43m\\\u001B[39;49m\u001B[38;5;124;43myolo_v5\u001B[39;49m\u001B[38;5;130;43;01m\\r\u001B[39;49;00m\u001B[38;5;124;43muns\u001B[39;49m\u001B[38;5;130;43;01m\\t\u001B[39;49;00m\u001B[38;5;124;43mrain\u001B[39;49m\u001B[38;5;130;43;01m\\t\u001B[39;49;00m\u001B[38;5;124;43mrain_results\u001B[39;49m\u001B[38;5;124;43m\\\u001B[39;49m\u001B[38;5;124;43mweights\u001B[39;49m\u001B[38;5;130;43;01m\\b\u001B[39;49;00m\u001B[38;5;124;43mest.pt\u001B[39;49m\u001B[38;5;124;43m'\u001B[39;49m\u001B[43m)\u001B[49m\n",
      "\u001B[1;31mTypeError\u001B[0m: main() takes 1 positional argument but 2 were given"
     ]
    }
   ],
   "source": [
    "detect.main(source='C:\\DataScience\\T3Q\\data\\Pothole_dataset\\Pothole_test_2.mp4',\n",
    "                                                       weight='C:\\DataScience\\T3Q\\yolo_v5\\runs\\train\\train_results\\weights\\best.pt')"
   ],
   "metadata": {
    "collapsed": false,
    "pycharm": {
     "name": "#%%\n"
    }
   }
  },
  {
   "cell_type": "code",
   "execution_count": 2,
   "outputs": [
    {
     "name": "stderr",
     "output_type": "stream",
     "text": [
      "YOLOv5  2022-11-8 Python-3.8.13 torch-1.13.0+cpu CPU\n",
      "\n",
      "Fusing layers... \n",
      "YOLOv5s summary: 157 layers, 7029004 parameters, 0 gradients, 15.8 GFLOPs\n",
      "video 1/1 (1/125) C:\\DataScience\\T3Q\\streamlit\\123.mp4: 384x640 1 Pothole on road 116.3ms\n",
      "video 1/1 (2/125) C:\\DataScience\\T3Q\\streamlit\\123.mp4: 384x640 3 Pothole on roads 1 Traffic cone 105.7ms\n",
      "video 1/1 (3/125) C:\\DataScience\\T3Q\\streamlit\\123.mp4: 384x640 2 Pothole on roads 1 Traffic cone 102.0ms\n",
      "video 1/1 (4/125) C:\\DataScience\\T3Q\\streamlit\\123.mp4: 384x640 1 Pothole on road 1 Traffic cone 114.2ms\n",
      "video 1/1 (5/125) C:\\DataScience\\T3Q\\streamlit\\123.mp4: 384x640 1 Pothole on road 1 Traffic cone 116.3ms\n",
      "video 1/1 (6/125) C:\\DataScience\\T3Q\\streamlit\\123.mp4: 384x640 2 Pothole on roads 1 Traffic cone 98.3ms\n",
      "video 1/1 (7/125) C:\\DataScience\\T3Q\\streamlit\\123.mp4: 384x640 1 Pothole on road 1 Traffic cone 117.0ms\n",
      "video 1/1 (8/125) C:\\DataScience\\T3Q\\streamlit\\123.mp4: 384x640 1 Pothole on road 107.1ms\n",
      "video 1/1 (9/125) C:\\DataScience\\T3Q\\streamlit\\123.mp4: 384x640 1 Pothole on road 103.8ms\n",
      "video 1/1 (10/125) C:\\DataScience\\T3Q\\streamlit\\123.mp4: 384x640 1 Pothole on road 119.9ms\n",
      "video 1/1 (11/125) C:\\DataScience\\T3Q\\streamlit\\123.mp4: 384x640 2 Pothole on roads 1 Traffic cone 116.1ms\n",
      "video 1/1 (12/125) C:\\DataScience\\T3Q\\streamlit\\123.mp4: 384x640 1 Pothole on road 1 Traffic cone 87.3ms\n",
      "video 1/1 (13/125) C:\\DataScience\\T3Q\\streamlit\\123.mp4: 384x640 2 Pothole on roads 1 Traffic cone 100.2ms\n",
      "video 1/1 (14/125) C:\\DataScience\\T3Q\\streamlit\\123.mp4: 384x640 2 Pothole on roads 1 Traffic cone 100.7ms\n",
      "video 1/1 (15/125) C:\\DataScience\\T3Q\\streamlit\\123.mp4: 384x640 2 Pothole on roads 1 Traffic cone 115.0ms\n",
      "video 1/1 (16/125) C:\\DataScience\\T3Q\\streamlit\\123.mp4: 384x640 3 Pothole on roads 2 Traffic cones 97.8ms\n",
      "video 1/1 (17/125) C:\\DataScience\\T3Q\\streamlit\\123.mp4: 384x640 2 Pothole on roads 1 Traffic cone 100.6ms\n",
      "video 1/1 (18/125) C:\\DataScience\\T3Q\\streamlit\\123.mp4: 384x640 2 Pothole on roads 2 Traffic cones 99.3ms\n",
      "video 1/1 (19/125) C:\\DataScience\\T3Q\\streamlit\\123.mp4: 384x640 3 Pothole on roads 1 Traffic cone 98.8ms\n",
      "video 1/1 (20/125) C:\\DataScience\\T3Q\\streamlit\\123.mp4: 384x640 1 Pothole on road 1 Traffic cone 97.9ms\n",
      "video 1/1 (21/125) C:\\DataScience\\T3Q\\streamlit\\123.mp4: 384x640 1 Pothole on road 1 Traffic cone 115.9ms\n",
      "video 1/1 (22/125) C:\\DataScience\\T3Q\\streamlit\\123.mp4: 384x640 1 Pothole on road 1 Traffic cone 99.5ms\n",
      "video 1/1 (23/125) C:\\DataScience\\T3Q\\streamlit\\123.mp4: 384x640 3 Pothole on roads 1 Traffic cone 101.8ms\n",
      "video 1/1 (24/125) C:\\DataScience\\T3Q\\streamlit\\123.mp4: 384x640 3 Pothole on roads 1 Traffic cone 99.3ms\n",
      "video 1/1 (25/125) C:\\DataScience\\T3Q\\streamlit\\123.mp4: 384x640 2 Pothole on roads 2 Traffic cones 98.1ms\n",
      "video 1/1 (26/125) C:\\DataScience\\T3Q\\streamlit\\123.mp4: 384x640 2 Pothole on roads 2 Traffic cones 98.3ms\n",
      "video 1/1 (27/125) C:\\DataScience\\T3Q\\streamlit\\123.mp4: 384x640 3 Pothole on roads 1 Traffic cone 98.3ms\n",
      "video 1/1 (28/125) C:\\DataScience\\T3Q\\streamlit\\123.mp4: 384x640 3 Pothole on roads 1 Traffic cone 111.0ms\n",
      "video 1/1 (29/125) C:\\DataScience\\T3Q\\streamlit\\123.mp4: 384x640 2 Pothole on roads 2 Traffic cones 94.4ms\n",
      "video 1/1 (30/125) C:\\DataScience\\T3Q\\streamlit\\123.mp4: 384x640 1 Pothole on road 2 Traffic cones 98.6ms\n",
      "video 1/1 (31/125) C:\\DataScience\\T3Q\\streamlit\\123.mp4: 384x640 3 Pothole on roads 2 Traffic cones 99.7ms\n",
      "video 1/1 (32/125) C:\\DataScience\\T3Q\\streamlit\\123.mp4: 384x640 3 Pothole on roads 2 Traffic cones 92.4ms\n",
      "video 1/1 (33/125) C:\\DataScience\\T3Q\\streamlit\\123.mp4: 384x640 3 Pothole on roads 1 Traffic cone 98.3ms\n",
      "video 1/1 (34/125) C:\\DataScience\\T3Q\\streamlit\\123.mp4: 384x640 2 Pothole on roads 2 Traffic cones 100.4ms\n",
      "video 1/1 (35/125) C:\\DataScience\\T3Q\\streamlit\\123.mp4: 384x640 3 Pothole on roads 1 Construction signs & Parking prohibited board 1 Traffic cone 97.9ms\n",
      "video 1/1 (36/125) C:\\DataScience\\T3Q\\streamlit\\123.mp4: 384x640 3 Pothole on roads 1 Traffic cone 114.8ms\n",
      "video 1/1 (37/125) C:\\DataScience\\T3Q\\streamlit\\123.mp4: 384x640 2 Pothole on roads 1 Traffic cone 98.2ms\n",
      "video 1/1 (38/125) C:\\DataScience\\T3Q\\streamlit\\123.mp4: 384x640 1 Pothole on road 1 Traffic cone 104.7ms\n",
      "video 1/1 (39/125) C:\\DataScience\\T3Q\\streamlit\\123.mp4: 384x640 1 Pothole on road 1 Construction signs & Parking prohibited board 1 Traffic cone 110.9ms\n",
      "video 1/1 (40/125) C:\\DataScience\\T3Q\\streamlit\\123.mp4: 384x640 2 Pothole on roads 1 Traffic cone 99.9ms\n",
      "video 1/1 (41/125) C:\\DataScience\\T3Q\\streamlit\\123.mp4: 384x640 2 Pothole on roads 1 Traffic cone 102.3ms\n",
      "video 1/1 (42/125) C:\\DataScience\\T3Q\\streamlit\\123.mp4: 384x640 2 Pothole on roads 1 Traffic cone 116.5ms\n",
      "video 1/1 (43/125) C:\\DataScience\\T3Q\\streamlit\\123.mp4: 384x640 2 Pothole on roads 1 Traffic cone 106.8ms\n",
      "video 1/1 (44/125) C:\\DataScience\\T3Q\\streamlit\\123.mp4: 384x640 2 Pothole on roads 1 Traffic cone 114.0ms\n",
      "video 1/1 (45/125) C:\\DataScience\\T3Q\\streamlit\\123.mp4: 384x640 2 Pothole on roads 1 Traffic cone 106.0ms\n",
      "video 1/1 (46/125) C:\\DataScience\\T3Q\\streamlit\\123.mp4: 384x640 2 Pothole on roads 1 Traffic cone 134.0ms\n",
      "video 1/1 (47/125) C:\\DataScience\\T3Q\\streamlit\\123.mp4: 384x640 1 Pothole on road 1 Traffic cone 98.3ms\n",
      "video 1/1 (48/125) C:\\DataScience\\T3Q\\streamlit\\123.mp4: 384x640 1 Traffic cone 99.9ms\n",
      "video 1/1 (49/125) C:\\DataScience\\T3Q\\streamlit\\123.mp4: 384x640 1 Pothole on road 1 Traffic cone 114.7ms\n",
      "video 1/1 (50/125) C:\\DataScience\\T3Q\\streamlit\\123.mp4: 384x640 2 Pothole on roads 1 Traffic cone 99.8ms\n",
      "video 1/1 (51/125) C:\\DataScience\\T3Q\\streamlit\\123.mp4: 384x640 2 Pothole on roads 1 Traffic cone 101.9ms\n",
      "video 1/1 (52/125) C:\\DataScience\\T3Q\\streamlit\\123.mp4: 384x640 2 Pothole on roads 1 Construction signs & Parking prohibited board 1 Traffic cone 111.7ms\n",
      "video 1/1 (53/125) C:\\DataScience\\T3Q\\streamlit\\123.mp4: 384x640 2 Pothole on roads 1 Construction signs & Parking prohibited board 1 Traffic cone 119.0ms\n",
      "video 1/1 (54/125) C:\\DataScience\\T3Q\\streamlit\\123.mp4: 384x640 1 Pothole on road 1 Construction signs & Parking prohibited board 1 Traffic cone 117.3ms\n",
      "video 1/1 (55/125) C:\\DataScience\\T3Q\\streamlit\\123.mp4: 384x640 1 Pothole on road 1 Traffic cone 102.4ms\n",
      "video 1/1 (56/125) C:\\DataScience\\T3Q\\streamlit\\123.mp4: 384x640 1 Pothole on road 1 Traffic cone 126.1ms\n",
      "video 1/1 (57/125) C:\\DataScience\\T3Q\\streamlit\\123.mp4: 384x640 1 Pothole on road 1 Traffic cone 121.6ms\n",
      "video 1/1 (58/125) C:\\DataScience\\T3Q\\streamlit\\123.mp4: 384x640 1 Pothole on road 1 Traffic cone 115.2ms\n",
      "video 1/1 (59/125) C:\\DataScience\\T3Q\\streamlit\\123.mp4: 384x640 1 Traffic cone 110.9ms\n",
      "video 1/1 (60/125) C:\\DataScience\\T3Q\\streamlit\\123.mp4: 384x640 1 Traffic cone 98.6ms\n",
      "video 1/1 (61/125) C:\\DataScience\\T3Q\\streamlit\\123.mp4: 384x640 1 Pothole on road 1 Traffic cone 132.2ms\n",
      "video 1/1 (62/125) C:\\DataScience\\T3Q\\streamlit\\123.mp4: 384x640 1 Pothole on road 1 Construction signs & Parking prohibited board 1 Traffic cone 105.6ms\n",
      "video 1/1 (63/125) C:\\DataScience\\T3Q\\streamlit\\123.mp4: 384x640 1 Pothole on road 1 Traffic cone 98.0ms\n",
      "video 1/1 (64/125) C:\\DataScience\\T3Q\\streamlit\\123.mp4: 384x640 1 Pothole on road 1 Traffic cone 109.9ms\n",
      "video 1/1 (65/125) C:\\DataScience\\T3Q\\streamlit\\123.mp4: 384x640 2 Pothole on roads 1 Traffic cone 117.1ms\n",
      "video 1/1 (66/125) C:\\DataScience\\T3Q\\streamlit\\123.mp4: 384x640 2 Pothole on roads 1 Traffic cone 98.2ms\n",
      "video 1/1 (67/125) C:\\DataScience\\T3Q\\streamlit\\123.mp4: 384x640 1 Pothole on road 1 Traffic cone 99.3ms\n",
      "video 1/1 (68/125) C:\\DataScience\\T3Q\\streamlit\\123.mp4: 384x640 1 Pothole on road 1 Traffic cone 119.5ms\n",
      "video 1/1 (69/125) C:\\DataScience\\T3Q\\streamlit\\123.mp4: 384x640 1 Pothole on road 1 Traffic cone 114.8ms\n",
      "video 1/1 (70/125) C:\\DataScience\\T3Q\\streamlit\\123.mp4: 384x640 2 Pothole on roads 1 Traffic cone 125.6ms\n",
      "video 1/1 (71/125) C:\\DataScience\\T3Q\\streamlit\\123.mp4: 384x640 1 Pothole on road 101.8ms\n",
      "video 1/1 (72/125) C:\\DataScience\\T3Q\\streamlit\\123.mp4: 384x640 2 Pothole on roads 1 Traffic cone 116.7ms\n",
      "video 1/1 (73/125) C:\\DataScience\\T3Q\\streamlit\\123.mp4: 384x640 2 Pothole on roads 1 Traffic cone 118.5ms\n",
      "video 1/1 (74/125) C:\\DataScience\\T3Q\\streamlit\\123.mp4: 384x640 2 Pothole on roads 1 Construction signs & Parking prohibited board 115.2ms\n",
      "video 1/1 (75/125) C:\\DataScience\\T3Q\\streamlit\\123.mp4: 384x640 1 Pothole on road 1 Construction signs & Parking prohibited board 1 Traffic cone 100.0ms\n",
      "video 1/1 (76/125) C:\\DataScience\\T3Q\\streamlit\\123.mp4: 384x640 1 Pothole on road 1 Traffic cone 98.1ms\n",
      "video 1/1 (77/125) C:\\DataScience\\T3Q\\streamlit\\123.mp4: 384x640 1 Pothole on road 1 Traffic cone 98.7ms\n",
      "video 1/1 (78/125) C:\\DataScience\\T3Q\\streamlit\\123.mp4: 384x640 2 Pothole on roads 1 Traffic cone 114.4ms\n",
      "video 1/1 (79/125) C:\\DataScience\\T3Q\\streamlit\\123.mp4: 384x640 1 Pothole on road 1 Traffic cone 99.1ms\n",
      "video 1/1 (80/125) C:\\DataScience\\T3Q\\streamlit\\123.mp4: 384x640 2 Pothole on roads 1 Traffic cone 98.6ms\n",
      "video 1/1 (81/125) C:\\DataScience\\T3Q\\streamlit\\123.mp4: 384x640 2 Pothole on roads 1 Traffic cone 135.7ms\n",
      "video 1/1 (82/125) C:\\DataScience\\T3Q\\streamlit\\123.mp4: 384x640 1 Pothole on road 1 Traffic cone 114.2ms\n",
      "video 1/1 (83/125) C:\\DataScience\\T3Q\\streamlit\\123.mp4: 384x640 1 Pothole on road 1 Traffic cone 136.0ms\n",
      "video 1/1 (84/125) C:\\DataScience\\T3Q\\streamlit\\123.mp4: 384x640 4 Pothole on roads 1 Traffic cone 135.5ms\n",
      "video 1/1 (85/125) C:\\DataScience\\T3Q\\streamlit\\123.mp4: 384x640 2 Pothole on roads 1 Construction signs & Parking prohibited board 1 Traffic cone 119.2ms\n",
      "video 1/1 (86/125) C:\\DataScience\\T3Q\\streamlit\\123.mp4: 384x640 3 Pothole on roads 1 Construction signs & Parking prohibited board 1 Traffic cone 114.8ms\n",
      "video 1/1 (87/125) C:\\DataScience\\T3Q\\streamlit\\123.mp4: 384x640 3 Pothole on roads 1 Construction signs & Parking prohibited board 1 Traffic cone 126.7ms\n",
      "video 1/1 (88/125) C:\\DataScience\\T3Q\\streamlit\\123.mp4: 384x640 3 Pothole on roads 1 Construction signs & Parking prohibited board 1 Traffic cone 119.7ms\n",
      "video 1/1 (89/125) C:\\DataScience\\T3Q\\streamlit\\123.mp4: 384x640 3 Pothole on roads 1 Construction signs & Parking prohibited board 1 Traffic cone 103.1ms\n",
      "video 1/1 (90/125) C:\\DataScience\\T3Q\\streamlit\\123.mp4: 384x640 2 Pothole on roads 1 Traffic cone 132.0ms\n",
      "video 1/1 (91/125) C:\\DataScience\\T3Q\\streamlit\\123.mp4: 384x640 2 Pothole on roads 123.7ms\n",
      "video 1/1 (92/125) C:\\DataScience\\T3Q\\streamlit\\123.mp4: 384x640 1 Pothole on road 1 Traffic cone 129.6ms\n",
      "video 1/1 (93/125) C:\\DataScience\\T3Q\\streamlit\\123.mp4: 384x640 2 Pothole on roads 115.4ms\n",
      "video 1/1 (94/125) C:\\DataScience\\T3Q\\streamlit\\123.mp4: 384x640 2 Pothole on roads 124.2ms\n",
      "video 1/1 (95/125) C:\\DataScience\\T3Q\\streamlit\\123.mp4: 384x640 1 Pothole on road 128.9ms\n",
      "video 1/1 (96/125) C:\\DataScience\\T3Q\\streamlit\\123.mp4: 384x640 1 Pothole on road 133.0ms\n",
      "video 1/1 (97/125) C:\\DataScience\\T3Q\\streamlit\\123.mp4: 384x640 2 Pothole on roads 118.4ms\n",
      "video 1/1 (98/125) C:\\DataScience\\T3Q\\streamlit\\123.mp4: 384x640 3 Pothole on roads 111.0ms\n",
      "video 1/1 (99/125) C:\\DataScience\\T3Q\\streamlit\\123.mp4: 384x640 3 Pothole on roads 117.1ms\n",
      "video 1/1 (100/125) C:\\DataScience\\T3Q\\streamlit\\123.mp4: 384x640 3 Pothole on roads 111.5ms\n",
      "video 1/1 (101/125) C:\\DataScience\\T3Q\\streamlit\\123.mp4: 384x640 2 Pothole on roads 104.1ms\n",
      "video 1/1 (102/125) C:\\DataScience\\T3Q\\streamlit\\123.mp4: 384x640 3 Pothole on roads 119.5ms\n",
      "video 1/1 (103/125) C:\\DataScience\\T3Q\\streamlit\\123.mp4: 384x640 2 Pothole on roads 121.9ms\n",
      "video 1/1 (104/125) C:\\DataScience\\T3Q\\streamlit\\123.mp4: 384x640 2 Pothole on roads 111.5ms\n",
      "video 1/1 (105/125) C:\\DataScience\\T3Q\\streamlit\\123.mp4: 384x640 4 Pothole on roads 118.1ms\n",
      "video 1/1 (106/125) C:\\DataScience\\T3Q\\streamlit\\123.mp4: 384x640 4 Pothole on roads 116.1ms\n",
      "video 1/1 (107/125) C:\\DataScience\\T3Q\\streamlit\\123.mp4: 384x640 3 Pothole on roads 129.2ms\n",
      "video 1/1 (108/125) C:\\DataScience\\T3Q\\streamlit\\123.mp4: 384x640 5 Pothole on roads 123.6ms\n",
      "video 1/1 (109/125) C:\\DataScience\\T3Q\\streamlit\\123.mp4: 384x640 3 Pothole on roads 121.5ms\n",
      "video 1/1 (110/125) C:\\DataScience\\T3Q\\streamlit\\123.mp4: 384x640 1 Pothole on road 119.3ms\n",
      "video 1/1 (111/125) C:\\DataScience\\T3Q\\streamlit\\123.mp4: 384x640 2 Pothole on roads 115.0ms\n",
      "video 1/1 (112/125) C:\\DataScience\\T3Q\\streamlit\\123.mp4: 384x640 5 Pothole on roads 98.7ms\n",
      "video 1/1 (113/125) C:\\DataScience\\T3Q\\streamlit\\123.mp4: 384x640 5 Pothole on roads 115.1ms\n",
      "video 1/1 (114/125) C:\\DataScience\\T3Q\\streamlit\\123.mp4: 384x640 3 Pothole on roads 120.1ms\n",
      "video 1/1 (115/125) C:\\DataScience\\T3Q\\streamlit\\123.mp4: 384x640 3 Pothole on roads 114.6ms\n",
      "video 1/1 (116/125) C:\\DataScience\\T3Q\\streamlit\\123.mp4: 384x640 5 Pothole on roads 117.9ms\n",
      "video 1/1 (117/125) C:\\DataScience\\T3Q\\streamlit\\123.mp4: 384x640 2 Pothole on roads 108.2ms\n",
      "video 1/1 (118/125) C:\\DataScience\\T3Q\\streamlit\\123.mp4: 384x640 3 Pothole on roads 113.5ms\n",
      "video 1/1 (119/125) C:\\DataScience\\T3Q\\streamlit\\123.mp4: 384x640 3 Pothole on roads 114.0ms\n",
      "video 1/1 (120/125) C:\\DataScience\\T3Q\\streamlit\\123.mp4: 384x640 2 Pothole on roads 110.9ms\n",
      "video 1/1 (121/125) C:\\DataScience\\T3Q\\streamlit\\123.mp4: 384x640 4 Pothole on roads 130.7ms\n",
      "video 1/1 (122/125) C:\\DataScience\\T3Q\\streamlit\\123.mp4: 384x640 4 Pothole on roads 116.1ms\n",
      "video 1/1 (123/125) C:\\DataScience\\T3Q\\streamlit\\123.mp4: 384x640 5 Pothole on roads 119.3ms\n",
      "video 1/1 (124/125) C:\\DataScience\\T3Q\\streamlit\\123.mp4: 384x640 4 Pothole on roads 121.2ms\n",
      "video 1/1 (125/125) C:\\DataScience\\T3Q\\streamlit\\123.mp4: 384x640 6 Pothole on roads 122.0ms\n",
      "Speed: 0.3ms pre-process, 111.3ms inference, 0.8ms NMS per image at shape (1, 3, 640, 640)\n",
      "Results saved to \u001B[1myolo_v5\\runs\\detect\\exp3\u001B[0m\n"
     ]
    },
    {
     "data": {
      "text/plain": "(0, 0)"
     },
     "execution_count": 2,
     "metadata": {},
     "output_type": "execute_result"
    }
   ],
   "source": [
    "detect.run(source='C:\\DataScience\\T3Q\\streamlit/123.mp4')"
   ],
   "metadata": {
    "collapsed": false,
    "pycharm": {
     "name": "#%%\n"
    }
   }
  },
  {
   "cell_type": "code",
   "execution_count": 17,
   "outputs": [
    {
     "data": {
      "text/plain": "False"
     },
     "execution_count": 17,
     "metadata": {},
     "output_type": "execute_result"
    }
   ],
   "source": [
    "temp = cv2.imread('C:\\DataScience\\T3Q\\streamlit\\V3F_HY_9073_20201105_082630_N_CH1_Seoul_Sun_Mainroad_Day_90667.png')\n",
    "cv2.imwrite('C:\\DataScience\\T3Q\\streamlit\\temp/temp.png', temp)"
   ],
   "metadata": {
    "collapsed": false,
    "pycharm": {
     "name": "#%%\n"
    }
   }
  },
  {
   "cell_type": "code",
   "execution_count": 15,
   "outputs": [
    {
     "data": {
      "text/plain": "array([[[15, 34, 50],\n        [13, 32, 48],\n        [15, 34, 50],\n        ...,\n        [28, 36, 49],\n        [28, 36, 49],\n        [28, 36, 49]],\n\n       [[14, 34, 49],\n        [13, 32, 48],\n        [15, 34, 50],\n        ...,\n        [28, 36, 49],\n        [28, 36, 49],\n        [28, 36, 49]],\n\n       [[15, 34, 50],\n        [13, 32, 48],\n        [15, 34, 50],\n        ...,\n        [28, 36, 49],\n        [28, 36, 49],\n        [28, 36, 49]],\n\n       ...,\n\n       [[31, 28, 22],\n        [31, 28, 22],\n        [31, 28, 22],\n        ...,\n        [38, 35, 28],\n        [38, 35, 28],\n        [38, 35, 28]],\n\n       [[33, 30, 24],\n        [33, 30, 24],\n        [33, 30, 24],\n        ...,\n        [38, 35, 28],\n        [38, 35, 28],\n        [38, 35, 28]],\n\n       [[35, 31, 25],\n        [35, 31, 25],\n        [35, 31, 25],\n        ...,\n        [38, 35, 28],\n        [38, 35, 28],\n        [38, 35, 28]]], dtype=uint8)"
     },
     "execution_count": 15,
     "metadata": {},
     "output_type": "execute_result"
    }
   ],
   "source": [
    "cv2.imread('C:\\DataScience\\T3Q\\streamlit\\V3F_HY_9073_20201105_082630_N_CH1_Seoul_Sun_Mainroad_Day_90667.png')"
   ],
   "metadata": {
    "collapsed": false,
    "pycharm": {
     "name": "#%%\n"
    }
   }
  },
  {
   "cell_type": "code",
   "execution_count": 19,
   "outputs": [
    {
     "data": {
      "text/plain": "True"
     },
     "execution_count": 19,
     "metadata": {},
     "output_type": "execute_result"
    }
   ],
   "source": [
    "cv2.imwrite('C:/DataScience/T3Q/streamlit/temp/temp.jpg', temp)"
   ],
   "metadata": {
    "collapsed": false,
    "pycharm": {
     "name": "#%%\n"
    }
   }
  },
  {
   "cell_type": "code",
   "execution_count": 23,
   "outputs": [],
   "source": [
    "IMG = Image.open('C:\\DataScience\\T3Q\\streamlit\\V3F_HY_9073_20201105_082630_N_CH1_Seoul_Sun_Mainroad_Day_90667.png')"
   ],
   "metadata": {
    "collapsed": false,
    "pycharm": {
     "name": "#%%\n"
    }
   }
  },
  {
   "cell_type": "code",
   "execution_count": 25,
   "outputs": [
    {
     "ename": "AttributeError",
     "evalue": "flush",
     "output_type": "error",
     "traceback": [
      "\u001B[1;31m---------------------------------------------------------------------------\u001B[0m",
      "\u001B[1;31mAttributeError\u001B[0m                            Traceback (most recent call last)",
      "Cell \u001B[1;32mIn [25], line 1\u001B[0m\n\u001B[1;32m----> 1\u001B[0m \u001B[43mcv2\u001B[49m\u001B[38;5;241;43m.\u001B[39;49m\u001B[43mimread\u001B[49m\u001B[43m(\u001B[49m\u001B[43mIMG\u001B[49m\u001B[43m)\u001B[49m\n",
      "File \u001B[1;32mC:\\DataScience\\T3Q\\streamlit\\yolo_v5\\utils\\general.py:1090\u001B[0m, in \u001B[0;36mimread\u001B[1;34m(path, flags)\u001B[0m\n\u001B[0;32m   1089\u001B[0m \u001B[38;5;28;01mdef\u001B[39;00m \u001B[38;5;21mimread\u001B[39m(path, flags\u001B[38;5;241m=\u001B[39mcv2\u001B[38;5;241m.\u001B[39mIMREAD_COLOR):\n\u001B[1;32m-> 1090\u001B[0m     \u001B[38;5;28;01mreturn\u001B[39;00m cv2\u001B[38;5;241m.\u001B[39mimdecode(\u001B[43mnp\u001B[49m\u001B[38;5;241;43m.\u001B[39;49m\u001B[43mfromfile\u001B[49m\u001B[43m(\u001B[49m\u001B[43mpath\u001B[49m\u001B[43m,\u001B[49m\u001B[43m \u001B[49m\u001B[43mnp\u001B[49m\u001B[38;5;241;43m.\u001B[39;49m\u001B[43muint8\u001B[49m\u001B[43m)\u001B[49m, flags)\n",
      "File \u001B[1;32mC:\\ProgramData\\Anaconda3\\envs\\EV_PY38_YOLO\\lib\\site-packages\\PIL\\Image.py:517\u001B[0m, in \u001B[0;36mImage.__getattr__\u001B[1;34m(self, name)\u001B[0m\n\u001B[0;32m    515\u001B[0m     deprecate(\u001B[38;5;124m\"\u001B[39m\u001B[38;5;124mImage categories\u001B[39m\u001B[38;5;124m\"\u001B[39m, \u001B[38;5;241m10\u001B[39m, \u001B[38;5;124m\"\u001B[39m\u001B[38;5;124mis_animated\u001B[39m\u001B[38;5;124m\"\u001B[39m, plural\u001B[38;5;241m=\u001B[39m\u001B[38;5;28;01mTrue\u001B[39;00m)\n\u001B[0;32m    516\u001B[0m     \u001B[38;5;28;01mreturn\u001B[39;00m \u001B[38;5;28mself\u001B[39m\u001B[38;5;241m.\u001B[39m_category\n\u001B[1;32m--> 517\u001B[0m \u001B[38;5;28;01mraise\u001B[39;00m \u001B[38;5;167;01mAttributeError\u001B[39;00m(name)\n",
      "\u001B[1;31mAttributeError\u001B[0m: flush"
     ]
    }
   ],
   "source": [
    "cv2.imread('C:\\DataScience\\T3Q\\streamlit\\V3F_HY_9073_20201105_082630_N_CH1_Seoul_Sun_Mainroad_Day_90667.png')\n"
   ],
   "metadata": {
    "collapsed": false,
    "pycharm": {
     "name": "#%%\n"
    }
   }
  },
  {
   "cell_type": "code",
   "execution_count": 32,
   "outputs": [],
   "source": [
    "vid = cv2.VideoCapture('C:\\DataScience\\T3Q\\streamlit\\123.mp4')"
   ],
   "metadata": {
    "collapsed": false,
    "pycharm": {
     "name": "#%%\n"
    }
   }
  },
  {
   "cell_type": "code",
   "execution_count": null,
   "outputs": [],
   "source": [],
   "metadata": {
    "collapsed": false,
    "pycharm": {
     "name": "#%%\n"
    }
   }
  }
 ],
 "metadata": {
  "kernelspec": {
   "display_name": "Python 3",
   "language": "python",
   "name": "python3"
  },
  "language_info": {
   "codemirror_mode": {
    "name": "ipython",
    "version": 2
   },
   "file_extension": ".py",
   "mimetype": "text/x-python",
   "name": "python",
   "nbconvert_exporter": "python",
   "pygments_lexer": "ipython2",
   "version": "2.7.6"
  }
 },
 "nbformat": 4,
 "nbformat_minor": 0
}