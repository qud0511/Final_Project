{
 "cells": [
  {
   "cell_type": "markdown",
   "metadata": {},
   "source": [
    "# 크롤링 함수\n",
    "--- "
   ]
  },
  {
   "cell_type": "code",
   "execution_count": 1,
   "metadata": {},
   "outputs": [],
   "source": [
    "# #1. wordcloud 설치\n",
    "# !pip install wordcloud\n",
    "\n",
    "# #2. jpype1 설치 \n",
    "# !pip install jpype1\n",
    "\n",
    "# #3. konlpy 설치\n",
    "#!pip install konlpy"
   ]
  },
  {
   "cell_type": "code",
   "execution_count": 2,
   "metadata": {},
   "outputs": [],
   "source": [
    "#!pip install webdriver-manager"
   ]
  },
  {
   "cell_type": "code",
   "execution_count": null,
   "metadata": {},
   "outputs": [],
   "source": [
    "# 블로그 검색 함수\n",
    "def\tblog_search(keyword):\n",
    "    # 모듈설치\n",
    "    import selenium\n",
    "    from selenium.webdriver.chrome.service import Service\n",
    "    from webdriver_manager.chrome import ChromeDriverManager\n",
    "    from\tbs4\timport\tBeautifulSoup\n",
    "    import\trequests\n",
    "    from\titertools import count\n",
    "    from\tselenium import\twebdriver\n",
    "    from\tkonlpy.tag import Okt\n",
    "    from\tcollections import Counter\n",
    "    from\twordcloud import WordCloud\n",
    "    import\tmatplotlib.pyplot as plt\n",
    "    import matplotlib.font_manager as fm\n",
    "    from urllib.request import urlopen\n",
    "    import platform\n",
    "    import pandas as pd\n",
    "    import re\n",
    "    okt = Okt()\n",
    "    \n",
    "    blog_title_text=[]\n",
    "    noun_list =[]\n",
    "    counts =[]\n",
    "    tag =[]\n",
    "    \n",
    "    for i in range(1,10):\n",
    "        wd\t= webdriver.Chrome(service=Service(ChromeDriverManager().install()))\n",
    "        main_url =f\"https://section.blog.naver.com/Search/Post.naver?pageNo={i}&rangeType=ALL&orderBy=sim&keyword={keyword}\" \n",
    "\n",
    "        wd.get(main_url)\t\n",
    "        \n",
    "        html\t=\twd.page_source\n",
    "        soupData =\tBeautifulSoup(html,\t'html.parser')\n",
    "        blog_title =\tsoupData.find_all('span',\t{'class':'title'})\n",
    "        \n",
    "        for i in range(7):\n",
    "            blog_title_text.append(blog_title[i].text)\n",
    "        \n",
    "        for data in blog_title_text:\n",
    "            sentences_tag = okt.pos(data)\n",
    "            # tag가 명사인 단어들만 noun_adj_list에 넣어준다.\n",
    "            for word, tag in sentences_tag:\n",
    "                if tag in ['Noun']:\n",
    "                    if keyword in word:\n",
    "                        continue\n",
    "                    elif '여행' in word:\n",
    "                        continue\n",
    "                    else:\n",
    "                        noun_list.append(word)\n",
    "        wd.quit()\n",
    "        \n",
    "    counts\t= Counter(noun_list)\n",
    "    tags\t= counts.most_common(50)\n",
    "    \n",
    "    if\tplatform.system()\t==\t'Windows':\n",
    "        path\t=\tr'c:\\Windows\\Fonts\\malgun.ttf'\n",
    "    elif platform.system()\t==\t'Darwin':\t\t#\tMac\tOS\n",
    "        path\t=\tr'/System/Library/Fonts/AppleGothic'\n",
    "    else:\n",
    "        path\t=\tr'/usr/share/fonts/truetype/name/NanumMyeongjo.ttf'\n",
    "\n",
    "    wc = WordCloud(font_path=path,\tbackground_color='white',\twidth=800,\theight=600, random_state = 30)\n",
    "    print(dict(tags))\n",
    "    cloud =\twc.generate_from_frequencies(dict(tags))\n",
    "    plt.figure(figsize=(12,\t8))\n",
    "    #plt.text(x=800, y = 300 ,s= f'<-{keyword}', color = 'black', fontsize = 30)\n",
    "    #plt.title(f'[{keyword}]', size=40)\n",
    "    plt.axis('off')\n",
    "    plt.imshow(cloud)\n",
    "    plt.show() \n",
    "    # return(tags)    "
   ]
  },
  {
   "cell_type": "code",
   "execution_count": null,
   "metadata": {},
   "outputs": [],
   "source": [
    "blog_search('대구 클럽골목')"
   ]
  },
  {
   "cell_type": "code",
   "execution_count": null,
   "metadata": {},
   "outputs": [],
   "source": []
  }
 ],
 "metadata": {
  "kernelspec": {
   "display_name": "Python 3.9.12 ('base')",
   "language": "python",
   "name": "python3"
  },
  "language_info": {
   "codemirror_mode": {
    "name": "ipython",
    "version": 3
   },
   "file_extension": ".py",
   "mimetype": "text/x-python",
   "name": "python",
   "nbconvert_exporter": "python",
   "pygments_lexer": "ipython3",
   "version": "3.9.12"
  },
  "orig_nbformat": 4,
  "vscode": {
   "interpreter": {
    "hash": "ad2bdc8ecc057115af97d19610ffacc2b4e99fae6737bb82f5d7fb13d2f2c186"
   }
  }
 },
 "nbformat": 4,
 "nbformat_minor": 2
}
