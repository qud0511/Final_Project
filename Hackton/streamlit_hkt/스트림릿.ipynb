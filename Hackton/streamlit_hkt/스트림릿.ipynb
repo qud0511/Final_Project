{
 "cells": [
  {
   "cell_type": "code",
   "execution_count": 2,
   "id": "fd29254d-79c5-4160-898d-01e4e98af8de",
   "metadata": {},
   "outputs": [],
   "source": [
    "# pip install streamlit"
   ]
  },
  {
   "cell_type": "code",
   "execution_count": 2,
   "id": "01388e2c-f0ce-4417-bcce-af0d7e1d6acc",
   "metadata": {},
   "outputs": [],
   "source": [
    "import streamlit as st\n",
    "import pydeck as pdk\n",
    "import pandas as pd"
   ]
  },
  {
   "cell_type": "code",
   "execution_count": 4,
   "id": "5808c296-3316-484d-ab6b-6be8d1751012",
   "metadata": {},
   "outputs": [],
   "source": [
    "st.write('#My First App')"
   ]
  },
  {
   "cell_type": "code",
   "execution_count": null,
   "id": "c85d4a56-2884-4bb8-b253-239ae7d163fa",
   "metadata": {},
   "outputs": [],
   "source": []
  }
 ],
 "metadata": {
  "kernelspec": {
   "display_name": "Python 3 (ipykernel)",
   "language": "python",
   "name": "python3"
  },
  "language_info": {
   "codemirror_mode": {
    "name": "ipython",
    "version": 3
   },
   "file_extension": ".py",
   "mimetype": "text/x-python",
   "name": "python",
   "nbconvert_exporter": "python",
   "pygments_lexer": "ipython3",
   "version": "3.9.12"
  }
 },
 "nbformat": 4,
 "nbformat_minor": 5
}
