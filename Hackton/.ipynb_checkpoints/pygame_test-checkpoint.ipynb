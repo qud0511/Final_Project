{
 "cells": [
  {
   "cell_type": "code",
   "execution_count": 2,
   "id": "961f4f1b-e186-4261-a097-403a603e9c9b",
   "metadata": {},
   "outputs": [
    {
     "name": "stdout",
     "output_type": "stream",
     "text": [
      "Collecting pygame\n",
      "  Downloading pygame-2.1.2-cp39-cp39-win_amd64.whl (8.4 MB)\n",
      "     ---------------------------------------- 8.4/8.4 MB 9.5 MB/s eta 0:00:00\n",
      "Installing collected packages: pygame\n",
      "Successfully installed pygame-2.1.2\n"
     ]
    },
    {
     "name": "stderr",
     "output_type": "stream",
     "text": [
      "\n",
      "[notice] A new release of pip available: 22.2.2 -> 22.3\n",
      "[notice] To update, run: python.exe -m pip install --upgrade pip\n"
     ]
    }
   ],
   "source": [
    "# ! pip install pygame"
   ]
  },
  {
   "cell_type": "code",
   "execution_count": 3,
   "id": "764a2ee0-4690-4f2c-a329-fc0d92ba02ee",
   "metadata": {},
   "outputs": [
    {
     "name": "stdout",
     "output_type": "stream",
     "text": [
      "pygame 2.1.2 (SDL 2.0.18, Python 3.9.13)\n",
      "Hello from the pygame community. https://www.pygame.org/contribute.html\n"
     ]
    },
    {
     "ename": "FileNotFoundError",
     "evalue": "No file 'shoot_rock/planet.png' found in working directory 'C:\\Users\\LG\\Git_PBJ\\Final_Project\\Hackton'.",
     "output_type": "error",
     "traceback": [
      "\u001b[1;31m---------------------------------------------------------------------------\u001b[0m",
      "\u001b[1;31mFileNotFoundError\u001b[0m                         Traceback (most recent call last)",
      "Input \u001b[1;32mIn [3]\u001b[0m, in \u001b[0;36m<cell line: 35>\u001b[1;34m()\u001b[0m\n\u001b[0;32m     31\u001b[0m score_font \u001b[38;5;241m=\u001b[39m pygame\u001b[38;5;241m.\u001b[39mfont\u001b[38;5;241m.\u001b[39mSysFont(\u001b[38;5;124m'\u001b[39m\u001b[38;5;124mMaplestory Bold.ttf\u001b[39m\u001b[38;5;124m'\u001b[39m, \u001b[38;5;241m30\u001b[39m)\n\u001b[0;32m     34\u001b[0m \u001b[38;5;66;03m# 이미지 변수 생성 \u001b[39;00m\n\u001b[1;32m---> 35\u001b[0m background_image \u001b[38;5;241m=\u001b[39m \u001b[43mpygame\u001b[49m\u001b[38;5;241;43m.\u001b[39;49m\u001b[43mimage\u001b[49m\u001b[38;5;241;43m.\u001b[39;49m\u001b[43mload\u001b[49m\u001b[43m(\u001b[49m\u001b[43mlocation_url\u001b[49m\u001b[43m \u001b[49m\u001b[38;5;241;43m+\u001b[39;49m\u001b[43m \u001b[49m\u001b[38;5;124;43m'\u001b[39;49m\u001b[38;5;124;43mplanet.png\u001b[39;49m\u001b[38;5;124;43m'\u001b[39;49m\u001b[43m)\u001b[49m\n\u001b[0;32m     36\u001b[0m fighter_image \u001b[38;5;241m=\u001b[39m pygame\u001b[38;5;241m.\u001b[39mimage\u001b[38;5;241m.\u001b[39mload(location_url \u001b[38;5;241m+\u001b[39m \u001b[38;5;124m'\u001b[39m\u001b[38;5;124mship.png\u001b[39m\u001b[38;5;124m'\u001b[39m)\n\u001b[0;32m     37\u001b[0m attack_image \u001b[38;5;241m=\u001b[39m pygame\u001b[38;5;241m.\u001b[39mimage\u001b[38;5;241m.\u001b[39mload(location_url \u001b[38;5;241m+\u001b[39m \u001b[38;5;124m'\u001b[39m\u001b[38;5;124mmissile1.png\u001b[39m\u001b[38;5;124m'\u001b[39m)\n",
      "\u001b[1;31mFileNotFoundError\u001b[0m: No file 'shoot_rock/planet.png' found in working directory 'C:\\Users\\LG\\Git_PBJ\\Final_Project\\Hackton'."
     ]
    }
   ],
   "source": [
    "\"\"\"\n",
    "====================\n",
    "화면 변수 설정\n",
    "====================\n",
    "\"\"\"\n",
    "import pygame \n",
    "import random\n",
    "\n",
    "# 게임 초기화\n",
    "pygame.init()\n",
    "ㅉ\n",
    "# 화면 너비 및 게임 시간 체크\n",
    "SCREEN_WIDTH = 800\n",
    "SCREEN_HEIGHT = 900\n",
    "\n",
    "# 이미지 위치 \n",
    "location_url = 'shoot_rock/'\n",
    "\n",
    "# 화면 색상 변수\n",
    "screenColor_Black = (0, 0, 0)\n",
    "screenColor_Red = (255, 0, 0)\n",
    "screenColor_Green = (0, 255, 0)\n",
    "screenColor_Blue = (0, 0, 255)\n",
    "screenColor_White = (255, 255, 255)\n",
    "screenColor_Gray = (128, 128, 128)\n",
    "screenColor_Yellow = (255, 255, 0)\n",
    "\n",
    "# 폰트 변수 생성 \n",
    "large_font = pygame.font.SysFont('malgungothic', 72)\n",
    "small_font = pygame.font.SysFont('malgungothic', 36)\n",
    "score_font = pygame.font.SysFont('Maplestory Bold.ttf', 30)\n",
    "\n",
    "\n",
    "# 이미지 변수 생성 \n",
    "background_image = pygame.image.load(location_url + 'planet.png')\n",
    "fighter_image = pygame.image.load(location_url + 'ship.png')\n",
    "attack_image = pygame.image.load(location_url + 'missile1.png')\n",
    "explosion_image = pygame.image.load(location_url + 'explosion.png')\n",
    "\n",
    "# 장애물\n",
    "wall_level_1_image = pygame.image.load(location_url + 'wall_level_1.png')\n",
    "wall_level_2_image = pygame.image.load(location_url + 'wall_level_2.png')\n",
    "\n",
    "# 보스 \n",
    "boss_image = pygame.image.load(location_url + 'boss.png')\n",
    "\n",
    "\n",
    "# 음악 생성\n",
    "pygame.mixer.init()\n",
    "# pygame.mixer.music.load(location_url + 'JLD_-_Lethal_Xcess_Level_4.mp3')\n",
    "# pygame.mixer.music.set_volume(0.5)\n",
    "# pygame.mixer.music.play(-1) # 무한 반복\n",
    "\n",
    "attack_sound = pygame.mixer.Sound(location_url + 'missile.wav')\n",
    "attack_sound.set_volume(0.3)\n",
    "\n",
    "explosion_sound = pygame.mixer.Sound(location_url + 'explosion.wav')\n",
    "explosion_sound.set_volume(0.3)\n",
    "\n",
    "game_over_sound = pygame.mixer.Sound(location_url + 'game_over.wav')\n",
    "game_over_sound.set_volume(0.3)\n",
    "\n",
    "\n",
    "# 화면 스크린 생성\n",
    "screen = pygame.display.set_mode((SCREEN_WIDTH, SCREEN_HEIGHT)) \n",
    "clock = pygame.time.Clock()"
   ]
  },
  {
   "cell_type": "code",
   "execution_count": null,
   "id": "3ce147b0-e53b-4a0f-81ec-c06e2ec3bc39",
   "metadata": {},
   "outputs": [],
   "source": [
    "\"\"\"\n",
    "====================\n",
    "화면 변수 설정\n",
    "====================\n",
    "\"\"\"\n",
    "import pygame \n",
    "import random\n",
    "\n",
    "# 게임 초기화\n",
    "pygame.init()\n",
    "\n",
    "# 화면 너비 및 게임 시간 체크\n",
    "SCREEN_WIDTH = 800\n",
    "SCREEN_HEIGHT = 900\n",
    "\n",
    "# 이미지 위치 \n",
    "location_url = 'shoot_rock/'\n",
    "\n",
    "# 화면 색상 변수\n",
    "screenColor_Black = (0, 0, 0)\n",
    "screenColor_Red = (255, 0, 0)\n",
    "screenColor_Green = (0, 255, 0)\n",
    "screenColor_Blue = (0, 0, 255)\n",
    "screenColor_White = (255, 255, 255)\n",
    "screenColor_Gray = (128, 128, 128)\n",
    "screenColor_Yellow = (255, 255, 0)\n",
    "\n",
    "# 폰트 변수 생성 \n",
    "large_font = pygame.font.SysFont('malgungothic', 72)\n",
    "small_font = pygame.font.SysFont('malgungothic', 36)\n",
    "score_font = pygame.font.SysFont('Maplestory Bold.ttf', 30)\n",
    "\n",
    "\n",
    "# 이미지 변수 생성 \n",
    "background_image = pygame.image.load(location_url + 'planet.png')\n",
    "fighter_image = pygame.image.load(location_url + 'ship.png')\n",
    "attack_image = pygame.image.load(location_url + 'missile1.png')\n",
    "explosion_image = pygame.image.load(location_url + 'explosion.png')\n",
    "\n",
    "# 장애물\n",
    "wall_level_1_image = pygame.image.load(location_url + 'wall_level_1.png')\n",
    "wall_level_2_image = pygame.image.load(location_url + 'wall_level_2.png')\n",
    "\n",
    "# 보스 \n",
    "boss_image = pygame.image.load(location_url + 'boss.png')\n",
    "\n",
    "\n",
    "# 음악 생성\n",
    "pygame.mixer.init()\n",
    "# pygame.mixer.music.load(location_url + 'JLD_-_Lethal_Xcess_Level_4.mp3')\n",
    "# pygame.mixer.music.set_volume(0.5)\n",
    "# pygame.mixer.music.play(-1) # 무한 반복\n",
    "\n",
    "attack_sound = pygame.mixer.Sound(location_url + 'missile.wav')\n",
    "attack_sound.set_volume(0.3)\n",
    "\n",
    "explosion_sound = pygame.mixer.Sound(location_url + 'explosion.wav')\n",
    "explosion_sound.set_volume(0.3)\n",
    "\n",
    "game_over_sound = pygame.mixer.Sound(location_url + 'game_over.wav')\n",
    "game_over_sound.set_volume(0.3)\n",
    "\n",
    "\n",
    "# 화면 스크린 생성\n",
    "screen = pygame.display.set_mode((SCREEN_WIDTH, SCREEN_HEIGHT)) \n",
    "clock = pygame.time.Clock() "
   ]
  }
 ],
 "metadata": {
  "kernelspec": {
   "display_name": "Python 3 (ipykernel)",
   "language": "python",
   "name": "python3"
  },
  "language_info": {
   "codemirror_mode": {
    "name": "ipython",
    "version": 3
   },
   "file_extension": ".py",
   "mimetype": "text/x-python",
   "name": "python",
   "nbconvert_exporter": "python",
   "pygments_lexer": "ipython3",
   "version": "3.9.13"
  }
 },
 "nbformat": 4,
 "nbformat_minor": 5
}
