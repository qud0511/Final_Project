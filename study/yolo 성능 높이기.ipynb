{
 "cells": [
  {
   "cell_type": "markdown",
   "id": "8336bb2f-352a-4d0e-bbfb-9b2fdf98a821",
   "metadata": {},
   "source": [
    "https://lynnshin.tistory.com/47\n",
    "https://docs.ultralytics.com/tutorials/training-tips-best-results/\n",
    "\n",
    "https://lynnshin.tistory.com/48\n",
    "https://app.clear.ml/datasets"
   ]
  },
  {
   "cell_type": "markdown",
   "id": "69a4199b-98a5-45fb-9025-c4e89b583fdc",
   "metadata": {},
   "source": [
    "## yolo v5\n",
    "- Background image 넣기\n",
    "- Pretrained weights 사용하기.. 등등 사이트 참조"
   ]
  },
  {
   "cell_type": "code",
   "execution_count": null,
   "id": "3de0c3b2-c271-4808-99d3-e0b2d16482e7",
   "metadata": {},
   "outputs": [],
   "source": []
  }
 ],
 "metadata": {
  "kernelspec": {
   "display_name": "Python 3 (ipykernel)",
   "language": "python",
   "name": "python3"
  },
  "language_info": {
   "codemirror_mode": {
    "name": "ipython",
    "version": 3
   },
   "file_extension": ".py",
   "mimetype": "text/x-python",
   "name": "python",
   "nbconvert_exporter": "python",
   "pygments_lexer": "ipython3",
   "version": "3.9.12"
  }
 },
 "nbformat": 4,
 "nbformat_minor": 5
}
