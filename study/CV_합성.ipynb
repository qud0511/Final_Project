{
 "cells": [
  {
   "cell_type": "code",
   "execution_count": 1,
   "id": "75f4a4af-ee41-4e3a-a0b0-d665dc37212e",
   "metadata": {},
   "outputs": [],
   "source": [
    "# 사람 얼굴과 해골 합성하기 (workshop_two_face.py)"
   ]
  },
  {
   "cell_type": "code",
   "execution_count": 27,
   "id": "8151610b-3f4e-46f8-ac48-45f189218fc6",
   "metadata": {},
   "outputs": [],
   "source": [
    "import cv2\n",
    "import numpy as np\n",
    "import matplotlib.pylab as plt"
   ]
  },
  {
   "cell_type": "code",
   "execution_count": 28,
   "id": "d3e0fb9d-f480-4133-b79c-12d5e30e9034",
   "metadata": {},
   "outputs": [],
   "source": [
    "# 영상의 15%를 알파 블렌딩의 범위로 지정\n",
    "alpha_width_rate = 15"
   ]
  },
  {
   "cell_type": "code",
   "execution_count": 33,
   "id": "a008ed10-bb46-4c5a-8fec-6a9e5e59b09d",
   "metadata": {},
   "outputs": [],
   "source": [
    "# 합성할 두 영상 읽기\n",
    "img_face = cv2.imread('/data/img/병준.jpg')\n",
    "img_skull = cv2.imread('/data/img/해골.png')"
   ]
  },
  {
   "cell_type": "code",
   "execution_count": 34,
   "id": "6b7c4902-ab47-4244-a19f-7d43e2f6841a",
   "metadata": {},
   "outputs": [],
   "source": [
    "img_face"
   ]
  },
  {
   "cell_type": "code",
   "execution_count": 35,
   "id": "79340e0a-1dcc-4273-9fc2-56a5dda363ad",
   "metadata": {},
   "outputs": [
    {
     "ename": "TypeError",
     "evalue": "'NoneType' object is not subscriptable",
     "output_type": "error",
     "traceback": [
      "\u001b[1;31m---------------------------------------------------------------------------\u001b[0m",
      "\u001b[1;31mTypeError\u001b[0m                                 Traceback (most recent call last)",
      "Input \u001b[1;32mIn [35]\u001b[0m, in \u001b[0;36m<cell line: 1>\u001b[1;34m()\u001b[0m\n\u001b[1;32m----> 1\u001b[0m plt\u001b[38;5;241m.\u001b[39mimshow(\u001b[43mimg_face\u001b[49m\u001b[43m[\u001b[49m\u001b[43m:\u001b[49m\u001b[43m,\u001b[49m\u001b[43m:\u001b[49m\u001b[43m,\u001b[49m\u001b[43m:\u001b[49m\u001b[43m:\u001b[49m\u001b[38;5;241;43m-\u001b[39;49m\u001b[38;5;241;43m1\u001b[39;49m\u001b[43m]\u001b[49m)\n",
      "\u001b[1;31mTypeError\u001b[0m: 'NoneType' object is not subscriptable"
     ]
    }
   ],
   "source": [
    "plt.imshow(img_face[:,:,::-1])"
   ]
  },
  {
   "cell_type": "code",
   "execution_count": 36,
   "id": "d48d15e5-fbfa-494d-a181-7c2d7d2e6382",
   "metadata": {},
   "outputs": [
    {
     "ename": "SyntaxError",
     "evalue": "invalid syntax (3272484039.py, line 1)",
     "output_type": "error",
     "traceback": [
      "\u001b[1;36m  Input \u001b[1;32mIn [36]\u001b[1;36m\u001b[0m\n\u001b[1;33m    cv2.\u001b[0m\n\u001b[1;37m        ^\u001b[0m\n\u001b[1;31mSyntaxError\u001b[0m\u001b[1;31m:\u001b[0m invalid syntax\n"
     ]
    }
   ],
   "source": [
    "cv2."
   ]
  },
  {
   "cell_type": "code",
   "execution_count": 5,
   "id": "e8986fc6-5466-4aeb-bead-144e36bf58f7",
   "metadata": {},
   "outputs": [
    {
     "ename": "AttributeError",
     "evalue": "'NoneType' object has no attribute 'shape'",
     "output_type": "error",
     "traceback": [
      "\u001b[1;31m---------------------------------------------------------------------------\u001b[0m",
      "\u001b[1;31mAttributeError\u001b[0m                            Traceback (most recent call last)",
      "Input \u001b[1;32mIn [5]\u001b[0m, in \u001b[0;36m<cell line: 12>\u001b[1;34m()\u001b[0m\n\u001b[0;32m      9\u001b[0m img_comp \u001b[38;5;241m=\u001b[39m np\u001b[38;5;241m.\u001b[39mzeros_like(img_face)\n\u001b[0;32m     11\u001b[0m \u001b[38;5;66;03m# 연산에 필요한 좌표 계산\u001b[39;00m\n\u001b[1;32m---> 12\u001b[0m height, width \u001b[38;5;241m=\u001b[39m \u001b[43mimg_face\u001b[49m\u001b[38;5;241;43m.\u001b[39;49m\u001b[43mshape\u001b[49m[:\u001b[38;5;241m2\u001b[39m]\n\u001b[0;32m     13\u001b[0m middle \u001b[38;5;241m=\u001b[39m width\u001b[38;5;241m/\u001b[39m\u001b[38;5;241m/\u001b[39m\u001b[38;5;241m2\u001b[39m                             \u001b[38;5;66;03m# 영상의 중앙 좌표\u001b[39;00m\n\u001b[0;32m     14\u001b[0m alpha_width \u001b[38;5;241m=\u001b[39m width \u001b[38;5;241m*\u001b[39m alpha_width_rate \u001b[38;5;241m/\u001b[39m\u001b[38;5;241m/\u001b[39m \u001b[38;5;241m100\u001b[39m \u001b[38;5;66;03m# 알파 블렌딩 범위\u001b[39;00m\n",
      "\u001b[1;31mAttributeError\u001b[0m: 'NoneType' object has no attribute 'shape'"
     ]
    }
   ],
   "source": [
    "\n",
    "# 합성할 두 영상 읽기\n",
    "img_face = cv2.imread('/data/img/병준.jpg')\n",
    "img_skull = cv2.imread('/data/img/해골.png')\n",
    "\n",
    "# 입력 영상과 같은 크기의 결과 영상 준비\n",
    "img_comp = np.zeros_like(img_face)\n",
    "\n",
    "# 연산에 필요한 좌표 계산\n",
    "height, width = img_face.shape[:2]\n",
    "middle = width//2                             # 영상의 중앙 좌표\n",
    "alpha_width = width * alpha_width_rate // 100 # 알파 블렌딩 범위\n",
    "start = middle - alpha_width//2               # 알파 블렌딩 시작 지점\n",
    "step = 100/alpha_width                        # 알파 값 간격\n",
    "\n",
    "# 입력 영상의 절반씩 복사해서 결과 영상에 합성\n",
    "img_comp[:, :middle, : ] = img_face[:, :middle, :].copy()\n",
    "img_comp[:, middle:, :] = img_skull[:, middle:, :].copy()\n",
    "cv2.imshow('half', img_comp)\n",
    "\n",
    "# 알파 값을 바꾸면서 알파 블렌딩 적용\n",
    "for i in range(alpha_width+1 ):\n",
    "    alpha = (100 - step * i) / 100  # 증감 간격에 따른 알파 값 (1~0)\n",
    "    beta = 1 - alpha                # 베타 값 (0~1)\n",
    "    # 알파 블렌딩 적용\n",
    "    img_comp[:, start+i] = img_face[:, start+i] * \\\n",
    "                                alpha + img_skull[:, start+i] * beta\n",
    "    print(i, alpha, beta)\n",
    "    \n",
    "cv2.imshow('half skull', img_comp)\n",
    "cv2.waitKey()\n",
    "cv2.destroyAllWindows()"
   ]
  },
  {
   "cell_type": "code",
   "execution_count": null,
   "id": "342acb69-76c1-4808-aa5f-d7bbc888454a",
   "metadata": {},
   "outputs": [],
   "source": []
  }
 ],
 "metadata": {
  "kernelspec": {
   "display_name": "Python 3 (ipykernel)",
   "language": "python",
   "name": "python3"
  },
  "language_info": {
   "codemirror_mode": {
    "name": "ipython",
    "version": 3
   },
   "file_extension": ".py",
   "mimetype": "text/x-python",
   "name": "python",
   "nbconvert_exporter": "python",
   "pygments_lexer": "ipython3",
   "version": "3.9.13"
  }
 },
 "nbformat": 4,
 "nbformat_minor": 5
}
