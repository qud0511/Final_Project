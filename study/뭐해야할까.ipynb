{
 "cells": [
  {
   "cell_type": "markdown",
   "id": "70a453fc-3182-42c2-af4c-bab2dfb2c27f",
   "metadata": {},
   "source": [
    "1. 노션\n",
    "2. 슬랙, 카톡\n",
    "3. 깃허브\n",
    "4. 참고자료(논문)\n",
    "5. 모듈간 비교\n",
    "6. 자료수집은 어떻게 할 것인지?"
   ]
  },
  {
   "cell_type": "code",
   "execution_count": null,
   "id": "53f07839-a2a4-4ceb-8d55-614068b4011b",
   "metadata": {},
   "outputs": [],
   "source": []
  }
 ],
 "metadata": {
  "kernelspec": {
   "display_name": "Python 3 (ipykernel)",
   "language": "python",
   "name": "python3"
  },
  "language_info": {
   "codemirror_mode": {
    "name": "ipython",
    "version": 3
   },
   "file_extension": ".py",
   "mimetype": "text/x-python",
   "name": "python",
   "nbconvert_exporter": "python",
   "pygments_lexer": "ipython3",
   "version": "3.9.13"
  }
 },
 "nbformat": 4,
 "nbformat_minor": 5
}
