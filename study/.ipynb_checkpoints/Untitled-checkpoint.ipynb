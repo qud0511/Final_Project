{
 "cells": [
  {
   "cell_type": "markdown",
   "id": "fda91b56-7530-416e-8743-fc7279f37b03",
   "metadata": {},
   "source": [
    "https://info-lab.tistory.com/443"
   ]
  },
  {
   "cell_type": "code",
   "execution_count": 4,
   "id": "7b1270ee-781b-4b76-a3a4-cc97c1378103",
   "metadata": {},
   "outputs": [
    {
     "ename": "FileNotFoundError",
     "evalue": "[WinError 3] 지정된 경로를 찾을 수 없습니다: '/Desktop/tmp/1/'",
     "output_type": "error",
     "traceback": [
      "\u001b[1;31m---------------------------------------------------------------------------\u001b[0m",
      "\u001b[1;31mFileNotFoundError\u001b[0m                         Traceback (most recent call last)",
      "Cell \u001b[1;32mIn [4], line 46\u001b[0m\n\u001b[0;32m     44\u001b[0m original_path \u001b[38;5;241m=\u001b[39m \u001b[38;5;124m'\u001b[39m\u001b[38;5;124m/Desktop/tmp/0/\u001b[39m\u001b[38;5;124m'\u001b[39m\n\u001b[0;32m     45\u001b[0m change_path \u001b[38;5;241m=\u001b[39m \u001b[38;5;124m'\u001b[39m\u001b[38;5;124m/Desktop/tmp/1/\u001b[39m\u001b[38;5;124m'\u001b[39m\n\u001b[1;32m---> 46\u001b[0m \u001b[43mchange_img_qualty\u001b[49m\u001b[43m(\u001b[49m\u001b[43moriginal_path\u001b[49m\u001b[43m,\u001b[49m\u001b[43m \u001b[49m\u001b[43mchange_path\u001b[49m\u001b[43m)\u001b[49m\n",
      "Cell \u001b[1;32mIn [4], line 17\u001b[0m, in \u001b[0;36mchange_img_qualty\u001b[1;34m(original_path, change_path, qualty)\u001b[0m\n\u001b[0;32m      9\u001b[0m \u001b[38;5;124;03m\"\"\"\u001b[39;00m\n\u001b[0;32m     10\u001b[0m \u001b[38;5;124;03mChange Image Qualty\u001b[39;00m\n\u001b[0;32m     11\u001b[0m \u001b[38;5;124;03m:param original_path: 원본 경로\u001b[39;00m\n\u001b[1;32m   (...)\u001b[0m\n\u001b[0;32m     14\u001b[0m \u001b[38;5;124;03m:return:\u001b[39;00m\n\u001b[0;32m     15\u001b[0m \u001b[38;5;124;03m\"\"\"\u001b[39;00m\n\u001b[0;32m     16\u001b[0m \u001b[38;5;28;01mif\u001b[39;00m \u001b[38;5;129;01mnot\u001b[39;00m os\u001b[38;5;241m.\u001b[39mpath\u001b[38;5;241m.\u001b[39mexists(change_path):\n\u001b[1;32m---> 17\u001b[0m     \u001b[43mos\u001b[49m\u001b[38;5;241;43m.\u001b[39;49m\u001b[43mmkdir\u001b[49m\u001b[43m(\u001b[49m\u001b[43mchange_path\u001b[49m\u001b[43m)\u001b[49m\n\u001b[0;32m     18\u001b[0m \u001b[38;5;28;01mtry\u001b[39;00m:\n\u001b[0;32m     19\u001b[0m     ims_list \u001b[38;5;241m=\u001b[39m os\u001b[38;5;241m.\u001b[39mlistdir(original_path)\n",
      "\u001b[1;31mFileNotFoundError\u001b[0m: [WinError 3] 지정된 경로를 찾을 수 없습니다: '/Desktop/tmp/1/'"
     ]
    }
   ],
   "source": [
    "#!/usr/bin/env python\n",
    "# -*- coding: utf-8 -*-\n",
    "import os\n",
    "import sys\n",
    "from PIL import Image\n",
    "\n",
    "\n",
    "def change_img_qualty(original_path, change_path, qualty=85):\n",
    "    \"\"\"\n",
    "    Change Image Qualty\n",
    "    :param original_path: 원본 경로\n",
    "    :param change_path: 변경 후 새롭게 저장될 경로\n",
    "    :param qualty: Qualty(품질) 퍼센트(기본 : 85%)\n",
    "    :return:\n",
    "    \"\"\"\n",
    "    if not os.path.exists(change_path):\n",
    "        os.mkdir(change_path)\n",
    "    try:\n",
    "        ims_list = os.listdir(original_path)\n",
    "        ims_list.sort()\n",
    "    except FileNotFoundError as e:\n",
    "        print(\"이미지 원본 디렉터리가 존재하지 않습니다...\")\n",
    "        sys.exit(0)\n",
    "    success_cnt = 0\n",
    "    fail_cnt = 0\n",
    "    for filename in ims_list:\n",
    "        file = original_path + filename\n",
    "        try:\n",
    "            im = Image.open(file)\n",
    "            im.save(os.path.join(change_path, filename), qualty=qualty)\n",
    "            print(\"+ 성공 : {success}\\n  \"\n",
    "                  \"- {success_path}\"\n",
    "                  .format(success=file, success_path=os.path.join(change_path, filename))\n",
    "                  )\n",
    "            success_cnt += 1\n",
    "        except Exception as e:\n",
    "            print(\"+ 실패 : {fail}\".format(fail=file))\n",
    "            fail_cnt += 1\n",
    "    print(\"\\n성공 : {success_cnt} 건 / 실패 : {fail_cnt} 건\".format(success_cnt=success_cnt, fail_cnt=fail_cnt))\n",
    "    sys.exit(0)\n",
    "\n",
    "\n",
    "if __name__ == '__main__':\n",
    "    original_path = '../database/TrainingData/folder1/Images/'\n",
    "    change_path = '/Desktop/tmp/1/'\n",
    "    change_img_qualty(original_path, change_path)"
   ]
  },
  {
   "cell_type": "code",
   "execution_count": null,
   "id": "4b524906-e361-48d3-94a0-99a7f7c851cd",
   "metadata": {},
   "outputs": [],
   "source": []
  }
 ],
 "metadata": {
  "kernelspec": {
   "display_name": "PY38",
   "language": "python",
   "name": "py38"
  },
  "language_info": {
   "codemirror_mode": {
    "name": "ipython",
    "version": 3
   },
   "file_extension": ".py",
   "mimetype": "text/x-python",
   "name": "python",
   "nbconvert_exporter": "python",
   "pygments_lexer": "ipython3",
   "version": "3.8.15"
  }
 },
 "nbformat": 4,
 "nbformat_minor": 5
}
