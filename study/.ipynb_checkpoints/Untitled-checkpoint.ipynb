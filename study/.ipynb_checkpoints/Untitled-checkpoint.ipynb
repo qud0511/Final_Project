{
 "cells": [
  {
   "cell_type": "code",
   "execution_count": 2,
   "id": "5967fa67-fb21-4119-9816-a7f283c3f9b5",
   "metadata": {},
   "outputs": [],
   "source": [
    "import requests\n",
    "from bs4 import BeautifulSoup\n",
    "from selenium import webdriver\n",
    "import pandas as pd\n",
    "import numpy as np\n",
    "import matplotlib.pyplot as plt\n",
    "import platform\n",
    "\n",
    "plt.style.use('ggplot')\n",
    "if platform.system() == 'Windows':\n",
    "    plt.rc('font', family='Malgun Gothic')\n",
    "else:\n",
    "    plt.rc('font', family='AppleGothic')"
   ]
  },
  {
   "cell_type": "code",
   "execution_count": null,
   "id": "2dd9b52d-fe76-4d26-8b02-7350be76d507",
   "metadata": {},
   "outputs": [],
   "source": [
    "def lunch"
   ]
  }
 ],
 "metadata": {
  "kernelspec": {
   "display_name": "Python 3 (ipykernel)",
   "language": "python",
   "name": "python3"
  },
  "language_info": {
   "codemirror_mode": {
    "name": "ipython",
    "version": 3
   },
   "file_extension": ".py",
   "mimetype": "text/x-python",
   "name": "python",
   "nbconvert_exporter": "python",
   "pygments_lexer": "ipython3",
   "version": "3.9.13"
  }
 },
 "nbformat": 4,
 "nbformat_minor": 5
}
