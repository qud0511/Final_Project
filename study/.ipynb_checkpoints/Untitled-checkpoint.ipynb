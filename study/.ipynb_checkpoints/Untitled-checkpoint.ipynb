{
 "cells": [
  {
   "cell_type": "markdown",
   "id": "c09f6245-b3cb-4be6-80bd-72c46332b337",
   "metadata": {},
   "source": [
    "https://labs.brandi.co.kr/2021/01/20/hwangsg.html"
   ]
  },
  {
   "cell_type": "markdown",
   "id": "9a33e679-68d6-4160-9121-e0c750c7f522",
   "metadata": {},
   "source": [
    "https://m.blog.naver.com/PostView.naver?isHttpsRedirect=true&blogId=complusblog&logNo=220975099502"
   ]
  },
  {
   "cell_type": "code",
   "execution_count": null,
   "id": "66e1b585-d5c2-480f-8f21-eb034b8c0dfa",
   "metadata": {},
   "outputs": [],
   "source": []
  }
 ],
 "metadata": {
  "kernelspec": {
   "display_name": "Python 3 (ipykernel)",
   "language": "python",
   "name": "python3"
  },
  "language_info": {
   "codemirror_mode": {
    "name": "ipython",
    "version": 3
   },
   "file_extension": ".py",
   "mimetype": "text/x-python",
   "name": "python",
   "nbconvert_exporter": "python",
   "pygments_lexer": "ipython3",
   "version": "3.9.13"
  }
 },
 "nbformat": 4,
 "nbformat_minor": 5
}
