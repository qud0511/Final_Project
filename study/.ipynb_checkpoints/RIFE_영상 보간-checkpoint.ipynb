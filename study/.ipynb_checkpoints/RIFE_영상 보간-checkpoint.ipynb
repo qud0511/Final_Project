{
 "cells": [
  {
   "cell_type": "markdown",
   "id": "ed465c42-8bb7-4abf-9bd0-cdfc21624833",
   "metadata": {},
   "source": [
    "https://returnclass.tistory.com/55"
   ]
  },
  {
   "cell_type": "code",
   "execution_count": null,
   "id": "27448add-c91e-40d3-aec7-d3ab79c01e55",
   "metadata": {},
   "outputs": [],
   "source": []
  }
 ],
 "metadata": {
  "kernelspec": {
   "display_name": "Python 3 (ipykernel)",
   "language": "python",
   "name": "python3"
  },
  "language_info": {
   "codemirror_mode": {
    "name": "ipython",
    "version": 3
   },
   "file_extension": ".py",
   "mimetype": "text/x-python",
   "name": "python",
   "nbconvert_exporter": "python",
   "pygments_lexer": "ipython3",
   "version": "3.9.13"
  }
 },
 "nbformat": 4,
 "nbformat_minor": 5
}
