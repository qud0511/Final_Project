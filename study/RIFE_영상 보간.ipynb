{
 "cells": [
  {
   "cell_type": "markdown",
   "id": "ed465c42-8bb7-4abf-9bd0-cdfc21624833",
   "metadata": {},
   "source": [
    "https://returnclass.tistory.com/55"
   ]
  },
  {
   "cell_type": "code",
   "execution_count": 1,
   "id": "27448add-c91e-40d3-aec7-d3ab79c01e55",
   "metadata": {},
   "outputs": [
    {
     "name": "stderr",
     "output_type": "stream",
     "text": [
      "'git'��(��) ���� �Ǵ� �ܺ� ����, ������ �� �ִ� ���α׷�, �Ǵ�\n",
      "��ġ ������ �ƴմϴ�.\n",
      "'gdown'��(��) ���� �Ǵ� �ܺ� ����, ������ �� �ִ� ���α׷�, �Ǵ�\n",
      "��ġ ������ �ƴմϴ�.\n",
      "'7z'��(��) ���� �Ǵ� �ܺ� ����, ������ �� �ִ� ���α׷�, �Ǵ�\n",
      "��ġ ������ �ƴմϴ�.\n"
     ]
    }
   ],
   "source": [
    "# !git clone https://github.com/hzwer/arXiv2020-RIFE\n",
    "\n",
    "# !gdown --id 1wsQIhHZ3Eg4_AfCXItFKqqyDMB4NS0Yd\n",
    "# !7z e RIFE_trained_model_HDv2.zip"
   ]
  },
  {
   "cell_type": "code",
   "execution_count": 2,
   "id": "22bf0c49-e1a3-4d88-9055-e7749ac9060c",
   "metadata": {},
   "outputs": [
    {
     "name": "stderr",
     "output_type": "stream",
     "text": [
      "���� ������ �ùٸ��� �ʽ��ϴ�.\n"
     ]
    },
    {
     "name": "stdout",
     "output_type": "stream",
     "text": [
      "[WinError 3] 지정된 경로를 찾을 수 없습니다: '/content/arXiv2020-RIFE/'\n",
      "c:\\Users\\LG\\Git_PBJ\\Final_Project\\study\n"
     ]
    },
    {
     "name": "stderr",
     "output_type": "stream",
     "text": [
      "'mv'��(��) ���� �Ǵ� �ܺ� ����, ������ �� �ִ� ���α׷�, �Ǵ�\n",
      "��ġ ������ �ƴմϴ�.\n",
      "'gdown'��(��) ���� �Ǵ� �ܺ� ����, ������ �� �ִ� ���α׷�, �Ǵ�\n",
      "��ġ ������ �ƴմϴ�.\n"
     ]
    },
    {
     "name": "stdout",
     "output_type": "stream",
     "text": [
      "Defaulting to user installation because normal site-packages is not writeable\n"
     ]
    },
    {
     "name": "stderr",
     "output_type": "stream",
     "text": [
      "ERROR: Could not open requirements file: [Errno 2] No such file or directory: 'requirements.txt'\n",
      "\n",
      "[notice] A new release of pip available: 22.2.2 -> 22.3\n",
      "[notice] To update, run: python.exe -m pip install --upgrade pip\n"
     ]
    }
   ],
   "source": [
    "# !mkdir /content/arXiv2020-RIFE/train_log\n",
    "# !mv *.pkl /content/arXiv2020-RIFE/train_log/\n",
    "# %cd /content/arXiv2020-RIFE/\n",
    "# !gdown --id 1i3xlKb7ax7Y70khcTcuePi6E7crO_dFc\n",
    "# !pip3 install -r requirements.txt"
   ]
  },
  {
   "cell_type": "code",
   "execution_count": 5,
   "id": "25e7975a",
   "metadata": {},
   "outputs": [
    {
     "name": "stderr",
     "output_type": "stream",
     "text": [
      "'nvidia-smi'��(��) ���� �Ǵ� �ܺ� ����, ������ �� �ִ� ���α׷�, �Ǵ�\n",
      "��ġ ������ �ƴմϴ�.\n",
      "Python\n"
     ]
    }
   ],
   "source": [
    "# !nvidia-smi\n",
    "# !python3 inference_video.py --exp=2 --video=demo.mp4 --skip"
   ]
  },
  {
   "cell_type": "code",
   "execution_count": 6,
   "id": "8f8b5534",
   "metadata": {},
   "outputs": [
    {
     "name": "stdout",
     "output_type": "stream",
     "text": [
      "변환 전 총 Frame 갯수: 0\n",
      "변환 전 Fps는  0.0\n",
      "\n",
      "============ 변환 ===========\n",
      "\n",
      "변환 후 총 Frame 갯수: 0\n",
      "변환 후 Fps는 0.0\n"
     ]
    }
   ],
   "source": [
    "import cv2\n",
    "\n",
    "# video_input_path = '/content/arXiv2020-RIFE/demo.mp4'\n",
    "# video_output_path = '/content/arXiv2020-RIFE/demo_4X_100fps.mp4'\n",
    "\n",
    "cap_input = cv2.VideoCapture(video_input_path)\n",
    "frame_cnt_input = int(cap_input.get(cv2.CAP_PROP_FRAME_COUNT))\n",
    "fps_input= cap_input.get(cv2.CAP_PROP_FPS)\n",
    "\n",
    "cap_output = cv2.VideoCapture(video_output_path)\n",
    "frame_cnt_output = int(cap_output.get(cv2.CAP_PROP_FRAME_COUNT))\n",
    "fps_output = cap_output.get(cv2.CAP_PROP_FPS)\n",
    "print('변환 전 총 Frame 갯수:', frame_cnt_input)\n",
    "print('변환 전 Fps는 ',fps_input)\n",
    "print('\\n============ 변환 ===========\\n')\n",
    "print('변환 후 총 Frame 갯수:', frame_cnt_output)\n",
    "print('변환 후 Fps는',fps_output)"
   ]
  },
  {
   "cell_type": "code",
   "execution_count": null,
   "id": "d309ed65",
   "metadata": {},
   "outputs": [],
   "source": []
  }
 ],
 "metadata": {
  "kernelspec": {
   "display_name": "Python 3 (ipykernel)",
   "language": "python",
   "name": "python3"
  },
  "language_info": {
   "codemirror_mode": {
    "name": "ipython",
    "version": 3
   },
   "file_extension": ".py",
   "mimetype": "text/x-python",
   "name": "python",
   "nbconvert_exporter": "python",
   "pygments_lexer": "ipython3",
   "version": "3.9.13"
  },
  "vscode": {
   "interpreter": {
    "hash": "b0fd3393d89c8e052c32682038465376f1d241938b3d854b72533d2f50d061e1"
   }
  }
 },
 "nbformat": 4,
 "nbformat_minor": 5
}
