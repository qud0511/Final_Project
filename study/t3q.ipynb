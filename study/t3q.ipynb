{
 "cells": [
  {
   "cell_type": "markdown",
   "metadata": {
    "pycharm": {
     "name": "#%% md\n"
    }
   },
   "source": [
    "## Module Loading"
   ]
  },
  {
   "cell_type": "code",
   "execution_count": 2,
   "metadata": {
    "collapsed": false,
    "jupyter": {
     "outputs_hidden": false
    },
    "pycharm": {
     "name": "#%%\n"
    }
   },
   "outputs": [],
   "source": [
    "from glob import glob"
   ]
  },
  {
   "cell_type": "markdown",
   "metadata": {
    "pycharm": {
     "name": "#%% md\n"
    }
   },
   "source": [
    "## Code"
   ]
  },
  {
   "cell_type": "code",
   "execution_count": 9,
   "metadata": {
    "collapsed": false,
    "jupyter": {
     "outputs_hidden": false
    },
    "pycharm": {
     "name": "#%%\n"
    }
   },
   "outputs": [
    {
     "name": "stdout",
     "output_type": "stream",
     "text": [
      "Image 갯수: 2303\n"
     ]
    }
   ],
   "source": [
    "# 이미지 파일 리스트 생성\n",
    "img_list = glob('../TrainingData/folder1/Images/*.png')\n",
    "print(f'Image 갯수: {len(img_list)}')"
   ]
  },
  {
   "cell_type": "code",
   "execution_count": 11,
   "metadata": {
    "collapsed": false,
    "jupyter": {
     "outputs_hidden": false
    },
    "pycharm": {
     "name": "#%%\n"
    }
   },
   "outputs": [
    {
     "name": "stdout",
     "output_type": "stream",
     "text": [
      "train_img_list 갯수: 1842, val_img_list 갯수: 461\n"
     ]
    }
   ],
   "source": [
    "# train/validation dataset 분리\n",
    "from sklearn.model_selection import train_test_split\n",
    "\n",
    "train_img_list, val_img_list = train_test_split(img_list,\n",
    "                                                test_size=0.2,\n",
    "                                                random_state=42)\n",
    "print(f'train_img_list 갯수: {len(train_img_list)}, val_img_list 갯수: {len(val_img_list)}')"
   ]
  },
  {
   "cell_type": "code",
   "execution_count": 15,
   "metadata": {
    "collapsed": false,
    "jupyter": {
     "outputs_hidden": false
    },
    "pycharm": {
     "name": "#%%\n"
    }
   },
   "outputs": [],
   "source": [
    "# train/val 이미지 경로 txt파일로 저장\n",
    "with open(r'C:\\Users\\LG\\GIT_BBJ\\Final_Project\\TrainingData\\folder1\\train.txt', 'w') as f:\n",
    "    f.write('\\n'.join(train_img_list) + '\\n')\n",
    "\n",
    "with open(r'C:\\Users\\LG\\GIT_BBJ\\Final_Project\\TrainingData\\folder1\\val.txt', 'w') as f:\n",
    "    f.write('\\n'.join(val_img_list) + '\\n')"
   ]
  },
  {
   "cell_type": "code",
   "execution_count": 16,
   "metadata": {
    "collapsed": false,
    "jupyter": {
     "outputs_hidden": false
    },
    "pycharm": {
     "name": "#%%\n"
    }
   },
   "outputs": [
    {
     "name": "stdout",
     "output_type": "stream",
     "text": [
      "data.yaml 파일 정보: {'names': ['Animals(Dolls)', 'Person', 'Garbage bag & sacks', 'Construction signs & Parking prohibited board', 'Traffic cone', 'Box', 'Stones on road', 'Pothole on road', 'Filled pothole', 'Manhole'], 'nc': 10, 'train': '/Users/LG/database/TrainingData/folder1/train.txt', 'val': '/Users/LG/database/TrainingData/folder1/val.txt'}\n",
      "{'names': ['Animals(Dolls)', 'Person', 'Garbage bag & sacks', 'Construction signs & Parking prohibited board', 'Traffic cone', 'Box', 'Stones on road', 'Pothole on road', 'Filled pothole', 'Manhole'], 'nc': 10, 'train': 'C:\\\\Users\\\\LG\\\\GIT_BBJ\\\\Final_Project\\\\TrainingData\\\\folder1\\\\train.txt', 'val': 'C:\\\\Users\\\\LG\\\\GIT_BBJ\\\\Final_Project\\\\TrainingData\\\\folder1\\\\val.txt'}\n"
     ]
    }
   ],
   "source": [
    "# ymal 파일 정보 확인\n",
    "import yaml\n",
    "\n",
    "with open(r'C:\\Users\\LG\\GIT_BBJ\\Final_Project\\TrainingData\\folder1\\data.yaml', 'r') as f:\n",
    "    data = yaml.full_load(f)\n",
    "\n",
    "print(f'data.yaml 파일 정보: {data}')\n",
    "\n",
    "data['train'] = r'C:\\Users\\LG\\GIT_BBJ\\Final_Project\\TrainingData\\folder1\\train.txt'\n",
    "data['val'] = r'C:\\Users\\LG\\GIT_BBJ\\Final_Project\\TrainingData\\folder1\\val.txt'\n",
    "\n",
    "with open(r'C:\\Users\\LG\\GIT_BBJ\\Final_Project\\TrainingData\\folder1\\data.yaml', 'w') as f:\n",
    "    yaml.dump(data, f)\n",
    "\n",
    "print(data)"
   ]
  },
  {
   "cell_type": "markdown",
   "metadata": {
    "pycharm": {
     "name": "#%% md\n"
    }
   },
   "source": [
    "## Model Training"
   ]
  },
  {
   "cell_type": "markdown",
   "metadata": {
    "pycharm": {
     "name": "#%% md\n"
    }
   },
   "source": [
    "- cd C:\\Users\\LG\\GIT_BBJ\\Final_Project\\yolov5\n",
    "\n",
    "- python train.py --batch 16 --epochs 2 --data C:\\Users\\LG\\GIT_BBJ\\Final_Project\\TrainingData\\folder1\\data.yaml --cfg C:\\Users\\LG\\GIT_BBJ\\Final_Project\\yolov5\\models\\yolov5s.yaml --weights yolov5s.pt --name downSamplingData_yolov5s_results"
   ]
  },
  {
   "cell_type": "code",
   "execution_count": null,
   "metadata": {},
   "outputs": [],
   "source": []
  },
  {
   "cell_type": "code",
   "execution_count": 1,
   "metadata": {},
   "outputs": [
    {
     "name": "stdout",
     "output_type": "stream",
     "text": [
      "C:\\Users\\LG\\GIT_BBJ\\Final_Project\\yolov5\n"
     ]
    }
   ],
   "source": [
    "%cd C:\\Users\\LG\\GIT_BBJ\\Final_Project\\yolov5"
   ]
  },
  {
   "cell_type": "code",
   "execution_count": 7,
   "metadata": {},
   "outputs": [
    {
     "name": "stdout",
     "output_type": "stream",
     "text": [
      "\u001b[34m\u001b[1mgithub: \u001b[0mskipping check (not a git repository), for updates see https://github.com/ultralytics/yolov5\n",
      "'cp949' codec can't decode byte 0xf0 in position 9: illegal multibyte sequence\n",
      "ClearML Task: overwriting (reusing) task id=0b80ebe2aa1c44afbe829d2800f2a358\n",
      "2022-11-16 15:20:49,034 - clearml.Task - INFO - No repository found, storing script code instead\n",
      "ClearML results page: https://app.clear.ml/projects/17dd5e3b80bd4fe49f795d3e6010dbb7/experiments/0b80ebe2aa1c44afbe829d2800f2a358/output/log\n",
      "ClearML Monitor: GPU monitoring failed getting GPU reading, switching off GPU monitoring\n"
     ]
    },
    {
     "name": "stderr",
     "output_type": "stream",
     "text": [
      "\u001b[34m\u001b[1mtrain: \u001b[0mweights=yolov5s.pt, cfg=C:\\Users\\LG\\GIT_BBJ\\Final_Project\\yolov5\\models\\yolov5s.yaml, data=C:\\Users\\LG\\GIT_BBJ\\Final_Project\\TrainingData\\folder1\\data.yaml, hyp=data\\hyps\\hyp.scratch-low.yaml, epochs=2, batch_size=16, imgsz=640, rect=False, resume=False, nosave=False, noval=False, noautoanchor=False, noplots=False, evolve=None, bucket=, cache=None, image_weights=False, device=, multi_scale=False, single_cls=False, optimizer=SGD, sync_bn=False, workers=8, project=runs\\train, name=downSamplingData_yolov5s_results, exist_ok=False, quad=False, cos_lr=False, label_smoothing=0.0, patience=100, freeze=[0], save_period=-1, seed=0, local_rank=-1, entity=None, upload_dataset=False, bbox_interval=-1, artifact_alias=latest\n",
      "YOLOv5  2022-11-16 Python-3.8.15 torch-1.13.0+cpu CPU\n",
      "\n",
      "\u001b[34m\u001b[1mhyperparameters: \u001b[0mlr0=0.01, lrf=0.01, momentum=0.937, weight_decay=0.0005, warmup_epochs=3.0, warmup_momentum=0.8, warmup_bias_lr=0.1, box=0.05, cls=0.5, cls_pw=1.0, obj=1.0, obj_pw=1.0, iou_t=0.2, anchor_t=4.0, fl_gamma=0.0, hsv_h=0.015, hsv_s=0.7, hsv_v=0.4, degrees=0.0, translate=0.1, scale=0.5, shear=0.0, perspective=0.0, flipud=0.0, fliplr=0.5, mosaic=1.0, mixup=0.0, copy_paste=0.0\n",
      "\u001b[34m\u001b[1mTensorBoard: \u001b[0mStart with 'tensorboard --logdir runs\\train', view at http://localhost:6006/\n",
      "COMET WARNING: Comet credentials have not been set. Comet will default to offline logging. Please set your credentials to enable online logging.\n",
      "COMET WARNING: Comet has disabled auto-logging functionality as it has been imported after the following ML modules: torch, tensorboard. Metrics and hyperparameters can still be logged using comet_ml.log_metrics() and comet_ml.log_parameters()\n",
      "COMET INFO: Using 'C:\\\\Users\\\\LG\\\\GIT_BBJ\\\\Final_Project\\\\yolov5\\\\.cometml-runs' path as offline directory. Pass 'offline_directory' parameter into constructor or set the 'COMET_OFFLINE_DIRECTORY' environment variable to manually choose where to store offline experiment archives.\n",
      "COMET WARNING: Native output logging mode is not available, falling back to basic output logging\n",
      "Traceback (most recent call last):\n",
      "  File \"train.py\", line 630, in <module>\n",
      "    main(opt)\n",
      "  File \"train.py\", line 524, in main\n",
      "    train(opt.hyp, opt, device, callbacks)\n",
      "  File \"train.py\", line 93, in train\n",
      "    loggers = Loggers(save_dir, weights, opt, hyp, LOGGER)  # loggers instance\n",
      "  File \"C:\\Users\\LG\\GIT_BBJ\\Final_Project\\yolov5\\utils\\loggers\\__init__.py\", line 132, in __init__\n",
      "    self.comet_logger = CometLogger(self.opt, self.hyp)\n",
      "  File \"C:\\Users\\LG\\GIT_BBJ\\Final_Project\\yolov5\\utils\\loggers\\comet\\__init__.py\", line 97, in __init__\n",
      "    self.data_dict = self.check_dataset(self.opt.data)\n",
      "  File \"C:\\Users\\LG\\GIT_BBJ\\Final_Project\\yolov5\\utils\\loggers\\comet\\__init__.py\", line 234, in check_dataset\n",
      "    if data_config['path'].startswith(COMET_PREFIX):\n",
      "KeyError: 'path'\n",
      "COMET INFO: ----------------------------------\n",
      "COMET INFO: Comet.ml OfflineExperiment Summary\n",
      "COMET INFO: ----------------------------------\n",
      "COMET INFO:   Data:\n",
      "COMET INFO:     display_summary_level : 1\n",
      "COMET INFO:     url                   : [OfflineExperiment will get URL after upload]\n",
      "COMET INFO:   Others:\n",
      "COMET INFO:     offline_experiment : True\n",
      "COMET INFO:   Uploads:\n",
      "COMET INFO:     conda-environment-definition : 1\n",
      "COMET INFO:     conda-info                   : 1\n",
      "COMET INFO:     conda-specification          : 1\n",
      "COMET INFO:     environment details          : 1\n",
      "COMET INFO:     installed packages           : 1\n",
      "COMET INFO: ----------------------------------\n",
      "COMET WARNING: Experiment Name is generated at upload time for Offline Experiments unless set explicitly with Experiment.set_name\n",
      "COMET WARNING: Comet has disabled auto-logging functionality as it has been imported after the following ML modules: torch, tensorboard. Metrics and hyperparameters can still be logged using comet_ml.log_metrics() and comet_ml.log_parameters()\n",
      "COMET INFO: Still saving offline stats to messages file before program termination (may take up to 120 seconds)\n",
      "COMET INFO: Starting saving the offline archive\n",
      "COMET INFO: To upload this offline experiment, run:\n",
      "    comet upload C:\\Users\\LG\\GIT_BBJ\\Final_Project\\yolov5\\.cometml-runs\\43d15573c6804c3a8e899fd995cfd401.zip\n"
     ]
    }
   ],
   "source": [
    "!python train.py --batch 16 --epochs 2 --data C:\\Users\\LG\\GIT_BBJ\\Final_Project\\TrainingData\\folder1\\data.yaml --cfg C:\\Users\\LG\\GIT_BBJ\\Final_Project\\yolov5\\models\\yolov5s.yaml --weights yolov5s.pt --name downSamplingData_yolov5s_results"
   ]
  },
  {
   "cell_type": "markdown",
   "metadata": {},
   "source": [
    "- ClearML: run 'pip install clearml' to automatically track, visualize and remotely train YOLOv5  in ClearML\n",
    "\n",
    "- Comet: run 'pip install comet_ml' to automatically track and visualize YOLOv5  runs in Comet\n",
    "\n",
    "\n",
    "- tensorboard --logdir runs\\train 또는 http://localhost:6006/"
   ]
  },
  {
   "cell_type": "code",
   "execution_count": null,
   "metadata": {},
   "outputs": [],
   "source": []
  },
  {
   "cell_type": "markdown",
   "metadata": {},
   "source": [
    "https://app.clear.ml/datasets"
   ]
  },
  {
   "cell_type": "code",
   "execution_count": null,
   "metadata": {},
   "outputs": [],
   "source": [
    "# create example dataset\n",
    "from clearml import StorageManager, Dataset\n",
    "\n",
    "# # Download sample csv file\n",
    "# csv_file = StorageManager.get_local_copy(\n",
    "#     remote_url=\"https://vincentarelbundock.github.io/Rdatasets/csv/AER/Affairs.csv\"\n",
    "# )\n",
    "\n",
    "# Create a dataset with ClearML`s Dataset class\n",
    "dataset = Dataset.create(\n",
    "    dataset_project=\"DatasetProject\", dataset_name=\"T3Q\"\n",
    ")\n",
    "\n",
    "# add the example csv\n",
    "# dataset.add_files(path=csv_file)\n",
    "\n",
    "dataset.add_files(path=csv_file)\n",
    "\n",
    "# Upload dataset to ClearML server (customizable)\n",
    "dataset.upload()\n",
    "\n",
    "# commit dataset changes\n",
    "dataset.finalize()"
   ]
  }
 ],
 "metadata": {
  "kernelspec": {
   "display_name": "PY38",
   "language": "python",
   "name": "py38"
  },
  "language_info": {
   "codemirror_mode": {
    "name": "ipython",
    "version": 3
   },
   "file_extension": ".py",
   "mimetype": "text/x-python",
   "name": "python",
   "nbconvert_exporter": "python",
   "pygments_lexer": "ipython3",
   "version": "3.8.15"
  },
  "vscode": {
   "interpreter": {
    "hash": "146e877987a5ca10c5ba40ec3e7a25002bcba56c71dc1c36e6a7a19a2012e1b9"
   }
  }
 },
 "nbformat": 4,
 "nbformat_minor": 4
}
