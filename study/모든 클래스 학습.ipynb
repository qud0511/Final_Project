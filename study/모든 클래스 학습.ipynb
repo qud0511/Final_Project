{
 "cells": [
  {
   "cell_type": "code",
   "execution_count": 1,
   "id": "a6c5cecf-82d3-4f23-b5c7-b4e507e971b4",
   "metadata": {},
   "outputs": [
    {
     "ename": "FileNotFoundError",
     "evalue": "[WinError 3] 지정된 경로를 찾을 수 없습니다: 'C:\\\\Users\\\\LG\\\\Git_PBJ\\\\Final_Project\\\\평가용데이터셋\\\\data'",
     "output_type": "error",
     "traceback": [
      "\u001b[1;31m---------------------------------------------------------------------------\u001b[0m",
      "\u001b[1;31mFileNotFoundError\u001b[0m                         Traceback (most recent call last)",
      "Input \u001b[1;32mIn [1]\u001b[0m, in \u001b[0;36m<cell line: 35>\u001b[1;34m()\u001b[0m\n\u001b[0;32m     32\u001b[0m         shutil\u001b[38;5;241m.\u001b[39mmove(\u001b[38;5;124m'\u001b[39m\u001b[38;5;124mchart.png\u001b[39m\u001b[38;5;124m'\u001b[39m, move_chart)\n\u001b[0;32m     35\u001b[0m \u001b[38;5;28;01mif\u001b[39;00m \u001b[38;5;18m__name__\u001b[39m \u001b[38;5;241m==\u001b[39m \u001b[38;5;124m'\u001b[39m\u001b[38;5;124m__main__\u001b[39m\u001b[38;5;124m'\u001b[39m:\n\u001b[1;32m---> 36\u001b[0m     \u001b[43mall_training\u001b[49m\u001b[43m(\u001b[49m\u001b[43m)\u001b[49m\n",
      "Input \u001b[1;32mIn [1]\u001b[0m, in \u001b[0;36mall_training\u001b[1;34m()\u001b[0m\n\u001b[0;32m     13\u001b[0m DB_PATH \u001b[38;5;241m=\u001b[39m \u001b[38;5;124m'\u001b[39m\u001b[38;5;124m../평가용데이터셋/data\u001b[39m\u001b[38;5;124m'\u001b[39m\n\u001b[0;32m     14\u001b[0m DB_PATH \u001b[38;5;241m=\u001b[39m os\u001b[38;5;241m.\u001b[39mpath\u001b[38;5;241m.\u001b[39mabspath(DB_PATH)\n\u001b[1;32m---> 15\u001b[0m cfg_list \u001b[38;5;241m=\u001b[39m [f \u001b[38;5;28;01mfor\u001b[39;00m f \u001b[38;5;129;01min\u001b[39;00m \u001b[43mos\u001b[49m\u001b[38;5;241;43m.\u001b[39;49m\u001b[43mlistdir\u001b[49m\u001b[43m(\u001b[49m\u001b[43mDB_PATH\u001b[49m\u001b[43m)\u001b[49m \u001b[38;5;28;01mif\u001b[39;00m f\u001b[38;5;241m.\u001b[39mendswith(\u001b[38;5;124m'\u001b[39m\u001b[38;5;124m.cfg\u001b[39m\u001b[38;5;124m'\u001b[39m)]\n\u001b[0;32m     16\u001b[0m logDir \u001b[38;5;241m=\u001b[39m \u001b[38;5;124m'\u001b[39m\u001b[38;5;124m../시험결과/training_log\u001b[39m\u001b[38;5;124m'\u001b[39m\n\u001b[0;32m     17\u001b[0m createFolder(logDir)\n",
      "\u001b[1;31mFileNotFoundError\u001b[0m: [WinError 3] 지정된 경로를 찾을 수 없습니다: 'C:\\\\Users\\\\LG\\\\Git_PBJ\\\\Final_Project\\\\평가용데이터셋\\\\data'"
     ]
    }
   ],
   "source": [
    "import os\n",
    "import shutil\n",
    "\n",
    "def createFolder(directory):\n",
    "    try:\n",
    "        if not os.path.exists(directory):\n",
    "            os.makedirs(directory)\n",
    "    except OSError:\n",
    "        print('Error: Creating directory.'+ directory)\n",
    "\n",
    "# 해당 경로 하위에 있는 모든 클래스를 모두 학습시키는 함수\n",
    "def all_training():\n",
    "    DB_PATH = '../평가용데이터셋/data'\n",
    "    DB_PATH = os.path.abspath(DB_PATH)\n",
    "    cfg_list = [f for f in os.listdir(DB_PATH) if f.endswith('.cfg')]\n",
    "    logDir = '../시험결과/training_log'\n",
    "    createFolder(logDir)\n",
    "    cfg_list.remove('공사안내_표지판.cfg')\n",
    "    cfg_list.remove('공사현장.cfg')\n",
    "    cfg_list.remove('광고판.cfg')\n",
    "    cfg_list = ['광고판.cfg']\n",
    "    for cfg in cfg_list:\n",
    "        tmp = cfg.split('.')\n",
    "        target_name = tmp[0]\n",
    "        move_chart = os.path.join(logDir, target_name+'.png')\n",
    "        traing_log = os.path.join(logDir, target_name + '.txt')\n",
    "        target_Dir= os.path.join(DB_PATH, target_name)\n",
    "        os.system(\n",
    "            \"darknet.exe detector train {}.data {}.cfg darknet53.conv.74 > {} 2>&1 -gpus 0,1 -map\".format(\n",
    "                target_Dir, target_Dir, traing_log))\n",
    "\n",
    "        shutil.move('chart.png', move_chart)\n",
    "\n",
    "\n",
    "if __name__ == '__main__':\n",
    "    all_training()"
   ]
  },
  {
   "cell_type": "code",
   "execution_count": null,
   "id": "e19e7481-729f-4e39-b553-e249b152961c",
   "metadata": {},
   "outputs": [],
   "source": []
  }
 ],
 "metadata": {
  "kernelspec": {
   "display_name": "Python 3 (ipykernel)",
   "language": "python",
   "name": "python3"
  },
  "language_info": {
   "codemirror_mode": {
    "name": "ipython",
    "version": 3
   },
   "file_extension": ".py",
   "mimetype": "text/x-python",
   "name": "python",
   "nbconvert_exporter": "python",
   "pygments_lexer": "ipython3",
   "version": "3.9.13"
  }
 },
 "nbformat": 4,
 "nbformat_minor": 5
}
