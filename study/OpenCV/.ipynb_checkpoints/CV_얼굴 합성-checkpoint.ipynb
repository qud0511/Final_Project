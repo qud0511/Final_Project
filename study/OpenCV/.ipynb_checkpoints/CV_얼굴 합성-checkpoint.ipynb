{
 "cells": [
  {
   "cell_type": "code",
   "execution_count": 6,
   "id": "faf9c02b-f303-4182-89dc-ce44f2db3f6d",
   "metadata": {},
   "outputs": [],
   "source": [
    "# 사람 얼굴과 해골 합성하기 (workshop_two_face.py)\n",
    "\n",
    "import cv2\n",
    "import numpy as np"
   ]
  },
  {
   "cell_type": "code",
   "execution_count": 7,
   "id": "072d6c89-9920-41c6-8774-a11f3ab844e7",
   "metadata": {},
   "outputs": [],
   "source": [
    "# 영상의 15%를 알파 블렌딩의 범위로 지정\n",
    "alpha_width_rate = 15"
   ]
  },
  {
   "cell_type": "code",
   "execution_count": 8,
   "id": "aa7a1b5c-01e8-4403-8d0a-8d6841071d02",
   "metadata": {},
   "outputs": [],
   "source": [
    "img_face=cv2.imread('/data/img/face.jpg')\n",
    "img_skull=cv2.imread('/data/img/skull.png')"
   ]
  },
  {
   "cell_type": "code",
   "execution_count": 9,
   "id": "0e1f9e85-303f-47d8-909d-5c8af9938f0d",
   "metadata": {},
   "outputs": [],
   "source": [
    "img_face=cv2.resize(img_face, dsize=(224, 224))\n",
    "img_skull=cv2.resize(img_skull, dsize=(224, 224))"
   ]
  },
  {
   "cell_type": "code",
   "execution_count": 10,
   "id": "f5512c9e-2cc0-448a-81e7-96d11e34c81d",
   "metadata": {},
   "outputs": [
    {
     "name": "stdout",
     "output_type": "stream",
     "text": [
      "0 1.0 0.0\n",
      "1 0.9696969696969697 0.030303030303030276\n",
      "2 0.9393939393939393 0.06060606060606066\n",
      "3 0.9090909090909091 0.09090909090909094\n",
      "4 0.8787878787878788 0.12121212121212122\n",
      "5 0.8484848484848484 0.1515151515151516\n",
      "6 0.8181818181818181 0.18181818181818188\n",
      "7 0.7878787878787878 0.21212121212121215\n",
      "8 0.7575757575757575 0.24242424242424254\n",
      "9 0.7272727272727272 0.2727272727272728\n",
      "10 0.6969696969696969 0.3030303030303031\n",
      "11 0.6666666666666665 0.3333333333333335\n",
      "12 0.6363636363636364 0.36363636363636365\n",
      "13 0.6060606060606061 0.3939393939393939\n",
      "14 0.5757575757575758 0.4242424242424242\n",
      "15 0.5454545454545454 0.4545454545454546\n",
      "16 0.5151515151515151 0.48484848484848486\n",
      "17 0.48484848484848486 0.5151515151515151\n",
      "18 0.45454545454545453 0.5454545454545454\n",
      "19 0.4242424242424242 0.5757575757575758\n",
      "20 0.3939393939393939 0.6060606060606061\n",
      "21 0.36363636363636365 0.6363636363636364\n",
      "22 0.33333333333333326 0.6666666666666667\n",
      "23 0.303030303030303 0.696969696969697\n",
      "24 0.2727272727272728 0.7272727272727272\n",
      "25 0.2424242424242425 0.7575757575757576\n",
      "26 0.21212121212121218 0.7878787878787878\n",
      "27 0.18181818181818188 0.8181818181818181\n",
      "28 0.15151515151515155 0.8484848484848484\n",
      "29 0.12121212121212124 0.8787878787878788\n",
      "30 0.09090909090909094 0.9090909090909091\n",
      "31 0.06060606060606062 0.9393939393939393\n",
      "32 0.03030303030303031 0.9696969696969697\n",
      "33 0.0 1.0\n"
     ]
    }
   ],
   "source": [
    "# 입력 영상과 같은 크기의 결과 영상 준비\n",
    "img_comp = np.zeros_like(img_face)\n",
    "\n",
    "# 연산에 필요한 좌표 계산\n",
    "height, width = img_face.shape[:2]\n",
    "middle = width//2                             # 영상의 중앙 좌표\n",
    "alpha_width = width * alpha_width_rate // 100 # 알파 블렌딩 범위\n",
    "start = middle - alpha_width//2               # 알파 블렌딩 시작 지점\n",
    "step = 100/alpha_width                        # 알파 값 간격\n",
    "\n",
    "# 입력 영상의 절반씩 복사해서 결과 영상에 합성\n",
    "img_comp[:, :middle, : ] = img_face[:, :middle, :].copy()\n",
    "img_comp[:, middle:, :] = img_skull[:, middle:, :].copy()\n",
    "cv2.imshow('half', img_comp)\n",
    "\n",
    "# 알파 값을 바꾸면서 알파 블렌딩 적용\n",
    "for i in range(alpha_width+1 ):\n",
    "    alpha = (100 - step * i) / 100  # 증감 간격에 따른 알파 값 (1~0)\n",
    "    beta = 1 - alpha                # 베타 값 (0~1)\n",
    "    # 알파 블렌딩 적용\n",
    "    img_comp[:, start+i] = img_face[:, start+i] * \\\n",
    "                                alpha + img_skull[:, start+i] * beta\n",
    "    print(i, alpha, beta)\n",
    "    \n",
    "cv2.imshow('half skull', img_comp)\n",
    "cv2.waitKey()\n",
    "cv2.destroyAllWindows()\n"
   ]
  },
  {
   "cell_type": "code",
   "execution_count": null,
   "id": "1dd0a523-9bae-4f49-9918-434cef50c6d8",
   "metadata": {},
   "outputs": [],
   "source": []
  },
  {
   "cell_type": "code",
   "execution_count": null,
   "id": "54070b6c-876e-430c-b509-11fbc776436f",
   "metadata": {},
   "outputs": [],
   "source": []
  },
  {
   "cell_type": "code",
   "execution_count": null,
   "id": "8ef40ab9-5d47-41c5-aa26-ef57d9f61c46",
   "metadata": {},
   "outputs": [],
   "source": []
  }
 ],
 "metadata": {
  "kernelspec": {
   "display_name": "Python 3 (ipykernel)",
   "language": "python",
   "name": "python3"
  },
  "language_info": {
   "codemirror_mode": {
    "name": "ipython",
    "version": 3
   },
   "file_extension": ".py",
   "mimetype": "text/x-python",
   "name": "python",
   "nbconvert_exporter": "python",
   "pygments_lexer": "ipython3",
   "version": "3.9.13"
  }
 },
 "nbformat": 4,
 "nbformat_minor": 5
}
