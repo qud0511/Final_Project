{
 "cells": [
  {
   "cell_type": "markdown",
   "id": "2e4852e2-56aa-4952-9bed-c908871c4bc4",
   "metadata": {},
   "source": [
    "https://naniri.tistory.com/23"
   ]
  },
  {
   "cell_type": "markdown",
   "id": "635dcc56-3c17-4257-93d8-0e1060e2cd18",
   "metadata": {},
   "source": [
    "참고 : https://bkshin.tistory.com/entry/OpenCV-25-%EC%9D%B4%EB%AF%B8%EC%A7%80-%EB%A7%A4%EC%B9%AD-%ED%8F%89%EA%B7%A0-%ED%95%B4%EC%8B%9C-%EB%A7%A4%EC%B9%AD-%ED%85%9C%ED%94%8C%EB%A6%BF-%EB%A7%A4%EC%B9%AD"
   ]
  },
  {
   "cell_type": "code",
   "execution_count": null,
   "id": "bb047d91-b2dd-4f69-bc30-e151711cb91e",
   "metadata": {},
   "outputs": [],
   "source": [
    "import pydicom\n",
    "import cv2\n",
    "import os\n",
    "import glob\n",
    "# import matplotlib.pyplot as plt\n",
    "# import gdcm\n",
    "# import numpy as np\n",
    "import shutil\n",
    "\n",
    "\n",
    "# 영상 읽기 및 표시\n",
    "img = cv2.imread('after/ddd.jpg')\n",
    "# cv2.imshow('query', img)\n",
    "\n",
    "# 비교할 영상들이 있는 경로 ---①\n",
    "search_dir = './sample image'\n",
    "\n",
    "# 이동 경로\n",
    "move_dir = './s_image/'\n",
    "\n",
    "\n",
    "gray1 = cv2.cvtColor(img, cv2.COLOR_BGR2GRAY)\n",
    "detector = cv2.SIFT_create()\n",
    "\n",
    "\n",
    "kp1, desc1 = detector.detectAndCompute(gray1, None)\n",
    "\n",
    "FLANN_INDEX_KDTREE = 0\n",
    "index_params = dict(algorithm = FLANN_INDEX_KDTREE, trees = 5)\n",
    "search_params = dict(checks=50)   # or pass empty dictionary\n",
    "matcher = cv2.FlannBasedMatcher(index_params,search_params)\n",
    "\n",
    "# matcher = cv2.BFMatcher(cv2.NORM_HAMMING2)\n",
    "\n",
    "\n",
    "# 이미지 데이타 셋 디렉토리의 모든 영상 파일 경로 ---⑤\n",
    "img_path = glob.glob(search_dir+'/*.jpg')\n",
    "ratio = 0.5  ## 비슷한 비중\n",
    "match_num = 1  ## 비슷한 개수\n",
    "\n",
    "\n",
    "for path in img_path:\n",
    "    # 데이타 셋 영상 한개 읽어서 표시 ---⑥\n",
    "    img2 = cv2.imread(path)\n",
    "    gray2 = cv2.cvtColor(img2, cv2.COLOR_BGR2GRAY)\n",
    "    kp2, desc2 = detector.detectAndCompute(gray2, None)\n",
    "\n",
    "    matches = matcher.knnMatch(desc1, desc2, k=2)\n",
    "    good_matches = [first for first, second in matches \\\n",
    "                    if first.distance < second.distance * ratio]\n",
    "\n",
    "    print(' match : ', len(matches),'\\t good match : ', len(good_matches))\n",
    "    if len(good_matches)>= match_num:\n",
    "        # print('best match : ', len(good_matches))\n",
    "        shutil.move(path, move_dir + path.split(sep=os.sep)[-1])\n",
    "\n",
    "    # print('a')\n",
    "    # if len(good_matches) > 10: # 해밍거리 25% 이내만 출력 ---⑨\n",
    "    #     print('matches:%d/%d' % (len(good_matches), len(matches)))\n",
    "        # cv2.imshow(path, img)\n",
    "    # shutil.copy(path, move_dir+path.split(sep=os.sep)[-1])\n",
    "\n",
    "    # if dst/256 < 0.30: # 해밍거리 25% 이내만 출력 ---⑨\n",
    "    #     print(path, dst/256)\n",
    "    #     # cv2.imshow(path, img)\n",
    "    #     shutil.move(path, move_dir+path.split(sep=os.sep)[-1])\n",
    "\n",
    "\n",
    "\n",
    "cv2.destroyWindow('searching...')\n",
    "cv2.waitKey(0)\n",
    "cv2.destroyAllWindows()"
   ]
  }
 ],
 "metadata": {
  "kernelspec": {
   "display_name": "Python 3 (ipykernel)",
   "language": "python",
   "name": "python3"
  },
  "language_info": {
   "codemirror_mode": {
    "name": "ipython",
    "version": 3
   },
   "file_extension": ".py",
   "mimetype": "text/x-python",
   "name": "python",
   "nbconvert_exporter": "python",
   "pygments_lexer": "ipython3",
   "version": "3.9.13"
  }
 },
 "nbformat": 4,
 "nbformat_minor": 5
}
